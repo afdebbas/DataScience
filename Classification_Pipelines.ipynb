{
  "nbformat": 4,
  "nbformat_minor": 0,
  "metadata": {
    "colab": {
      "name": "Classification_Pipelines.ipynb",
      "version": "0.3.2",
      "provenance": [],
      "collapsed_sections": [
        "bEwM29Llpcao",
        "EYE17pszpca4",
        "0PVJjRBdpcbE",
        "DitCM-yTpcbK",
        "0YrwuDlPpcbP",
        "ttUU_ceXpcbR",
        "R2Je-OhGpcbV",
        "3uUvKWW-pcbY",
        "MFzSrfqUpcbb",
        "AK_r5BLnpcbg",
        "3qQWKpR9pcbl",
        "hXQu6vMCpcbo",
        "M6QrdGNYpcbw",
        "R-hwRBWmpcb4",
        "vLNVXKiCpccF",
        "7dWcRiWWpccJ"
      ],
      "include_colab_link": true
    },
    "language_info": {
      "codemirror_mode": {
        "name": "ipython",
        "version": 3
      },
      "file_extension": ".py",
      "mimetype": "text/x-python",
      "name": "python",
      "nbconvert_exporter": "python",
      "pygments_lexer": "ipython3",
      "version": "3.6.5"
    },
    "kernelspec": {
      "display_name": "Python 3",
      "language": "python",
      "name": "python3"
    }
  },
  "cells": [
    {
      "cell_type": "markdown",
      "metadata": {
        "id": "view-in-github",
        "colab_type": "text"
      },
      "source": [
        "<a href=\"https://colab.research.google.com/github/afdebbas/DataScience/blob/master/Classification_Pipelines.ipynb\" target=\"_parent\"><img src=\"https://colab.research.google.com/assets/colab-badge.svg\" alt=\"Open In Colab\"/></a>"
      ]
    },
    {
      "metadata": {
        "id": "i7lWv9Wipcab",
        "colab_type": "text"
      },
      "cell_type": "markdown",
      "source": [
        "# https://gitlab.com/ppleskov/kaggle-days-dubai"
      ]
    },
    {
      "metadata": {
        "id": "Bby8wFk_pcac",
        "colab_type": "text"
      },
      "cell_type": "markdown",
      "source": [
        "# Ultimate Binary Classification Pipeline"
      ]
    },
    {
      "metadata": {
        "id": "14hDCHGZpcac",
        "colab_type": "text"
      },
      "cell_type": "markdown",
      "source": [
        "## by Pavel Pleskov - Data Scientist at Point API (https://pointapi.com/)\n"
      ]
    },
    {
      "metadata": {
        "id": "6lFsjgKKpcad",
        "colab_type": "text"
      },
      "cell_type": "markdown",
      "source": [
        "https://hackernoon.com/interview-with-kaggle-grandmaster-data-scientist-at-point-api-pavel-pleskov-cc8ca67de249"
      ]
    },
    {
      "metadata": {
        "id": "jODQ1h7Kpcae",
        "colab_type": "text"
      },
      "cell_type": "markdown",
      "source": [
        "## Example"
      ]
    },
    {
      "metadata": {
        "id": "WWSQvGJGpcae",
        "colab_type": "text"
      },
      "cell_type": "markdown",
      "source": [
        "- Humpback Whale Identification https://www.kaggle.com/c/humpback-whale-identification/discussion/82430#latest-482102\n",
        "- Gendered Pronoun Resolution https://www.kaggle.com/c/gendered-pronoun-resolution/discussion/90417#latest-522210"
      ]
    },
    {
      "metadata": {
        "id": "FoV3gjzFpcaf",
        "colab_type": "text"
      },
      "cell_type": "markdown",
      "source": [
        "## Motivation"
      ]
    },
    {
      "metadata": {
        "id": "pE9OXz_Kpcaf",
        "colab_type": "text"
      },
      "cell_type": "markdown",
      "source": [
        "- a lot of algorithms in sklearn and in other libraries, how to choose?\n",
        "- trade-off between computation time and quality/diversity\n",
        "- proper parameter tuning\n",
        "- blending/stacking"
      ]
    },
    {
      "metadata": {
        "id": "qrgJh78Upcag",
        "colab_type": "text"
      },
      "cell_type": "markdown",
      "source": [
        "## What will not be covered"
      ]
    },
    {
      "metadata": {
        "id": "9zf4F7aIpcag",
        "colab_type": "text"
      },
      "cell_type": "markdown",
      "source": [
        "- Naive Bayes, FFM\n",
        "- imbalanced classes\n",
        "- feature engineering\n",
        "- setting up GPU for boosters"
      ]
    },
    {
      "metadata": {
        "id": "-Uf6CU9qpcah",
        "colab_type": "code",
        "colab": {},
        "outputId": "0183e4c3-153e-47cb-8f15-701e35af32d0"
      },
      "cell_type": "code",
      "source": [
        "import pandas as pd\n",
        "import numpy as np\n",
        "import lightgbm as lgb\n",
        "import xgboost as xgb\n",
        "import catboost as cb\n",
        "from catboost import CatBoostClassifier, Pool\n",
        "import random \n",
        "\n",
        "from os import listdir\n",
        "from tqdm import tqdm\n",
        "from os.path import isfile\n",
        "\n",
        "import sklearn\n",
        "from sklearn.metrics import roc_auc_score\n",
        "from sklearn.ensemble import RandomForestClassifier\n",
        "from sklearn.preprocessing import StandardScaler, MinMaxScaler \n",
        "from sklearn.model_selection import StratifiedKFold\n",
        "from sklearn.linear_model import LogisticRegression\n",
        "from sklearn.neighbors import KNeighborsClassifier\n",
        "from sklearn.svm import SVC\n",
        "from sklearn import preprocessing\n",
        "from sklearn.externals import joblib\n",
        "from sklearn.decomposition import TruncatedSVD\n",
        "\n",
        "from bayes_opt import BayesianOptimization\n",
        "from bayes_opt.observer import JSONLogger\n",
        "from bayes_opt.event import Events\n",
        "from bayes_opt.util import load_logs\n",
        "\n",
        "print(\"pandas:\", pd.__version__)\n",
        "print(\"numpy:\", np.__version__)\n",
        "print(\"sklearn:\", sklearn.__version__)\n",
        "print()\n",
        "print(\"lightgbm:\", lgb.__version__)\n",
        "print(\"xgboost:\", xgb.__version__)\n",
        "print(\"catboost:\", cb.__version__)\n",
        "\n",
        "# pip install bayesian-optimization \n",
        "# pip install catboost"
      ],
      "execution_count": 0,
      "outputs": [
        {
          "output_type": "stream",
          "text": [
            "pandas: 0.24.2\n",
            "numpy: 1.16.3\n",
            "sklearn: 0.20.1\n",
            "\n",
            "lightgbm: 2.2.3\n",
            "xgboost: 0.82\n",
            "catboost: 0.14.2\n"
          ],
          "name": "stdout"
        }
      ]
    },
    {
      "metadata": {
        "id": "mZRR58ZOpcak",
        "colab_type": "text"
      },
      "cell_type": "markdown",
      "source": [
        "## Downloading the data"
      ]
    },
    {
      "metadata": {
        "id": "GmjbA-fXpcal",
        "colab_type": "text"
      },
      "cell_type": "markdown",
      "source": [
        "Homesite Quote Conversion"
      ]
    },
    {
      "metadata": {
        "id": "bn8dST00pcal",
        "colab_type": "text"
      },
      "cell_type": "markdown",
      "source": [
        "https://www.kaggle.com/c/homesite-quote-conversion/data"
      ]
    },
    {
      "metadata": {
        "id": "8z9U0jaWpcam",
        "colab_type": "text"
      },
      "cell_type": "markdown",
      "source": [
        "Please follow the link and accept the rules!"
      ]
    },
    {
      "metadata": {
        "id": "c1dgRf1xpcam",
        "colab_type": "code",
        "colab": {}
      },
      "cell_type": "code",
      "source": [
        "unzip input/homesite-quote-conversion.zip"
      ],
      "execution_count": 0,
      "outputs": []
    },
    {
      "metadata": {
        "id": "bEwM29Llpcao",
        "colab_type": "text"
      },
      "cell_type": "markdown",
      "source": [
        "## Preprocessing"
      ]
    },
    {
      "metadata": {
        "id": "IKsJ_s_epcao",
        "colab_type": "code",
        "colab": {}
      },
      "cell_type": "code",
      "source": [
        "train = pd.read_csv('train.csv')\n",
        "test = pd.read_csv('test.csv')"
      ],
      "execution_count": 0,
      "outputs": []
    },
    {
      "metadata": {
        "id": "g8Jm7We8pcaq",
        "colab_type": "text"
      },
      "cell_type": "markdown",
      "source": [
        "Using train 10% subsample in order to fit RAM on laptop"
      ]
    },
    {
      "metadata": {
        "id": "x1DTuKU3pcar",
        "colab_type": "code",
        "colab": {}
      },
      "cell_type": "code",
      "source": [
        "train = train.sample(frac=0.1, random_state=42) # comment if you want to run on entire set (takes longer time)\n",
        "train.reset_index(drop=True, inplace=True)"
      ],
      "execution_count": 0,
      "outputs": []
    },
    {
      "metadata": {
        "id": "EfbhmoWRpcas",
        "colab_type": "text"
      },
      "cell_type": "markdown",
      "source": [
        "Dataset seems to be balanced enough"
      ]
    },
    {
      "metadata": {
        "id": "658ODkjepcat",
        "colab_type": "code",
        "colab": {},
        "outputId": "b2b9ec0b-a592-4ffe-f03d-ac428cd1c759"
      },
      "cell_type": "code",
      "source": [
        "train.QuoteConversion_Flag.value_counts()"
      ],
      "execution_count": 0,
      "outputs": [
        {
          "output_type": "execute_result",
          "data": {
            "text/plain": [
              "0    21180\n",
              "1     4895\n",
              "Name: QuoteConversion_Flag, dtype: int64"
            ]
          },
          "metadata": {
            "tags": []
          },
          "execution_count": 4
        }
      ]
    },
    {
      "metadata": {
        "id": "_gfkrivWpcaw",
        "colab_type": "text"
      },
      "cell_type": "markdown",
      "source": [
        "Dealing with dates and categorical variables"
      ]
    },
    {
      "metadata": {
        "id": "5cGO2iWfpcaw",
        "colab_type": "code",
        "colab": {},
        "outputId": "19bfdddd-1a65-4213-dbdc-437fcbdaf86f"
      },
      "cell_type": "code",
      "source": [
        "# https://www.kaggle.com/tunguz/xgboost-benchmark-1\n",
        "\n",
        "y = train.QuoteConversion_Flag.values\n",
        "train = train.drop(['QuoteNumber', 'QuoteConversion_Flag'], axis=1)\n",
        "test = test.drop('QuoteNumber', axis=1)\n",
        "\n",
        "# Lets play with some dates\n",
        "train['Date'] = pd.to_datetime(pd.Series(train['Original_Quote_Date']))\n",
        "train = train.drop('Original_Quote_Date', axis=1)\n",
        "\n",
        "test['Date'] = pd.to_datetime(pd.Series(test['Original_Quote_Date']))\n",
        "test = test.drop('Original_Quote_Date', axis=1)\n",
        "\n",
        "train['Year'] = train['Date'].apply(lambda x: int(str(x)[:4]))\n",
        "train['Month'] = train['Date'].apply(lambda x: int(str(x)[5:7]))\n",
        "train['weekday'] = train['Date'].dt.dayofweek\n",
        "\n",
        "test['Year'] = test['Date'].apply(lambda x: int(str(x)[:4]))\n",
        "test['Month'] = test['Date'].apply(lambda x: int(str(x)[5:7]))\n",
        "test['weekday'] = test['Date'].dt.dayofweek\n",
        "\n",
        "train = train.drop('Date', axis=1)\n",
        "test = test.drop('Date', axis=1)\n",
        "\n",
        "train = train.fillna(-1)\n",
        "test = test.fillna(-1)\n",
        "\n",
        "for f in tqdm(train.columns):\n",
        "    if train[f].dtype=='object':\n",
        "        #print(f)\n",
        "        lbl = preprocessing.LabelEncoder()\n",
        "        lbl.fit(list(train[f].values) + list(test[f].values))\n",
        "        train[f] = lbl.transform(list(train[f].values))\n",
        "        test[f] = lbl.transform(list(test[f].values))\n",
        "        \n",
        "# train-test discrepancy analysis is skipped"
      ],
      "execution_count": 0,
      "outputs": [
        {
          "output_type": "stream",
          "text": [
            "100%|██████████| 299/299 [00:03<00:00, 91.48it/s]\n"
          ],
          "name": "stderr"
        }
      ]
    },
    {
      "metadata": {
        "id": "3MOsSlZzpcaz",
        "colab_type": "code",
        "colab": {},
        "outputId": "f06acbf1-4cd8-4011-f088-caa9378c5332"
      },
      "cell_type": "code",
      "source": [
        "train.tail()"
      ],
      "execution_count": 0,
      "outputs": [
        {
          "output_type": "execute_result",
          "data": {
            "text/html": [
              "<div>\n",
              "<style scoped>\n",
              "    .dataframe tbody tr th:only-of-type {\n",
              "        vertical-align: middle;\n",
              "    }\n",
              "\n",
              "    .dataframe tbody tr th {\n",
              "        vertical-align: top;\n",
              "    }\n",
              "\n",
              "    .dataframe thead th {\n",
              "        text-align: right;\n",
              "    }\n",
              "</style>\n",
              "<table border=\"1\" class=\"dataframe\">\n",
              "  <thead>\n",
              "    <tr style=\"text-align: right;\">\n",
              "      <th></th>\n",
              "      <th>Field6</th>\n",
              "      <th>Field7</th>\n",
              "      <th>Field8</th>\n",
              "      <th>Field9</th>\n",
              "      <th>Field10</th>\n",
              "      <th>Field11</th>\n",
              "      <th>Field12</th>\n",
              "      <th>CoverageField1A</th>\n",
              "      <th>CoverageField1B</th>\n",
              "      <th>CoverageField2A</th>\n",
              "      <th>...</th>\n",
              "      <th>GeographicField60B</th>\n",
              "      <th>GeographicField61A</th>\n",
              "      <th>GeographicField61B</th>\n",
              "      <th>GeographicField62A</th>\n",
              "      <th>GeographicField62B</th>\n",
              "      <th>GeographicField63</th>\n",
              "      <th>GeographicField64</th>\n",
              "      <th>Year</th>\n",
              "      <th>Month</th>\n",
              "      <th>weekday</th>\n",
              "    </tr>\n",
              "  </thead>\n",
              "  <tbody>\n",
              "    <tr>\n",
              "      <th>26070</th>\n",
              "      <td>5</td>\n",
              "      <td>3</td>\n",
              "      <td>0.8945</td>\n",
              "      <td>0.0038</td>\n",
              "      <td>5</td>\n",
              "      <td>1.0670</td>\n",
              "      <td>0</td>\n",
              "      <td>10</td>\n",
              "      <td>17</td>\n",
              "      <td>10</td>\n",
              "      <td>...</td>\n",
              "      <td>20</td>\n",
              "      <td>-1</td>\n",
              "      <td>12</td>\n",
              "      <td>-1</td>\n",
              "      <td>21</td>\n",
              "      <td>1</td>\n",
              "      <td>2</td>\n",
              "      <td>2013</td>\n",
              "      <td>3</td>\n",
              "      <td>0</td>\n",
              "    </tr>\n",
              "    <tr>\n",
              "      <th>26071</th>\n",
              "      <td>2</td>\n",
              "      <td>17</td>\n",
              "      <td>0.8746</td>\n",
              "      <td>0.0006</td>\n",
              "      <td>3</td>\n",
              "      <td>1.3045</td>\n",
              "      <td>1</td>\n",
              "      <td>7</td>\n",
              "      <td>11</td>\n",
              "      <td>7</td>\n",
              "      <td>...</td>\n",
              "      <td>15</td>\n",
              "      <td>-1</td>\n",
              "      <td>10</td>\n",
              "      <td>-1</td>\n",
              "      <td>13</td>\n",
              "      <td>1</td>\n",
              "      <td>1</td>\n",
              "      <td>2015</td>\n",
              "      <td>4</td>\n",
              "      <td>6</td>\n",
              "    </tr>\n",
              "    <tr>\n",
              "      <th>26072</th>\n",
              "      <td>5</td>\n",
              "      <td>22</td>\n",
              "      <td>1.0101</td>\n",
              "      <td>0.0040</td>\n",
              "      <td>4</td>\n",
              "      <td>1.2694</td>\n",
              "      <td>0</td>\n",
              "      <td>7</td>\n",
              "      <td>11</td>\n",
              "      <td>7</td>\n",
              "      <td>...</td>\n",
              "      <td>16</td>\n",
              "      <td>-1</td>\n",
              "      <td>19</td>\n",
              "      <td>-1</td>\n",
              "      <td>12</td>\n",
              "      <td>1</td>\n",
              "      <td>2</td>\n",
              "      <td>2015</td>\n",
              "      <td>5</td>\n",
              "      <td>4</td>\n",
              "    </tr>\n",
              "    <tr>\n",
              "      <th>26073</th>\n",
              "      <td>5</td>\n",
              "      <td>3</td>\n",
              "      <td>0.9023</td>\n",
              "      <td>0.0038</td>\n",
              "      <td>5</td>\n",
              "      <td>1.0670</td>\n",
              "      <td>0</td>\n",
              "      <td>4</td>\n",
              "      <td>4</td>\n",
              "      <td>4</td>\n",
              "      <td>...</td>\n",
              "      <td>7</td>\n",
              "      <td>-1</td>\n",
              "      <td>15</td>\n",
              "      <td>-1</td>\n",
              "      <td>14</td>\n",
              "      <td>1</td>\n",
              "      <td>2</td>\n",
              "      <td>2013</td>\n",
              "      <td>2</td>\n",
              "      <td>2</td>\n",
              "    </tr>\n",
              "    <tr>\n",
              "      <th>26074</th>\n",
              "      <td>1</td>\n",
              "      <td>25</td>\n",
              "      <td>0.9153</td>\n",
              "      <td>0.0007</td>\n",
              "      <td>6</td>\n",
              "      <td>1.0200</td>\n",
              "      <td>0</td>\n",
              "      <td>22</td>\n",
              "      <td>25</td>\n",
              "      <td>22</td>\n",
              "      <td>...</td>\n",
              "      <td>10</td>\n",
              "      <td>-1</td>\n",
              "      <td>16</td>\n",
              "      <td>-1</td>\n",
              "      <td>22</td>\n",
              "      <td>1</td>\n",
              "      <td>0</td>\n",
              "      <td>2014</td>\n",
              "      <td>7</td>\n",
              "      <td>0</td>\n",
              "    </tr>\n",
              "  </tbody>\n",
              "</table>\n",
              "<p>5 rows × 299 columns</p>\n",
              "</div>"
            ],
            "text/plain": [
              "       Field6  Field7  Field8  Field9  Field10  Field11  Field12  \\\n",
              "26070       5       3  0.8945  0.0038        5   1.0670        0   \n",
              "26071       2      17  0.8746  0.0006        3   1.3045        1   \n",
              "26072       5      22  1.0101  0.0040        4   1.2694        0   \n",
              "26073       5       3  0.9023  0.0038        5   1.0670        0   \n",
              "26074       1      25  0.9153  0.0007        6   1.0200        0   \n",
              "\n",
              "       CoverageField1A  CoverageField1B  CoverageField2A  ...  \\\n",
              "26070               10               17               10  ...   \n",
              "26071                7               11                7  ...   \n",
              "26072                7               11                7  ...   \n",
              "26073                4                4                4  ...   \n",
              "26074               22               25               22  ...   \n",
              "\n",
              "       GeographicField60B  GeographicField61A  GeographicField61B  \\\n",
              "26070                  20                  -1                  12   \n",
              "26071                  15                  -1                  10   \n",
              "26072                  16                  -1                  19   \n",
              "26073                   7                  -1                  15   \n",
              "26074                  10                  -1                  16   \n",
              "\n",
              "       GeographicField62A  GeographicField62B  GeographicField63  \\\n",
              "26070                  -1                  21                  1   \n",
              "26071                  -1                  13                  1   \n",
              "26072                  -1                  12                  1   \n",
              "26073                  -1                  14                  1   \n",
              "26074                  -1                  22                  1   \n",
              "\n",
              "       GeographicField64  Year  Month  weekday  \n",
              "26070                  2  2013      3        0  \n",
              "26071                  1  2015      4        6  \n",
              "26072                  2  2015      5        4  \n",
              "26073                  2  2013      2        2  \n",
              "26074                  0  2014      7        0  \n",
              "\n",
              "[5 rows x 299 columns]"
            ]
          },
          "metadata": {
            "tags": []
          },
          "execution_count": 6
        }
      ]
    },
    {
      "metadata": {
        "id": "kTlKQw_Ypca2",
        "colab_type": "code",
        "colab": {},
        "outputId": "240f5b6b-2b7f-447d-efb4-3bb0e2380df9"
      },
      "cell_type": "code",
      "source": [
        "cols = list(train.columns)\n",
        "len(cols), cols"
      ],
      "execution_count": 0,
      "outputs": [
        {
          "output_type": "execute_result",
          "data": {
            "text/plain": [
              "(299,\n",
              " ['Field6',\n",
              "  'Field7',\n",
              "  'Field8',\n",
              "  'Field9',\n",
              "  'Field10',\n",
              "  'Field11',\n",
              "  'Field12',\n",
              "  'CoverageField1A',\n",
              "  'CoverageField1B',\n",
              "  'CoverageField2A',\n",
              "  'CoverageField2B',\n",
              "  'CoverageField3A',\n",
              "  'CoverageField3B',\n",
              "  'CoverageField4A',\n",
              "  'CoverageField4B',\n",
              "  'CoverageField5A',\n",
              "  'CoverageField5B',\n",
              "  'CoverageField6A',\n",
              "  'CoverageField6B',\n",
              "  'CoverageField8',\n",
              "  'CoverageField9',\n",
              "  'CoverageField11A',\n",
              "  'CoverageField11B',\n",
              "  'SalesField1A',\n",
              "  'SalesField1B',\n",
              "  'SalesField2A',\n",
              "  'SalesField2B',\n",
              "  'SalesField3',\n",
              "  'SalesField4',\n",
              "  'SalesField5',\n",
              "  'SalesField6',\n",
              "  'SalesField7',\n",
              "  'SalesField8',\n",
              "  'SalesField9',\n",
              "  'SalesField10',\n",
              "  'SalesField11',\n",
              "  'SalesField12',\n",
              "  'SalesField13',\n",
              "  'SalesField14',\n",
              "  'SalesField15',\n",
              "  'PersonalField1',\n",
              "  'PersonalField2',\n",
              "  'PersonalField4A',\n",
              "  'PersonalField4B',\n",
              "  'PersonalField5',\n",
              "  'PersonalField6',\n",
              "  'PersonalField7',\n",
              "  'PersonalField8',\n",
              "  'PersonalField9',\n",
              "  'PersonalField10A',\n",
              "  'PersonalField10B',\n",
              "  'PersonalField11',\n",
              "  'PersonalField12',\n",
              "  'PersonalField13',\n",
              "  'PersonalField14',\n",
              "  'PersonalField15',\n",
              "  'PersonalField16',\n",
              "  'PersonalField17',\n",
              "  'PersonalField18',\n",
              "  'PersonalField19',\n",
              "  'PersonalField22',\n",
              "  'PersonalField23',\n",
              "  'PersonalField24',\n",
              "  'PersonalField25',\n",
              "  'PersonalField26',\n",
              "  'PersonalField27',\n",
              "  'PersonalField28',\n",
              "  'PersonalField29',\n",
              "  'PersonalField30',\n",
              "  'PersonalField31',\n",
              "  'PersonalField32',\n",
              "  'PersonalField33',\n",
              "  'PersonalField34',\n",
              "  'PersonalField35',\n",
              "  'PersonalField36',\n",
              "  'PersonalField37',\n",
              "  'PersonalField38',\n",
              "  'PersonalField39',\n",
              "  'PersonalField40',\n",
              "  'PersonalField41',\n",
              "  'PersonalField42',\n",
              "  'PersonalField43',\n",
              "  'PersonalField44',\n",
              "  'PersonalField45',\n",
              "  'PersonalField46',\n",
              "  'PersonalField47',\n",
              "  'PersonalField48',\n",
              "  'PersonalField49',\n",
              "  'PersonalField50',\n",
              "  'PersonalField51',\n",
              "  'PersonalField52',\n",
              "  'PersonalField53',\n",
              "  'PersonalField54',\n",
              "  'PersonalField55',\n",
              "  'PersonalField56',\n",
              "  'PersonalField57',\n",
              "  'PersonalField58',\n",
              "  'PersonalField59',\n",
              "  'PersonalField60',\n",
              "  'PersonalField61',\n",
              "  'PersonalField62',\n",
              "  'PersonalField63',\n",
              "  'PersonalField64',\n",
              "  'PersonalField65',\n",
              "  'PersonalField66',\n",
              "  'PersonalField67',\n",
              "  'PersonalField68',\n",
              "  'PersonalField69',\n",
              "  'PersonalField70',\n",
              "  'PersonalField71',\n",
              "  'PersonalField72',\n",
              "  'PersonalField73',\n",
              "  'PersonalField74',\n",
              "  'PersonalField75',\n",
              "  'PersonalField76',\n",
              "  'PersonalField77',\n",
              "  'PersonalField78',\n",
              "  'PersonalField79',\n",
              "  'PersonalField80',\n",
              "  'PersonalField81',\n",
              "  'PersonalField82',\n",
              "  'PersonalField83',\n",
              "  'PersonalField84',\n",
              "  'PropertyField1A',\n",
              "  'PropertyField1B',\n",
              "  'PropertyField2A',\n",
              "  'PropertyField2B',\n",
              "  'PropertyField3',\n",
              "  'PropertyField4',\n",
              "  'PropertyField5',\n",
              "  'PropertyField6',\n",
              "  'PropertyField7',\n",
              "  'PropertyField8',\n",
              "  'PropertyField9',\n",
              "  'PropertyField10',\n",
              "  'PropertyField11A',\n",
              "  'PropertyField11B',\n",
              "  'PropertyField12',\n",
              "  'PropertyField13',\n",
              "  'PropertyField14',\n",
              "  'PropertyField15',\n",
              "  'PropertyField16A',\n",
              "  'PropertyField16B',\n",
              "  'PropertyField17',\n",
              "  'PropertyField18',\n",
              "  'PropertyField19',\n",
              "  'PropertyField20',\n",
              "  'PropertyField21A',\n",
              "  'PropertyField21B',\n",
              "  'PropertyField22',\n",
              "  'PropertyField23',\n",
              "  'PropertyField24A',\n",
              "  'PropertyField24B',\n",
              "  'PropertyField25',\n",
              "  'PropertyField26A',\n",
              "  'PropertyField26B',\n",
              "  'PropertyField27',\n",
              "  'PropertyField28',\n",
              "  'PropertyField29',\n",
              "  'PropertyField30',\n",
              "  'PropertyField31',\n",
              "  'PropertyField32',\n",
              "  'PropertyField33',\n",
              "  'PropertyField34',\n",
              "  'PropertyField35',\n",
              "  'PropertyField36',\n",
              "  'PropertyField37',\n",
              "  'PropertyField38',\n",
              "  'PropertyField39A',\n",
              "  'PropertyField39B',\n",
              "  'GeographicField1A',\n",
              "  'GeographicField1B',\n",
              "  'GeographicField2A',\n",
              "  'GeographicField2B',\n",
              "  'GeographicField3A',\n",
              "  'GeographicField3B',\n",
              "  'GeographicField4A',\n",
              "  'GeographicField4B',\n",
              "  'GeographicField5A',\n",
              "  'GeographicField5B',\n",
              "  'GeographicField6A',\n",
              "  'GeographicField6B',\n",
              "  'GeographicField7A',\n",
              "  'GeographicField7B',\n",
              "  'GeographicField8A',\n",
              "  'GeographicField8B',\n",
              "  'GeographicField9A',\n",
              "  'GeographicField9B',\n",
              "  'GeographicField10A',\n",
              "  'GeographicField10B',\n",
              "  'GeographicField11A',\n",
              "  'GeographicField11B',\n",
              "  'GeographicField12A',\n",
              "  'GeographicField12B',\n",
              "  'GeographicField13A',\n",
              "  'GeographicField13B',\n",
              "  'GeographicField14A',\n",
              "  'GeographicField14B',\n",
              "  'GeographicField15A',\n",
              "  'GeographicField15B',\n",
              "  'GeographicField16A',\n",
              "  'GeographicField16B',\n",
              "  'GeographicField17A',\n",
              "  'GeographicField17B',\n",
              "  'GeographicField18A',\n",
              "  'GeographicField18B',\n",
              "  'GeographicField19A',\n",
              "  'GeographicField19B',\n",
              "  'GeographicField20A',\n",
              "  'GeographicField20B',\n",
              "  'GeographicField21A',\n",
              "  'GeographicField21B',\n",
              "  'GeographicField22A',\n",
              "  'GeographicField22B',\n",
              "  'GeographicField23A',\n",
              "  'GeographicField23B',\n",
              "  'GeographicField24A',\n",
              "  'GeographicField24B',\n",
              "  'GeographicField25A',\n",
              "  'GeographicField25B',\n",
              "  'GeographicField26A',\n",
              "  'GeographicField26B',\n",
              "  'GeographicField27A',\n",
              "  'GeographicField27B',\n",
              "  'GeographicField28A',\n",
              "  'GeographicField28B',\n",
              "  'GeographicField29A',\n",
              "  'GeographicField29B',\n",
              "  'GeographicField30A',\n",
              "  'GeographicField30B',\n",
              "  'GeographicField31A',\n",
              "  'GeographicField31B',\n",
              "  'GeographicField32A',\n",
              "  'GeographicField32B',\n",
              "  'GeographicField33A',\n",
              "  'GeographicField33B',\n",
              "  'GeographicField34A',\n",
              "  'GeographicField34B',\n",
              "  'GeographicField35A',\n",
              "  'GeographicField35B',\n",
              "  'GeographicField36A',\n",
              "  'GeographicField36B',\n",
              "  'GeographicField37A',\n",
              "  'GeographicField37B',\n",
              "  'GeographicField38A',\n",
              "  'GeographicField38B',\n",
              "  'GeographicField39A',\n",
              "  'GeographicField39B',\n",
              "  'GeographicField40A',\n",
              "  'GeographicField40B',\n",
              "  'GeographicField41A',\n",
              "  'GeographicField41B',\n",
              "  'GeographicField42A',\n",
              "  'GeographicField42B',\n",
              "  'GeographicField43A',\n",
              "  'GeographicField43B',\n",
              "  'GeographicField44A',\n",
              "  'GeographicField44B',\n",
              "  'GeographicField45A',\n",
              "  'GeographicField45B',\n",
              "  'GeographicField46A',\n",
              "  'GeographicField46B',\n",
              "  'GeographicField47A',\n",
              "  'GeographicField47B',\n",
              "  'GeographicField48A',\n",
              "  'GeographicField48B',\n",
              "  'GeographicField49A',\n",
              "  'GeographicField49B',\n",
              "  'GeographicField50A',\n",
              "  'GeographicField50B',\n",
              "  'GeographicField51A',\n",
              "  'GeographicField51B',\n",
              "  'GeographicField52A',\n",
              "  'GeographicField52B',\n",
              "  'GeographicField53A',\n",
              "  'GeographicField53B',\n",
              "  'GeographicField54A',\n",
              "  'GeographicField54B',\n",
              "  'GeographicField55A',\n",
              "  'GeographicField55B',\n",
              "  'GeographicField56A',\n",
              "  'GeographicField56B',\n",
              "  'GeographicField57A',\n",
              "  'GeographicField57B',\n",
              "  'GeographicField58A',\n",
              "  'GeographicField58B',\n",
              "  'GeographicField59A',\n",
              "  'GeographicField59B',\n",
              "  'GeographicField60A',\n",
              "  'GeographicField60B',\n",
              "  'GeographicField61A',\n",
              "  'GeographicField61B',\n",
              "  'GeographicField62A',\n",
              "  'GeographicField62B',\n",
              "  'GeographicField63',\n",
              "  'GeographicField64',\n",
              "  'Year',\n",
              "  'Month',\n",
              "  'weekday'])"
            ]
          },
          "metadata": {
            "tags": []
          },
          "execution_count": 7
        }
      ]
    },
    {
      "metadata": {
        "id": "EYE17pszpca4",
        "colab_type": "text"
      },
      "cell_type": "markdown",
      "source": [
        "## Scaler"
      ]
    },
    {
      "metadata": {
        "id": "n5NpzffRpca5",
        "colab_type": "code",
        "colab": {},
        "outputId": "9070a1d2-f78d-4548-ff2b-0bbca399a3f4"
      },
      "cell_type": "code",
      "source": [
        "scaler = StandardScaler() #MinMaxScaler StandardScaler RobustScaler\n",
        "\n",
        "train[cols] = scaler.fit_transform(train[cols])\n",
        "# test[cols] = scaler.transform(test[cols])"
      ],
      "execution_count": 0,
      "outputs": [
        {
          "output_type": "stream",
          "text": [
            "/home/pavel/anaconda3/envs/py365/lib/python3.6/site-packages/sklearn/preprocessing/data.py:625: DataConversionWarning: Data with input dtype int64, float64 were all converted to float64 by StandardScaler.\n",
            "  return self.partial_fit(X, y)\n",
            "/home/pavel/anaconda3/envs/py365/lib/python3.6/site-packages/sklearn/base.py:462: DataConversionWarning: Data with input dtype int64, float64 were all converted to float64 by StandardScaler.\n",
            "  return self.fit(X, **fit_params).transform(X)\n"
          ],
          "name": "stderr"
        }
      ]
    },
    {
      "metadata": {
        "id": "mcE0C3l_pca8",
        "colab_type": "text"
      },
      "cell_type": "markdown",
      "source": [
        "Using column subsample in order to speed calulation up"
      ]
    },
    {
      "metadata": {
        "id": "Dk0c9xBypca8",
        "colab_type": "code",
        "colab": {}
      },
      "cell_type": "code",
      "source": [
        "# Naive approach\n",
        "# random.seed(42)\n",
        "# cols = random.sample(cols, 50) "
      ],
      "execution_count": 0,
      "outputs": []
    },
    {
      "metadata": {
        "id": "iaHv0ffMpca-",
        "colab_type": "code",
        "colab": {},
        "outputId": "75184609-db80-4e12-b7ad-97d0d1585682"
      },
      "cell_type": "code",
      "source": [
        "N = 50\n",
        "\n",
        "svd = TruncatedSVD(n_components=N, random_state=42)\n",
        "X = svd.fit_transform(train[cols], y)  \n",
        "svd.explained_variance_ratio_.sum()"
      ],
      "execution_count": 0,
      "outputs": [
        {
          "output_type": "execute_result",
          "data": {
            "text/plain": [
              "0.769835802806167"
            ]
          },
          "metadata": {
            "tags": []
          },
          "execution_count": 9
        }
      ]
    },
    {
      "metadata": {
        "id": "xHEN9K3ypcbB",
        "colab_type": "code",
        "colab": {},
        "outputId": "ef748649-a0df-45b8-b28e-fab3190c9f8c"
      },
      "cell_type": "code",
      "source": [
        "df = pd.DataFrame()\n",
        "df[\"target\"] = y\n",
        "\n",
        "for i in range(50):\n",
        "    df[i] = X[:,i]\n",
        "    \n",
        "df.to_csv(\"partial_train_\"+str(N)+\".csv\", index=False)\n",
        "\n",
        "df.tail()"
      ],
      "execution_count": 0,
      "outputs": [
        {
          "output_type": "execute_result",
          "data": {
            "text/html": [
              "<div>\n",
              "<style scoped>\n",
              "    .dataframe tbody tr th:only-of-type {\n",
              "        vertical-align: middle;\n",
              "    }\n",
              "\n",
              "    .dataframe tbody tr th {\n",
              "        vertical-align: top;\n",
              "    }\n",
              "\n",
              "    .dataframe thead th {\n",
              "        text-align: right;\n",
              "    }\n",
              "</style>\n",
              "<table border=\"1\" class=\"dataframe\">\n",
              "  <thead>\n",
              "    <tr style=\"text-align: right;\">\n",
              "      <th></th>\n",
              "      <th>target</th>\n",
              "      <th>0</th>\n",
              "      <th>1</th>\n",
              "      <th>2</th>\n",
              "      <th>3</th>\n",
              "      <th>4</th>\n",
              "      <th>5</th>\n",
              "      <th>6</th>\n",
              "      <th>7</th>\n",
              "      <th>8</th>\n",
              "      <th>...</th>\n",
              "      <th>40</th>\n",
              "      <th>41</th>\n",
              "      <th>42</th>\n",
              "      <th>43</th>\n",
              "      <th>44</th>\n",
              "      <th>45</th>\n",
              "      <th>46</th>\n",
              "      <th>47</th>\n",
              "      <th>48</th>\n",
              "      <th>49</th>\n",
              "    </tr>\n",
              "  </thead>\n",
              "  <tbody>\n",
              "    <tr>\n",
              "      <th>26070</th>\n",
              "      <td>0</td>\n",
              "      <td>-2.697430</td>\n",
              "      <td>-7.176321</td>\n",
              "      <td>-4.441157</td>\n",
              "      <td>-0.696278</td>\n",
              "      <td>-0.254173</td>\n",
              "      <td>0.567101</td>\n",
              "      <td>0.191361</td>\n",
              "      <td>0.785564</td>\n",
              "      <td>-0.217400</td>\n",
              "      <td>...</td>\n",
              "      <td>1.642036</td>\n",
              "      <td>-1.081729</td>\n",
              "      <td>0.319332</td>\n",
              "      <td>-1.769774</td>\n",
              "      <td>-0.065820</td>\n",
              "      <td>0.911199</td>\n",
              "      <td>-0.097105</td>\n",
              "      <td>0.144381</td>\n",
              "      <td>-0.295786</td>\n",
              "      <td>0.172246</td>\n",
              "    </tr>\n",
              "    <tr>\n",
              "      <th>26071</th>\n",
              "      <td>0</td>\n",
              "      <td>-5.021211</td>\n",
              "      <td>-3.199173</td>\n",
              "      <td>-1.293690</td>\n",
              "      <td>-0.833889</td>\n",
              "      <td>0.541229</td>\n",
              "      <td>5.038471</td>\n",
              "      <td>1.658618</td>\n",
              "      <td>-5.354749</td>\n",
              "      <td>-1.116558</td>\n",
              "      <td>...</td>\n",
              "      <td>-0.358473</td>\n",
              "      <td>-1.572445</td>\n",
              "      <td>-0.068892</td>\n",
              "      <td>-0.529101</td>\n",
              "      <td>0.606700</td>\n",
              "      <td>-0.549447</td>\n",
              "      <td>0.304709</td>\n",
              "      <td>0.591064</td>\n",
              "      <td>-0.129661</td>\n",
              "      <td>0.558340</td>\n",
              "    </tr>\n",
              "    <tr>\n",
              "      <th>26072</th>\n",
              "      <td>0</td>\n",
              "      <td>-2.839973</td>\n",
              "      <td>-0.455769</td>\n",
              "      <td>-5.036594</td>\n",
              "      <td>-1.508620</td>\n",
              "      <td>-3.315193</td>\n",
              "      <td>0.394648</td>\n",
              "      <td>0.232433</td>\n",
              "      <td>3.063184</td>\n",
              "      <td>-1.654045</td>\n",
              "      <td>...</td>\n",
              "      <td>0.332677</td>\n",
              "      <td>-0.920742</td>\n",
              "      <td>1.737735</td>\n",
              "      <td>1.120053</td>\n",
              "      <td>0.309615</td>\n",
              "      <td>-0.718849</td>\n",
              "      <td>0.380552</td>\n",
              "      <td>0.419170</td>\n",
              "      <td>-0.888988</td>\n",
              "      <td>1.177033</td>\n",
              "    </tr>\n",
              "    <tr>\n",
              "      <th>26073</th>\n",
              "      <td>1</td>\n",
              "      <td>-2.910019</td>\n",
              "      <td>-0.630014</td>\n",
              "      <td>-7.747027</td>\n",
              "      <td>-1.024270</td>\n",
              "      <td>-0.340097</td>\n",
              "      <td>3.986513</td>\n",
              "      <td>-1.015409</td>\n",
              "      <td>0.918555</td>\n",
              "      <td>-0.505734</td>\n",
              "      <td>...</td>\n",
              "      <td>-0.806945</td>\n",
              "      <td>-0.513780</td>\n",
              "      <td>-0.070973</td>\n",
              "      <td>0.951900</td>\n",
              "      <td>-0.028200</td>\n",
              "      <td>0.535365</td>\n",
              "      <td>-0.276189</td>\n",
              "      <td>0.431672</td>\n",
              "      <td>-0.180558</td>\n",
              "      <td>1.095553</td>\n",
              "    </tr>\n",
              "    <tr>\n",
              "      <th>26074</th>\n",
              "      <td>0</td>\n",
              "      <td>6.653140</td>\n",
              "      <td>0.397828</td>\n",
              "      <td>4.980203</td>\n",
              "      <td>-1.230184</td>\n",
              "      <td>-4.275555</td>\n",
              "      <td>-4.811223</td>\n",
              "      <td>1.094970</td>\n",
              "      <td>2.285175</td>\n",
              "      <td>0.682350</td>\n",
              "      <td>...</td>\n",
              "      <td>1.591038</td>\n",
              "      <td>0.857429</td>\n",
              "      <td>-3.050250</td>\n",
              "      <td>0.893820</td>\n",
              "      <td>-0.004001</td>\n",
              "      <td>-0.206528</td>\n",
              "      <td>-0.849533</td>\n",
              "      <td>2.255292</td>\n",
              "      <td>0.343791</td>\n",
              "      <td>0.762498</td>\n",
              "    </tr>\n",
              "  </tbody>\n",
              "</table>\n",
              "<p>5 rows × 51 columns</p>\n",
              "</div>"
            ],
            "text/plain": [
              "       target         0         1         2         3         4         5  \\\n",
              "26070       0 -2.697430 -7.176321 -4.441157 -0.696278 -0.254173  0.567101   \n",
              "26071       0 -5.021211 -3.199173 -1.293690 -0.833889  0.541229  5.038471   \n",
              "26072       0 -2.839973 -0.455769 -5.036594 -1.508620 -3.315193  0.394648   \n",
              "26073       1 -2.910019 -0.630014 -7.747027 -1.024270 -0.340097  3.986513   \n",
              "26074       0  6.653140  0.397828  4.980203 -1.230184 -4.275555 -4.811223   \n",
              "\n",
              "              6         7         8  ...        40        41        42  \\\n",
              "26070  0.191361  0.785564 -0.217400  ...  1.642036 -1.081729  0.319332   \n",
              "26071  1.658618 -5.354749 -1.116558  ... -0.358473 -1.572445 -0.068892   \n",
              "26072  0.232433  3.063184 -1.654045  ...  0.332677 -0.920742  1.737735   \n",
              "26073 -1.015409  0.918555 -0.505734  ... -0.806945 -0.513780 -0.070973   \n",
              "26074  1.094970  2.285175  0.682350  ...  1.591038  0.857429 -3.050250   \n",
              "\n",
              "             43        44        45        46        47        48        49  \n",
              "26070 -1.769774 -0.065820  0.911199 -0.097105  0.144381 -0.295786  0.172246  \n",
              "26071 -0.529101  0.606700 -0.549447  0.304709  0.591064 -0.129661  0.558340  \n",
              "26072  1.120053  0.309615 -0.718849  0.380552  0.419170 -0.888988  1.177033  \n",
              "26073  0.951900 -0.028200  0.535365 -0.276189  0.431672 -0.180558  1.095553  \n",
              "26074  0.893820 -0.004001 -0.206528 -0.849533  2.255292  0.343791  0.762498  \n",
              "\n",
              "[5 rows x 51 columns]"
            ]
          },
          "metadata": {
            "tags": []
          },
          "execution_count": 10
        }
      ]
    },
    {
      "metadata": {
        "id": "0PVJjRBdpcbE",
        "colab_type": "text"
      },
      "cell_type": "markdown",
      "source": [
        "## LogReg"
      ]
    },
    {
      "metadata": {
        "id": "9nZK8bvCpcbE",
        "colab_type": "code",
        "colab": {},
        "outputId": "becea8c2-b814-4563-d6aa-7d2fb6486c16"
      },
      "cell_type": "code",
      "source": [
        "%%time\n",
        "\n",
        "skf = StratifiedKFold(n_splits=5, shuffle=True, random_state=42)\n",
        "arch = \"reg\"\n",
        "\n",
        "train[arch] = 0\n",
        "\n",
        "for i, (train_index, valid_index) in enumerate(skf.split(X, y)):\n",
        "    \n",
        "    X_train = X[train_index]\n",
        "    X_valid = X[valid_index]\n",
        "\n",
        "    y_train = y[train_index]\n",
        "    y_valid = y[valid_index]\n",
        "    \n",
        "    reg = LogisticRegression(C=1,\n",
        "                             solver=\"newton-cg\", \n",
        "                             penalty=\"l2\", \n",
        "                             n_jobs=-1, \n",
        "                             max_iter=100).fit(X_train, y_train) \n",
        "    \n",
        "    y_pred = reg.predict_proba(X_valid)[:,1]\n",
        "    train.loc[valid_index, arch] = y_pred\n",
        "    print(i, \"ROC AUC:\", round(roc_auc_score(y_valid, y_pred), 5))\n",
        "\n",
        "print()\n",
        "print(\"OOF ROC AUC:\", round(roc_auc_score(y, train[arch]), 5))\n",
        "print()"
      ],
      "execution_count": 0,
      "outputs": [
        {
          "output_type": "stream",
          "text": [
            "0 ROC AUC: 0.83471\n",
            "1 ROC AUC: 0.81989\n",
            "2 ROC AUC: 0.84066\n",
            "3 ROC AUC: 0.83345\n",
            "4 ROC AUC: 0.82029\n",
            "\n",
            "OOF ROC AUC: 0.82978\n",
            "\n",
            "CPU times: user 313 ms, sys: 746 ms, total: 1.06 s\n",
            "Wall time: 6.09 s\n"
          ],
          "name": "stdout"
        }
      ]
    },
    {
      "metadata": {
        "id": "Snv9avaupcbH",
        "colab_type": "code",
        "colab": {}
      },
      "cell_type": "code",
      "source": [
        "??LogisticRegression"
      ],
      "execution_count": 0,
      "outputs": []
    },
    {
      "metadata": {
        "id": "DitCM-yTpcbK",
        "colab_type": "text"
      },
      "cell_type": "markdown",
      "source": [
        "## SVM"
      ]
    },
    {
      "metadata": {
        "id": "99bvPoKJpcbL",
        "colab_type": "code",
        "colab": {}
      },
      "cell_type": "code",
      "source": [
        "# https://github.com/Xtra-Computing/thundergbm\n",
        "# pip install thundersvm-cpu-0.2.0-py3-none-linux_x86_64.whl\n",
        "# from thundersvm import SVC"
      ],
      "execution_count": 0,
      "outputs": []
    },
    {
      "metadata": {
        "id": "1iDfzrI9pcbN",
        "colab_type": "code",
        "colab": {}
      },
      "cell_type": "code",
      "source": [
        "%%time\n",
        "\n",
        "skf = StratifiedKFold(n_splits=5, shuffle=True, random_state=42)\n",
        "arch = \"svc\"\n",
        "\n",
        "train[arch] = 0\n",
        "\n",
        "for i, (train_index, valid_index) in enumerate(skf.split(X, y)):\n",
        "    \n",
        "    X_train = X[train_index]\n",
        "    X_valid = X[valid_index]\n",
        "\n",
        "    y_train = y[train_index]\n",
        "    y_valid = y[valid_index]\n",
        "    \n",
        "    svc = SVC(C=0.1, \n",
        "              # gamma=\"scale\",\n",
        "              max_iter=1000,\n",
        "              probability=True).fit(X_train, y_train) \n",
        "    \n",
        "    y_pred = svc.predict_proba(X_valid)[:,1]\n",
        "    train.loc[valid_index, arch] = y_pred\n",
        "    print(i, \"ROC AUC:\", round(roc_auc_score(y_valid, y_pred), 5))\n",
        "\n",
        "print()\n",
        "print(\"OOF ROC AUC:\", round(roc_auc_score(y, train[arch]), 5))\n",
        "print()"
      ],
      "execution_count": 0,
      "outputs": []
    },
    {
      "metadata": {
        "id": "0YrwuDlPpcbP",
        "colab_type": "text"
      },
      "cell_type": "markdown",
      "source": [
        "## KNN"
      ]
    },
    {
      "metadata": {
        "id": "we7CdrIUpcbP",
        "colab_type": "code",
        "colab": {},
        "outputId": "343d793b-0a3b-4c73-9471-a28c7d6afa17"
      },
      "cell_type": "code",
      "source": [
        "%%time\n",
        "\n",
        "skf = StratifiedKFold(n_splits=5, shuffle=True, random_state=42)\n",
        "arch = \"nei\"\n",
        "\n",
        "train[arch] = 0\n",
        "\n",
        "for i, (train_index, valid_index) in enumerate(skf.split(X, y)):\n",
        "    \n",
        "    X_train = X[train_index]\n",
        "    X_valid = X[valid_index]\n",
        "\n",
        "    y_train = y[train_index]\n",
        "    y_valid = y[valid_index]\n",
        "    \n",
        "    nei = KNeighborsClassifier(n_neighbors=100,\n",
        "                               p=1, n_jobs=-1).fit(X_train, y_train) \n",
        "    \n",
        "    y_pred = nei.predict_proba(X_valid)[:,1]\n",
        "    train.loc[valid_index, arch] = y_pred\n",
        "    print(i, \"ROC AUC:\", round(roc_auc_score(y_valid, y_pred), 5))\n",
        "    \n",
        "print()\n",
        "print(\"OOF ROC AUC:\", round(roc_auc_score(y, train[arch]), 5))\n",
        "print()"
      ],
      "execution_count": 0,
      "outputs": [
        {
          "output_type": "stream",
          "text": [
            "0 ROC AUC: 0.82351\n",
            "1 ROC AUC: 0.82367\n",
            "2 ROC AUC: 0.82949\n",
            "3 ROC AUC: 0.82314\n",
            "4 ROC AUC: 0.82463\n",
            "\n",
            "OOF ROC AUC: 0.82479\n",
            "\n",
            "CPU times: user 2min 36s, sys: 315 ms, total: 2min 37s\n",
            "Wall time: 45.1 s\n"
          ],
          "name": "stdout"
        }
      ]
    },
    {
      "metadata": {
        "id": "ttUU_ceXpcbR",
        "colab_type": "text"
      },
      "cell_type": "markdown",
      "source": [
        "## Random Forest"
      ]
    },
    {
      "metadata": {
        "id": "l9kRc7tDpcbS",
        "colab_type": "code",
        "colab": {},
        "outputId": "32a50882-295d-44b6-fcf0-b37fce94819c"
      },
      "cell_type": "code",
      "source": [
        "%%time\n",
        "\n",
        "skf = StratifiedKFold(n_splits=5, shuffle=True, random_state=42)\n",
        "arch = \"rfc\"\n",
        "\n",
        "train[arch] = 0\n",
        "test[arch] = 0\n",
        "\n",
        "for i, (train_index, valid_index) in enumerate(skf.split(X, y)):\n",
        "    \n",
        "    X_train = X[train_index]\n",
        "    X_valid = X[valid_index]\n",
        "\n",
        "    y_train = y[train_index]\n",
        "    y_valid = y[valid_index]\n",
        "    \n",
        "    rfc = RandomForestClassifier(n_estimators=100,\n",
        "                                 criterion='gini',\n",
        "                                 n_jobs=-1).fit(X_train, y_train) \n",
        "    \n",
        "    y_pred = rfc.predict_proba(X_valid)[:,1]\n",
        "    train.loc[valid_index, arch] = y_pred\n",
        "    print(i, \"ROC AUC:\", round(roc_auc_score(y_valid, y_pred), 5))\n",
        "\n",
        "print()\n",
        "print(\"OOF ROC AUC:\", round(roc_auc_score(y, train[arch]), 5))\n",
        "print()"
      ],
      "execution_count": 0,
      "outputs": [
        {
          "output_type": "stream",
          "text": [
            "0 ROC AUC: 0.84761\n",
            "1 ROC AUC: 0.83931\n",
            "2 ROC AUC: 0.85057\n",
            "3 ROC AUC: 0.85199\n",
            "4 ROC AUC: 0.84764\n",
            "\n",
            "OOF ROC AUC: 0.84751\n",
            "\n",
            "CPU times: user 2min 4s, sys: 286 ms, total: 2min 4s\n",
            "Wall time: 35 s\n"
          ],
          "name": "stdout"
        }
      ]
    },
    {
      "metadata": {
        "id": "R2Je-OhGpcbV",
        "colab_type": "text"
      },
      "cell_type": "markdown",
      "source": [
        "## LGBM"
      ]
    },
    {
      "metadata": {
        "id": "f2tm0zFhpcbW",
        "colab_type": "code",
        "colab": {},
        "outputId": "fd9094e2-a78c-4014-84fe-86a6d2a55444"
      },
      "cell_type": "code",
      "source": [
        "%%time\n",
        "\n",
        "arch = \"lgb\"\n",
        "\n",
        "train[arch] = 0\n",
        "\n",
        "rounds = 10000\n",
        "early_stop_rounds = 300\n",
        "\n",
        "params = {'objective': 'binary',\n",
        "          'boosting_type': 'gbrt',\n",
        "          'metric': 'auc',\n",
        "          'seed': 42,\n",
        "          'max_depth': -1,\n",
        "          'verbose': -1,\n",
        "          'n_jobs': -1}\n",
        "\n",
        "# best_params = {'feature_fraction': 0.8752556106728574,\n",
        "#               'lambda_l1': 1.3735569040447826,\n",
        "#               'lambda_l2': 8.04774809406042,\n",
        "#               'learning_rate': 0.024553401275571943,\n",
        "#               'min_data_in_leaf': 16.31456193667883,\n",
        "#               'min_sum_hessian_in_leaf': 10.489617646270466,\n",
        "#               'num_leaves': 14.623398745206696}\n",
        "\n",
        "# best_params['num_leaves'] = int(best_params['num_leaves'])\n",
        "# best_params['min_data_in_leaf'] = int(best_params['min_data_in_leaf'])\n",
        "# params.update(best_params)\n",
        "\n",
        "skf = StratifiedKFold(n_splits=5, shuffle=True, random_state=42)\n",
        "\n",
        "for i, (train_index, valid_index) in enumerate(skf.split(X, y)):\n",
        "    \n",
        "    X_train = X[train_index]\n",
        "    X_valid = X[valid_index]\n",
        "\n",
        "    y_train = y[train_index]\n",
        "    y_valid = y[valid_index]\n",
        "\n",
        "    d_train = lgb.Dataset(X_train, y_train)\n",
        "    d_valid = lgb.Dataset(X_valid, y_valid)    \n",
        "\n",
        "    model = lgb.train(params,\n",
        "                      d_train,\n",
        "                      num_boost_round=rounds,\n",
        "                      valid_sets=[d_train, d_valid],\n",
        "                      valid_names=['train','valid'],\n",
        "                      early_stopping_rounds=early_stop_rounds,\n",
        "                      verbose_eval=0) \n",
        "\n",
        "    joblib.dump(model, \"./output/lgb_\"+str(i)+\".pkl\")\n",
        "\n",
        "    y_pred = model.predict(X_valid)\n",
        "    train.loc[valid_index, arch] = y_pred\n",
        "    auc = roc_auc_score(y_valid, y_pred)\n",
        "    print(i, \"ROC AUC:\", round(auc, 5))\n",
        "\n",
        "print()\n",
        "print(\"OOF ROC AUC:\", round(roc_auc_score(y, train[arch]), 5))\n",
        "print()"
      ],
      "execution_count": 0,
      "outputs": [
        {
          "output_type": "stream",
          "text": [
            "0 ROC AUC: 0.88592\n",
            "1 ROC AUC: 0.8725\n",
            "2 ROC AUC: 0.88379\n",
            "3 ROC AUC: 0.88334\n",
            "4 ROC AUC: 0.87745\n",
            "\n",
            "OOF ROC AUC: 0.87938\n",
            "\n",
            "CPU times: user 3min, sys: 655 ms, total: 3min\n",
            "Wall time: 47 s\n"
          ],
          "name": "stdout"
        }
      ]
    },
    {
      "metadata": {
        "id": "3uUvKWW-pcbY",
        "colab_type": "text"
      },
      "cell_type": "markdown",
      "source": [
        "## Feature importance"
      ]
    },
    {
      "metadata": {
        "id": "W17ZtkZSpcbZ",
        "colab_type": "code",
        "colab": {},
        "outputId": "ed4dfa7a-1ec0-4b5c-d8f3-6f525fb13cb4"
      },
      "cell_type": "code",
      "source": [
        "import matplotlib.pyplot as plt\n",
        "%matplotlib inline\n",
        "\n",
        "model = joblib.load(\"./output/lgb_0.pkl\")\n",
        "\n",
        "fig, ax = plt.subplots(figsize=(15, 10))\n",
        "lgb.plot_importance(model, max_num_features=50, ax=ax)\n",
        "plt.title(\"Light GBM Feature Importance\")"
      ],
      "execution_count": 0,
      "outputs": [
        {
          "output_type": "execute_result",
          "data": {
            "text/plain": [
              "Text(0.5,1,'Light GBM Feature Importance')"
            ]
          },
          "metadata": {
            "tags": []
          },
          "execution_count": 15
        },
        {
          "output_type": "display_data",
          "data": {
            "image/png": "[encoded data removed]",
            "text/plain": [
              "<Figure size 1080x720 with 1 Axes>"
            ]
          },
          "metadata": {
            "tags": [],
            "needs_background": "light"
          }
        }
      ]
    },
    {
      "metadata": {
        "id": "MFzSrfqUpcbb",
        "colab_type": "text"
      },
      "cell_type": "markdown",
      "source": [
        "## HPO"
      ]
    },
    {
      "metadata": {
        "id": "mPQi5jdjpcbb",
        "colab_type": "code",
        "colab": {}
      },
      "cell_type": "code",
      "source": [
        "def evaluate(**new_params):\n",
        "\n",
        "    rounds = 10000\n",
        "    early_stop_rounds = 300\n",
        "    \n",
        "    new_params['num_leaves'] = int(new_params['num_leaves'])\n",
        "    new_params['min_data_in_leaf'] = int(new_params['min_data_in_leaf'])\n",
        "    \n",
        "    params.update(new_params)\n",
        "    print(new_params)\n",
        "    \n",
        "    skf = StratifiedKFold(n_splits=5, shuffle=True, random_state=42)\n",
        "    oof = np.zeros(len(train))\n",
        "    \n",
        "    for i, (train_index, valid_index) in enumerate(skf.split(X, y)):\n",
        "    \n",
        "        X_train = X[train_index]\n",
        "        X_valid = X[valid_index]\n",
        "\n",
        "        y_train = y[train_index]\n",
        "        y_valid = y[valid_index]\n",
        "\n",
        "        d_train = lgb.Dataset(X_train, y_train)\n",
        "        d_valid = lgb.Dataset(X_valid, y_valid)    \n",
        "\n",
        "        model = lgb.train(params,\n",
        "                          d_train,\n",
        "                          num_boost_round=rounds,\n",
        "                          valid_sets=[d_train, d_valid],\n",
        "                          valid_names=['train','valid'],\n",
        "                          early_stopping_rounds=early_stop_rounds,\n",
        "                          verbose_eval=0) \n",
        "        \n",
        "        oof[valid_index] = model.predict(X_valid)\n",
        "        auc = roc_auc_score(y[valid_index], oof[valid_index])\n",
        "        print(i, \"ROC AUC:\", round(auc, 5))\n",
        "    \n",
        "    auc = roc_auc_score(y, oof)\n",
        "    print()\n",
        "    print(\"ROC AUC VALID:\", round(auc, 5))\n",
        "    print()\n",
        "        \n",
        "    return auc"
      ],
      "execution_count": 0,
      "outputs": []
    },
    {
      "metadata": {
        "id": "UDzsN2uOpcbc",
        "colab_type": "code",
        "colab": {}
      },
      "cell_type": "code",
      "source": [
        "# https://github.com/fmfn/BayesianOptimization\n",
        "\n",
        "params = {'objective': 'binary',\n",
        "          'boosting_type': 'gbrt',\n",
        "          'metric': 'auc',\n",
        "          'bagging_freq': 1,\n",
        "          'bagging_fraction': 0.9,\n",
        "          'bagging_seed': 42,\n",
        "          'seed': 42,\n",
        "          'max_bin': 1023, #255\n",
        "          'max_depth': -1,\n",
        "          'verbose': -1,\n",
        "          'n_jobs': -1}\n",
        "\n",
        "bounds = {'num_leaves': (4,32), \n",
        "          'min_sum_hessian_in_leaf': (0,20), \n",
        "          'min_data_in_leaf': (10,30), \n",
        "          'learning_rate': (0.01,0.05), \n",
        "          'lambda_l2': (0,20), \n",
        "          'lambda_l1': (0,5), \n",
        "          'feature_fraction': (0.0,1.0)}\n",
        "\n",
        "bo = BayesianOptimization(evaluate, pbounds=bounds)\n",
        "\n",
        "log_file = \"./output/hpo_lgbm_logs.json\"\n",
        "logger = JSONLogger(path=log_file)\n",
        "bo.subscribe(Events.OPTMIZATION_STEP, logger)\n",
        "\n",
        "# bo.maximize(init_points=2, n_iter=8)"
      ],
      "execution_count": 0,
      "outputs": []
    },
    {
      "metadata": {
        "id": "nRI1dQUopcbe",
        "colab_type": "code",
        "colab": {}
      },
      "cell_type": "code",
      "source": [
        "# bo.max"
      ],
      "execution_count": 0,
      "outputs": []
    },
    {
      "metadata": {
        "id": "AK_r5BLnpcbg",
        "colab_type": "text"
      },
      "cell_type": "markdown",
      "source": [
        "## XGB"
      ]
    },
    {
      "metadata": {
        "id": "RlOzO7ftpcbh",
        "colab_type": "code",
        "colab": {},
        "outputId": "0e23db21-d59a-4471-9a66-4e70b4430757"
      },
      "cell_type": "code",
      "source": [
        "%%time\n",
        "\n",
        "arch = \"xgb\"\n",
        "\n",
        "train[arch] = 0\n",
        "\n",
        "rounds = 10000\n",
        "early_stop_rounds = 100\n",
        "\n",
        "params = {'eval_metric': 'auc',\n",
        "          'booster': 'gbtree',\n",
        "          'tree_method': 'hist',\n",
        "          'objective': 'binary:logistic',\n",
        "          'subsample': 0.9,\n",
        "          'colsample_bytree': 0.3,\n",
        "          'eta': 0.1,\n",
        "          'max_depth': 4,\n",
        "          'seed': 42,\n",
        "          'verbosity': 0}\n",
        "\n",
        "skf = StratifiedKFold(n_splits=5, shuffle=True, random_state=42)\n",
        "\n",
        "for i, (train_index, valid_index) in enumerate(skf.split(X, y)):\n",
        "    \n",
        "    X_train = X[train_index]\n",
        "    X_valid = X[valid_index]\n",
        "\n",
        "    y_train = y[train_index]\n",
        "    y_valid = y[valid_index]\n",
        "\n",
        "    d_train = xgb.DMatrix(X_train, y_train)\n",
        "    d_valid = xgb.DMatrix(X_valid, y_valid)\n",
        "\n",
        "    model = xgb.train(params,\n",
        "                      d_train,\n",
        "                      rounds,\n",
        "                      [(d_train, 'train'), (d_valid, 'eval')],\n",
        "                      early_stopping_rounds=early_stop_rounds,\n",
        "                      verbose_eval=0)\n",
        "    \n",
        "    #joblib.dump(model, f\"./output/xgb_{i}.pkl\")\n",
        "\n",
        "    best = model.best_iteration + 1\n",
        "\n",
        "    y_pred = model.predict(d_valid, ntree_limit=best)\n",
        "    train.loc[valid_index, arch] = y_pred\n",
        "    auc = roc_auc_score(y_valid, y_pred)\n",
        "    print(i, \"ROC AUC:\", round(auc, 5))\n",
        "\n",
        "print()\n",
        "print(\"OOF ROC AUC:\", round(roc_auc_score(y, train[arch]), 5))\n",
        "print()"
      ],
      "execution_count": 0,
      "outputs": [
        {
          "output_type": "error",
          "ename": "KeyboardInterrupt",
          "evalue": "",
          "traceback": [
            "\u001b[0;31m---------------------------------------------------------------------------\u001b[0m",
            "\u001b[0;31mKeyboardInterrupt\u001b[0m                         Traceback (most recent call last)",
            "\u001b[0;32m<timed exec>\u001b[0m in \u001b[0;36m<module>\u001b[0;34m\u001b[0m\n",
            "\u001b[0;32m~/anaconda3/envs/py365/lib/python3.6/site-packages/xgboost/training.py\u001b[0m in \u001b[0;36mtrain\u001b[0;34m(params, dtrain, num_boost_round, evals, obj, feval, maximize, early_stopping_rounds, evals_result, verbose_eval, xgb_model, callbacks, learning_rates)\u001b[0m\n\u001b[1;32m    214\u001b[0m                            \u001b[0mevals\u001b[0m\u001b[0;34m=\u001b[0m\u001b[0mevals\u001b[0m\u001b[0;34m,\u001b[0m\u001b[0;34m\u001b[0m\u001b[0m\n\u001b[1;32m    215\u001b[0m                            \u001b[0mobj\u001b[0m\u001b[0;34m=\u001b[0m\u001b[0mobj\u001b[0m\u001b[0;34m,\u001b[0m \u001b[0mfeval\u001b[0m\u001b[0;34m=\u001b[0m\u001b[0mfeval\u001b[0m\u001b[0;34m,\u001b[0m\u001b[0;34m\u001b[0m\u001b[0m\n\u001b[0;32m--> 216\u001b[0;31m                            xgb_model=xgb_model, callbacks=callbacks)\n\u001b[0m\u001b[1;32m    217\u001b[0m \u001b[0;34m\u001b[0m\u001b[0m\n\u001b[1;32m    218\u001b[0m \u001b[0;34m\u001b[0m\u001b[0m\n",
            "\u001b[0;32m~/anaconda3/envs/py365/lib/python3.6/site-packages/xgboost/training.py\u001b[0m in \u001b[0;36m_train_internal\u001b[0;34m(params, dtrain, num_boost_round, evals, obj, feval, xgb_model, callbacks)\u001b[0m\n\u001b[1;32m     72\u001b[0m         \u001b[0;31m# Skip the first update if it is a recovery step.\u001b[0m\u001b[0;34m\u001b[0m\u001b[0;34m\u001b[0m\u001b[0m\n\u001b[1;32m     73\u001b[0m         \u001b[0;32mif\u001b[0m \u001b[0mversion\u001b[0m \u001b[0;34m%\u001b[0m \u001b[0;36m2\u001b[0m \u001b[0;34m==\u001b[0m \u001b[0;36m0\u001b[0m\u001b[0;34m:\u001b[0m\u001b[0;34m\u001b[0m\u001b[0m\n\u001b[0;32m---> 74\u001b[0;31m             \u001b[0mbst\u001b[0m\u001b[0;34m.\u001b[0m\u001b[0mupdate\u001b[0m\u001b[0;34m(\u001b[0m\u001b[0mdtrain\u001b[0m\u001b[0;34m,\u001b[0m \u001b[0mi\u001b[0m\u001b[0;34m,\u001b[0m \u001b[0mobj\u001b[0m\u001b[0;34m)\u001b[0m\u001b[0;34m\u001b[0m\u001b[0m\n\u001b[0m\u001b[1;32m     75\u001b[0m             \u001b[0mbst\u001b[0m\u001b[0;34m.\u001b[0m\u001b[0msave_rabit_checkpoint\u001b[0m\u001b[0;34m(\u001b[0m\u001b[0;34m)\u001b[0m\u001b[0;34m\u001b[0m\u001b[0m\n\u001b[1;32m     76\u001b[0m             \u001b[0mversion\u001b[0m \u001b[0;34m+=\u001b[0m \u001b[0;36m1\u001b[0m\u001b[0;34m\u001b[0m\u001b[0m\n",
            "\u001b[0;32m~/anaconda3/envs/py365/lib/python3.6/site-packages/xgboost/core.py\u001b[0m in \u001b[0;36mupdate\u001b[0;34m(self, dtrain, iteration, fobj)\u001b[0m\n\u001b[1;32m   1108\u001b[0m         \u001b[0;32mif\u001b[0m \u001b[0mfobj\u001b[0m \u001b[0;32mis\u001b[0m \u001b[0;32mNone\u001b[0m\u001b[0;34m:\u001b[0m\u001b[0;34m\u001b[0m\u001b[0m\n\u001b[1;32m   1109\u001b[0m             _check_call(_LIB.XGBoosterUpdateOneIter(self.handle, ctypes.c_int(iteration),\n\u001b[0;32m-> 1110\u001b[0;31m                                                     dtrain.handle))\n\u001b[0m\u001b[1;32m   1111\u001b[0m         \u001b[0;32melse\u001b[0m\u001b[0;34m:\u001b[0m\u001b[0;34m\u001b[0m\u001b[0m\n\u001b[1;32m   1112\u001b[0m             \u001b[0mpred\u001b[0m \u001b[0;34m=\u001b[0m \u001b[0mself\u001b[0m\u001b[0;34m.\u001b[0m\u001b[0mpredict\u001b[0m\u001b[0;34m(\u001b[0m\u001b[0mdtrain\u001b[0m\u001b[0;34m)\u001b[0m\u001b[0;34m\u001b[0m\u001b[0m\n",
            "\u001b[0;31mKeyboardInterrupt\u001b[0m: "
          ]
        }
      ]
    },
    {
      "metadata": {
        "id": "3qQWKpR9pcbl",
        "colab_type": "text"
      },
      "cell_type": "markdown",
      "source": [
        "## CatBoost"
      ]
    },
    {
      "metadata": {
        "id": "4MxpolPvpcbm",
        "colab_type": "code",
        "colab": {},
        "outputId": "553aacd7-2dfb-4b79-9ff2-d245cd0a555e"
      },
      "cell_type": "code",
      "source": [
        "%%time\n",
        "\n",
        "arch = \"cat\"\n",
        "\n",
        "train[arch] = 0\n",
        "\n",
        "rounds = 10000\n",
        "early_stop_rounds = 100\n",
        "\n",
        "params = {'task_type': 'CPU', #GPU\n",
        "          'iterations': rounds,\n",
        "          'loss_function': 'Logloss',\n",
        "          'eval_metric':'AUC',\n",
        "          'random_seed': 42,\n",
        "          'learning_rate': 0.5,\n",
        "          'depth': 2}\n",
        "\n",
        "skf = StratifiedKFold(n_splits=5, shuffle=True, random_state=42)\n",
        "\n",
        "for i, (train_index, valid_index) in enumerate(skf.split(X, y)):\n",
        "    \n",
        "    X_train = X[train_index]\n",
        "    X_valid = X[valid_index]\n",
        "\n",
        "    y_train = y[train_index]\n",
        "    y_valid = y[valid_index]\n",
        "    \n",
        "    trn_data = Pool(X_train, y_train)\n",
        "    val_data = Pool(X_valid, y_valid)\n",
        "    \n",
        "    clf = CatBoostClassifier(**params)\n",
        "    clf.fit(trn_data,\n",
        "            eval_set=val_data,\n",
        "            use_best_model=True,\n",
        "            early_stopping_rounds=early_stop_rounds,\n",
        "            verbose=0)\n",
        "    \n",
        "    y_pred = clf.predict_proba(X_valid)[:, 1]\n",
        "    train.loc[valid_index, arch] = y_pred\n",
        "    auc = roc_auc_score(y_valid, y_pred)\n",
        "    print(i, \"ROC AUC:\", round(auc, 5))\n",
        "\n",
        "print()\n",
        "print(\"OOF ROC AUC:\", round(roc_auc_score(y, train[arch]), 5))\n",
        "print()"
      ],
      "execution_count": 0,
      "outputs": [
        {
          "output_type": "error",
          "ename": "KeyboardInterrupt",
          "evalue": "",
          "traceback": [
            "\u001b[0;31m---------------------------------------------------------------------------\u001b[0m",
            "\u001b[0;31mKeyboardInterrupt\u001b[0m                         Traceback (most recent call last)",
            "\u001b[0;32m<timed exec>\u001b[0m in \u001b[0;36m<module>\u001b[0;34m\u001b[0m\n",
            "\u001b[0;32m~/anaconda3/envs/py365/lib/python3.6/site-packages/catboost/core.py\u001b[0m in \u001b[0;36mfit\u001b[0;34m(self, X, y, cat_features, sample_weight, baseline, use_best_model, eval_set, verbose, logging_level, plot, column_description, verbose_eval, metric_period, silent, early_stopping_rounds, save_snapshot, snapshot_file, snapshot_interval)\u001b[0m\n\u001b[1;32m   2452\u001b[0m         self._fit(X, y, cat_features, None, sample_weight, None, None, None, None, baseline, use_best_model,\n\u001b[1;32m   2453\u001b[0m                   \u001b[0meval_set\u001b[0m\u001b[0;34m,\u001b[0m \u001b[0mverbose\u001b[0m\u001b[0;34m,\u001b[0m \u001b[0mlogging_level\u001b[0m\u001b[0;34m,\u001b[0m \u001b[0mplot\u001b[0m\u001b[0;34m,\u001b[0m \u001b[0mcolumn_description\u001b[0m\u001b[0;34m,\u001b[0m \u001b[0mverbose_eval\u001b[0m\u001b[0;34m,\u001b[0m \u001b[0mmetric_period\u001b[0m\u001b[0;34m,\u001b[0m\u001b[0;34m\u001b[0m\u001b[0m\n\u001b[0;32m-> 2454\u001b[0;31m                   silent, early_stopping_rounds, save_snapshot, snapshot_file, snapshot_interval)\n\u001b[0m\u001b[1;32m   2455\u001b[0m         \u001b[0;32mreturn\u001b[0m \u001b[0mself\u001b[0m\u001b[0;34m\u001b[0m\u001b[0m\n\u001b[1;32m   2456\u001b[0m \u001b[0;34m\u001b[0m\u001b[0m\n",
            "\u001b[0;32m~/anaconda3/envs/py365/lib/python3.6/site-packages/catboost/core.py\u001b[0m in \u001b[0;36m_fit\u001b[0;34m(self, X, y, cat_features, pairs, sample_weight, group_id, group_weight, subgroup_id, pairs_weight, baseline, use_best_model, eval_set, verbose, logging_level, plot, column_description, verbose_eval, metric_period, silent, early_stopping_rounds, save_snapshot, snapshot_file, snapshot_interval)\u001b[0m\n\u001b[1;32m   1199\u001b[0m \u001b[0;34m\u001b[0m\u001b[0m\n\u001b[1;32m   1200\u001b[0m         \u001b[0;32mwith\u001b[0m \u001b[0mlog_fixup\u001b[0m\u001b[0;34m(\u001b[0m\u001b[0;34m)\u001b[0m\u001b[0;34m,\u001b[0m \u001b[0mplot_wrapper\u001b[0m\u001b[0;34m(\u001b[0m\u001b[0mplot\u001b[0m\u001b[0;34m,\u001b[0m \u001b[0mself\u001b[0m\u001b[0;34m.\u001b[0m\u001b[0mget_params\u001b[0m\u001b[0;34m(\u001b[0m\u001b[0;34m)\u001b[0m\u001b[0;34m)\u001b[0m\u001b[0;34m:\u001b[0m\u001b[0;34m\u001b[0m\u001b[0m\n\u001b[0;32m-> 1201\u001b[0;31m             \u001b[0mself\u001b[0m\u001b[0;34m.\u001b[0m\u001b[0m_train\u001b[0m\u001b[0;34m(\u001b[0m\u001b[0mtrain_pool\u001b[0m\u001b[0;34m,\u001b[0m \u001b[0meval_sets\u001b[0m\u001b[0;34m,\u001b[0m \u001b[0mparams\u001b[0m\u001b[0;34m,\u001b[0m \u001b[0mallow_clear_pool\u001b[0m\u001b[0;34m)\u001b[0m\u001b[0;34m\u001b[0m\u001b[0m\n\u001b[0m\u001b[1;32m   1202\u001b[0m \u001b[0;34m\u001b[0m\u001b[0m\n\u001b[1;32m   1203\u001b[0m         \u001b[0;32mif\u001b[0m \u001b[0;34m(\u001b[0m\u001b[0;32mnot\u001b[0m \u001b[0mself\u001b[0m\u001b[0;34m.\u001b[0m\u001b[0m_object\u001b[0m\u001b[0;34m.\u001b[0m\u001b[0m_has_leaf_weights_in_model\u001b[0m\u001b[0;34m(\u001b[0m\u001b[0;34m)\u001b[0m\u001b[0;34m)\u001b[0m \u001b[0;32mand\u001b[0m \u001b[0mallow_clear_pool\u001b[0m\u001b[0;34m:\u001b[0m\u001b[0;34m\u001b[0m\u001b[0m\n",
            "\u001b[0;32m~/anaconda3/envs/py365/lib/python3.6/site-packages/catboost/core.py\u001b[0m in \u001b[0;36m_train\u001b[0;34m(self, train_pool, test_pool, params, allow_clear_pool)\u001b[0m\n\u001b[1;32m    892\u001b[0m \u001b[0;34m\u001b[0m\u001b[0m\n\u001b[1;32m    893\u001b[0m     \u001b[0;32mdef\u001b[0m \u001b[0m_train\u001b[0m\u001b[0;34m(\u001b[0m\u001b[0mself\u001b[0m\u001b[0;34m,\u001b[0m \u001b[0mtrain_pool\u001b[0m\u001b[0;34m,\u001b[0m \u001b[0mtest_pool\u001b[0m\u001b[0;34m,\u001b[0m \u001b[0mparams\u001b[0m\u001b[0;34m,\u001b[0m \u001b[0mallow_clear_pool\u001b[0m\u001b[0;34m)\u001b[0m\u001b[0;34m:\u001b[0m\u001b[0;34m\u001b[0m\u001b[0m\n\u001b[0;32m--> 894\u001b[0;31m         \u001b[0mself\u001b[0m\u001b[0;34m.\u001b[0m\u001b[0m_object\u001b[0m\u001b[0;34m.\u001b[0m\u001b[0m_train\u001b[0m\u001b[0;34m(\u001b[0m\u001b[0mtrain_pool\u001b[0m\u001b[0;34m,\u001b[0m \u001b[0mtest_pool\u001b[0m\u001b[0;34m,\u001b[0m \u001b[0mparams\u001b[0m\u001b[0;34m,\u001b[0m \u001b[0mallow_clear_pool\u001b[0m\u001b[0;34m)\u001b[0m\u001b[0;34m\u001b[0m\u001b[0m\n\u001b[0m\u001b[1;32m    895\u001b[0m         \u001b[0mself\u001b[0m\u001b[0;34m.\u001b[0m\u001b[0m_set_trained_model_attributes\u001b[0m\u001b[0;34m(\u001b[0m\u001b[0;34m)\u001b[0m\u001b[0;34m\u001b[0m\u001b[0m\n\u001b[1;32m    896\u001b[0m \u001b[0;34m\u001b[0m\u001b[0m\n",
            "\u001b[0;32m_catboost.pyx\u001b[0m in \u001b[0;36m_catboost._CatBoost._train\u001b[0;34m()\u001b[0m\n",
            "\u001b[0;32m_catboost.pyx\u001b[0m in \u001b[0;36m_catboost._CatBoost._train\u001b[0;34m()\u001b[0m\n",
            "\u001b[0;31mKeyboardInterrupt\u001b[0m: "
          ]
        }
      ]
    },
    {
      "metadata": {
        "id": "hXQu6vMCpcbo",
        "colab_type": "text"
      },
      "cell_type": "markdown",
      "source": [
        "## NN"
      ]
    },
    {
      "metadata": {
        "id": "tNLq3Flwpcbp",
        "colab_type": "code",
        "colab": {},
        "outputId": "20955c71-5cb2-4a51-cea6-7527ccddd675"
      },
      "cell_type": "code",
      "source": [
        "import fastai\n",
        "import torch\n",
        "\n",
        "from fastai.basic_data import load_data\n",
        "from fastai.tabular import *\n",
        "\n",
        "print(\"fastai:\", fastai.__version__)\n",
        "print(\"torch:\", torch.__version__)"
      ],
      "execution_count": 0,
      "outputs": [
        {
          "output_type": "stream",
          "text": [
            "fastai: 1.0.51\n",
            "torch: 1.0.1.post2\n"
          ],
          "name": "stdout"
        }
      ]
    },
    {
      "metadata": {
        "id": "lvW-Y-Rlpcbr",
        "colab_type": "code",
        "colab": {}
      },
      "cell_type": "code",
      "source": [
        "path = Path('../output/')\n",
        "bs = 2048\n",
        "\n",
        "procs = [FillMissing, Categorify, Normalize]\n",
        "\n",
        "dep_var = \"target\"\n",
        "\n",
        "cat_names = []\n",
        "cont_names = []\n",
        "\n",
        "df = pd.read_csv(\"partial_train_\"+str(N)+\".csv\")\n",
        "cont_names = list(df.columns)\n",
        "cont_names.remove('target')"
      ],
      "execution_count": 0,
      "outputs": []
    },
    {
      "metadata": {
        "id": "d10zoZMrpcbs",
        "colab_type": "code",
        "colab": {}
      },
      "cell_type": "code",
      "source": [
        "def auc_score(y_pred,y_true,tens=True):\n",
        "    score = roc_auc_score(y_true, torch.sigmoid(y_pred)[:, 1])\n",
        "    if tens:\n",
        "        score = tensor(score)\n",
        "    else:\n",
        "        score = score\n",
        "    return score\n",
        "\n",
        "random_seed = 42\n",
        "\n",
        "np.random.seed(random_seed)\n",
        "random.seed(random_seed)\n",
        "torch.manual_seed(random_seed)\n",
        "torch.cuda.manual_seed(random_seed)"
      ],
      "execution_count": 0,
      "outputs": []
    },
    {
      "metadata": {
        "id": "nGqtPmQ-pcbu",
        "colab_type": "code",
        "colab": {},
        "outputId": "9806a0e6-faee-4e29-fef9-437869c86f57"
      },
      "cell_type": "code",
      "source": [
        "%%time\n",
        "\n",
        "arch = \"nn\"\n",
        "\n",
        "train[arch] = 0\n",
        "\n",
        "skf = StratifiedKFold(n_splits=5, shuffle=True, random_state=42)\n",
        "\n",
        "for i, (train_index, valid_index) in enumerate(skf.split(X, y)):\n",
        "    \n",
        "    data = (TabularList.from_df(df, path=path, cat_names=cat_names,\n",
        "                                cont_names=cont_names, procs=procs)\n",
        "                       .split_by_idx(valid_index)\n",
        "                       .label_from_df(cols=dep_var)\n",
        "                       .databunch(bs=bs))\n",
        "    \n",
        "    learn = tabular_learner(data, \n",
        "                            layers=[20, 10],\n",
        "                            ps=0.5,\n",
        "                            emb_drop=0.5,\n",
        "                            y_range=[0, 1],\n",
        "                            use_bn=True,\n",
        "                            metrics=[auc_score])\n",
        "    lr = 1e-2\n",
        "    \n",
        "    learn.fit_one_cycle(10, lr, moms=(0.8, 0.7))\n",
        "    learn.fit_one_cycle(10, lr/2, moms=(0.8, 0.7))\n",
        "        \n",
        "    preds = learn.get_preds(ds_type=DatasetType.Valid)\n",
        "    y_pred = [float(preds[0][i][1]) for i in range(len(preds[0]))]\n",
        "    \n",
        "    train.loc[valid_index, arch] = y_pred\n",
        "    auc = roc_auc_score(y[valid_index], y_pred)\n",
        "    print(i, \"ROC AUC:\", round(auc, 5))\n",
        "\n",
        "print()\n",
        "print(\"OOF ROC AUC:\", round(roc_auc_score(y, train[arch]), 5))\n",
        "print()"
      ],
      "execution_count": 0,
      "outputs": [
        {
          "output_type": "stream",
          "text": [
            "0 ROC AUC: 0.89692\n"
          ],
          "name": "stdout"
        },
        {
          "output_type": "display_data",
          "data": {
            "text/html": [
              "<table border=\"1\" class=\"dataframe\">\n",
              "  <thead>\n",
              "    <tr style=\"text-align: left;\">\n",
              "      <th>epoch</th>\n",
              "      <th>train_loss</th>\n",
              "      <th>valid_loss</th>\n",
              "      <th>auc_score</th>\n",
              "      <th>time</th>\n",
              "    </tr>\n",
              "  </thead>\n",
              "  <tbody>\n",
              "    <tr>\n",
              "      <td>0</td>\n",
              "      <td>0.672555</td>\n",
              "      <td>0.666784</td>\n",
              "      <td>0.565683</td>\n",
              "      <td>00:01</td>\n",
              "    </tr>\n",
              "    <tr>\n",
              "      <td>1</td>\n",
              "      <td>0.666272</td>\n",
              "      <td>0.643443</td>\n",
              "      <td>0.700749</td>\n",
              "      <td>00:01</td>\n",
              "    </tr>\n",
              "    <tr>\n",
              "      <td>2</td>\n",
              "      <td>0.642627</td>\n",
              "      <td>0.531272</td>\n",
              "      <td>0.799587</td>\n",
              "      <td>00:01</td>\n",
              "    </tr>\n",
              "    <tr>\n",
              "      <td>3</td>\n",
              "      <td>0.605877</td>\n",
              "      <td>0.486548</td>\n",
              "      <td>0.826364</td>\n",
              "      <td>00:01</td>\n",
              "    </tr>\n",
              "    <tr>\n",
              "      <td>4</td>\n",
              "      <td>0.574522</td>\n",
              "      <td>0.473371</td>\n",
              "      <td>0.849575</td>\n",
              "      <td>00:01</td>\n",
              "    </tr>\n",
              "    <tr>\n",
              "      <td>5</td>\n",
              "      <td>0.550462</td>\n",
              "      <td>0.461567</td>\n",
              "      <td>0.866392</td>\n",
              "      <td>00:01</td>\n",
              "    </tr>\n",
              "    <tr>\n",
              "      <td>6</td>\n",
              "      <td>0.531934</td>\n",
              "      <td>0.456292</td>\n",
              "      <td>0.869709</td>\n",
              "      <td>00:01</td>\n",
              "    </tr>\n",
              "    <tr>\n",
              "      <td>7</td>\n",
              "      <td>0.517236</td>\n",
              "      <td>0.452750</td>\n",
              "      <td>0.875713</td>\n",
              "      <td>00:01</td>\n",
              "    </tr>\n",
              "    <tr>\n",
              "      <td>8</td>\n",
              "      <td>0.506183</td>\n",
              "      <td>0.451402</td>\n",
              "      <td>0.877255</td>\n",
              "      <td>00:01</td>\n",
              "    </tr>\n",
              "    <tr>\n",
              "      <td>9</td>\n",
              "      <td>0.497262</td>\n",
              "      <td>0.451209</td>\n",
              "      <td>0.877973</td>\n",
              "      <td>00:01</td>\n",
              "    </tr>\n",
              "  </tbody>\n",
              "</table>"
            ],
            "text/plain": [
              "<IPython.core.display.HTML object>"
            ]
          },
          "metadata": {
            "tags": []
          }
        },
        {
          "output_type": "display_data",
          "data": {
            "text/html": [
              "\n",
              "    <div>\n",
              "        <style>\n",
              "            /* Turns off some styling */\n",
              "            progress {\n",
              "                /* gets rid of default border in Firefox and Opera. */\n",
              "                border: none;\n",
              "                /* Needs to be in here for Safari polyfill so background images work as expected. */\n",
              "                background-size: auto;\n",
              "            }\n",
              "            .progress-bar-interrupted, .progress-bar-interrupted::-webkit-progress-bar {\n",
              "                background: #F44336;\n",
              "            }\n",
              "        </style>\n",
              "      <progress value='6' class='' max='10', style='width:300px; height:20px; vertical-align: middle;'></progress>\n",
              "      60.00% [6/10 00:09<00:06]\n",
              "    </div>\n",
              "    \n",
              "<table border=\"1\" class=\"dataframe\">\n",
              "  <thead>\n",
              "    <tr style=\"text-align: left;\">\n",
              "      <th>epoch</th>\n",
              "      <th>train_loss</th>\n",
              "      <th>valid_loss</th>\n",
              "      <th>auc_score</th>\n",
              "      <th>time</th>\n",
              "    </tr>\n",
              "  </thead>\n",
              "  <tbody>\n",
              "    <tr>\n",
              "      <td>0</td>\n",
              "      <td>0.464592</td>\n",
              "      <td>0.450519</td>\n",
              "      <td>0.879004</td>\n",
              "      <td>00:01</td>\n",
              "    </tr>\n",
              "    <tr>\n",
              "      <td>1</td>\n",
              "      <td>0.463511</td>\n",
              "      <td>0.448781</td>\n",
              "      <td>0.880565</td>\n",
              "      <td>00:01</td>\n",
              "    </tr>\n",
              "    <tr>\n",
              "      <td>2</td>\n",
              "      <td>0.462272</td>\n",
              "      <td>0.448332</td>\n",
              "      <td>0.883157</td>\n",
              "      <td>00:01</td>\n",
              "    </tr>\n",
              "    <tr>\n",
              "      <td>3</td>\n",
              "      <td>0.461396</td>\n",
              "      <td>0.448076</td>\n",
              "      <td>0.884185</td>\n",
              "      <td>00:01</td>\n",
              "    </tr>\n",
              "    <tr>\n",
              "      <td>4</td>\n",
              "      <td>0.460001</td>\n",
              "      <td>0.447582</td>\n",
              "      <td>0.881095</td>\n",
              "      <td>00:01</td>\n",
              "    </tr>\n",
              "    <tr>\n",
              "      <td>5</td>\n",
              "      <td>0.458901</td>\n",
              "      <td>0.444799</td>\n",
              "      <td>0.884672</td>\n",
              "      <td>00:01</td>\n",
              "    </tr>\n",
              "  </tbody>\n",
              "</table><p>\n",
              "\n",
              "    <div>\n",
              "        <style>\n",
              "            /* Turns off some styling */\n",
              "            progress {\n",
              "                /* gets rid of default border in Firefox and Opera. */\n",
              "                border: none;\n",
              "                /* Needs to be in here for Safari polyfill so background images work as expected. */\n",
              "                background-size: auto;\n",
              "            }\n",
              "            .progress-bar-interrupted, .progress-bar-interrupted::-webkit-progress-bar {\n",
              "                background: #F44336;\n",
              "            }\n",
              "        </style>\n",
              "      <progress value='0' class='progress-bar-interrupted' max='3', style='width:300px; height:20px; vertical-align: middle;'></progress>\n",
              "      Interrupted\n",
              "    </div>\n",
              "    "
            ],
            "text/plain": [
              "<IPython.core.display.HTML object>"
            ]
          },
          "metadata": {
            "tags": []
          }
        },
        {
          "output_type": "error",
          "ename": "KeyboardInterrupt",
          "evalue": "",
          "traceback": [
            "\u001b[0;31m---------------------------------------------------------------------------\u001b[0m",
            "\u001b[0;31mKeyboardInterrupt\u001b[0m                         Traceback (most recent call last)",
            "\u001b[0;32m<timed exec>\u001b[0m in \u001b[0;36m<module>\u001b[0;34m\u001b[0m\n",
            "\u001b[0;32m~/anaconda3/envs/py365/lib/python3.6/site-packages/fastai/train.py\u001b[0m in \u001b[0;36mfit_one_cycle\u001b[0;34m(learn, cyc_len, max_lr, moms, div_factor, pct_start, final_div, wd, callbacks, tot_epochs, start_epoch)\u001b[0m\n\u001b[1;32m     20\u001b[0m     callbacks.append(OneCycleScheduler(learn, max_lr, moms=moms, div_factor=div_factor, pct_start=pct_start,\n\u001b[1;32m     21\u001b[0m                                        final_div=final_div, tot_epochs=tot_epochs, start_epoch=start_epoch))\n\u001b[0;32m---> 22\u001b[0;31m     \u001b[0mlearn\u001b[0m\u001b[0;34m.\u001b[0m\u001b[0mfit\u001b[0m\u001b[0;34m(\u001b[0m\u001b[0mcyc_len\u001b[0m\u001b[0;34m,\u001b[0m \u001b[0mmax_lr\u001b[0m\u001b[0;34m,\u001b[0m \u001b[0mwd\u001b[0m\u001b[0;34m=\u001b[0m\u001b[0mwd\u001b[0m\u001b[0;34m,\u001b[0m \u001b[0mcallbacks\u001b[0m\u001b[0;34m=\u001b[0m\u001b[0mcallbacks\u001b[0m\u001b[0;34m)\u001b[0m\u001b[0;34m\u001b[0m\u001b[0m\n\u001b[0m\u001b[1;32m     23\u001b[0m \u001b[0;34m\u001b[0m\u001b[0m\n\u001b[1;32m     24\u001b[0m \u001b[0;32mdef\u001b[0m \u001b[0mlr_find\u001b[0m\u001b[0;34m(\u001b[0m\u001b[0mlearn\u001b[0m\u001b[0;34m:\u001b[0m\u001b[0mLearner\u001b[0m\u001b[0;34m,\u001b[0m \u001b[0mstart_lr\u001b[0m\u001b[0;34m:\u001b[0m\u001b[0mFloats\u001b[0m\u001b[0;34m=\u001b[0m\u001b[0;36m1e-7\u001b[0m\u001b[0;34m,\u001b[0m \u001b[0mend_lr\u001b[0m\u001b[0;34m:\u001b[0m\u001b[0mFloats\u001b[0m\u001b[0;34m=\u001b[0m\u001b[0;36m10\u001b[0m\u001b[0;34m,\u001b[0m \u001b[0mnum_it\u001b[0m\u001b[0;34m:\u001b[0m\u001b[0mint\u001b[0m\u001b[0;34m=\u001b[0m\u001b[0;36m100\u001b[0m\u001b[0;34m,\u001b[0m \u001b[0mstop_div\u001b[0m\u001b[0;34m:\u001b[0m\u001b[0mbool\u001b[0m\u001b[0;34m=\u001b[0m\u001b[0;32mTrue\u001b[0m\u001b[0;34m,\u001b[0m \u001b[0mwd\u001b[0m\u001b[0;34m:\u001b[0m\u001b[0mfloat\u001b[0m\u001b[0;34m=\u001b[0m\u001b[0;32mNone\u001b[0m\u001b[0;34m)\u001b[0m\u001b[0;34m:\u001b[0m\u001b[0;34m\u001b[0m\u001b[0m\n",
            "\u001b[0;32m~/anaconda3/envs/py365/lib/python3.6/site-packages/fastai/basic_train.py\u001b[0m in \u001b[0;36mfit\u001b[0;34m(self, epochs, lr, wd, callbacks)\u001b[0m\n\u001b[1;32m    194\u001b[0m         \u001b[0mcallbacks\u001b[0m \u001b[0;34m=\u001b[0m \u001b[0;34m[\u001b[0m\u001b[0mcb\u001b[0m\u001b[0;34m(\u001b[0m\u001b[0mself\u001b[0m\u001b[0;34m)\u001b[0m \u001b[0;32mfor\u001b[0m \u001b[0mcb\u001b[0m \u001b[0;32min\u001b[0m \u001b[0mself\u001b[0m\u001b[0;34m.\u001b[0m\u001b[0mcallback_fns\u001b[0m\u001b[0;34m]\u001b[0m \u001b[0;34m+\u001b[0m \u001b[0mlistify\u001b[0m\u001b[0;34m(\u001b[0m\u001b[0mcallbacks\u001b[0m\u001b[0;34m)\u001b[0m\u001b[0;34m\u001b[0m\u001b[0m\n\u001b[1;32m    195\u001b[0m         \u001b[0;32mif\u001b[0m \u001b[0mdefaults\u001b[0m\u001b[0;34m.\u001b[0m\u001b[0mextra_callbacks\u001b[0m \u001b[0;32mis\u001b[0m \u001b[0;32mnot\u001b[0m \u001b[0;32mNone\u001b[0m\u001b[0;34m:\u001b[0m \u001b[0mcallbacks\u001b[0m \u001b[0;34m+=\u001b[0m \u001b[0mdefaults\u001b[0m\u001b[0;34m.\u001b[0m\u001b[0mextra_callbacks\u001b[0m\u001b[0;34m\u001b[0m\u001b[0m\n\u001b[0;32m--> 196\u001b[0;31m         \u001b[0mfit\u001b[0m\u001b[0;34m(\u001b[0m\u001b[0mepochs\u001b[0m\u001b[0;34m,\u001b[0m \u001b[0mself\u001b[0m\u001b[0;34m,\u001b[0m \u001b[0mmetrics\u001b[0m\u001b[0;34m=\u001b[0m\u001b[0mself\u001b[0m\u001b[0;34m.\u001b[0m\u001b[0mmetrics\u001b[0m\u001b[0;34m,\u001b[0m \u001b[0mcallbacks\u001b[0m\u001b[0;34m=\u001b[0m\u001b[0mself\u001b[0m\u001b[0;34m.\u001b[0m\u001b[0mcallbacks\u001b[0m\u001b[0;34m+\u001b[0m\u001b[0mcallbacks\u001b[0m\u001b[0;34m)\u001b[0m\u001b[0;34m\u001b[0m\u001b[0m\n\u001b[0m\u001b[1;32m    197\u001b[0m \u001b[0;34m\u001b[0m\u001b[0m\n\u001b[1;32m    198\u001b[0m     \u001b[0;32mdef\u001b[0m \u001b[0mcreate_opt\u001b[0m\u001b[0;34m(\u001b[0m\u001b[0mself\u001b[0m\u001b[0;34m,\u001b[0m \u001b[0mlr\u001b[0m\u001b[0;34m:\u001b[0m\u001b[0mFloats\u001b[0m\u001b[0;34m,\u001b[0m \u001b[0mwd\u001b[0m\u001b[0;34m:\u001b[0m\u001b[0mFloats\u001b[0m\u001b[0;34m=\u001b[0m\u001b[0;36m0.\u001b[0m\u001b[0;34m)\u001b[0m\u001b[0;34m->\u001b[0m\u001b[0;32mNone\u001b[0m\u001b[0;34m:\u001b[0m\u001b[0;34m\u001b[0m\u001b[0m\n",
            "\u001b[0;32m~/anaconda3/envs/py365/lib/python3.6/site-packages/fastai/basic_train.py\u001b[0m in \u001b[0;36mfit\u001b[0;34m(epochs, learn, callbacks, metrics)\u001b[0m\n\u001b[1;32m    103\u001b[0m             \u001b[0;32mif\u001b[0m \u001b[0;32mnot\u001b[0m \u001b[0mlearn\u001b[0m\u001b[0;34m.\u001b[0m\u001b[0mdata\u001b[0m\u001b[0;34m.\u001b[0m\u001b[0mempty_val\u001b[0m\u001b[0;34m:\u001b[0m\u001b[0;34m\u001b[0m\u001b[0m\n\u001b[1;32m    104\u001b[0m                 val_loss = validate(learn.model, learn.data.valid_dl, loss_func=learn.loss_func,\n\u001b[0;32m--> 105\u001b[0;31m                                        cb_handler=cb_handler, pbar=pbar)\n\u001b[0m\u001b[1;32m    106\u001b[0m             \u001b[0;32melse\u001b[0m\u001b[0;34m:\u001b[0m \u001b[0mval_loss\u001b[0m\u001b[0;34m=\u001b[0m\u001b[0;32mNone\u001b[0m\u001b[0;34m\u001b[0m\u001b[0m\n\u001b[1;32m    107\u001b[0m             \u001b[0;32mif\u001b[0m \u001b[0mcb_handler\u001b[0m\u001b[0;34m.\u001b[0m\u001b[0mon_epoch_end\u001b[0m\u001b[0;34m(\u001b[0m\u001b[0mval_loss\u001b[0m\u001b[0;34m)\u001b[0m\u001b[0;34m:\u001b[0m \u001b[0;32mbreak\u001b[0m\u001b[0;34m\u001b[0m\u001b[0m\n",
            "\u001b[0;32m~/anaconda3/envs/py365/lib/python3.6/site-packages/fastai/basic_train.py\u001b[0m in \u001b[0;36mvalidate\u001b[0;34m(model, dl, loss_func, cb_handler, pbar, average, n_batch)\u001b[0m\n\u001b[1;32m     54\u001b[0m         \u001b[0mval_losses\u001b[0m\u001b[0;34m,\u001b[0m\u001b[0mnums\u001b[0m \u001b[0;34m=\u001b[0m \u001b[0;34m[\u001b[0m\u001b[0;34m]\u001b[0m\u001b[0;34m,\u001b[0m\u001b[0;34m[\u001b[0m\u001b[0;34m]\u001b[0m\u001b[0;34m\u001b[0m\u001b[0m\n\u001b[1;32m     55\u001b[0m         \u001b[0;32mif\u001b[0m \u001b[0mcb_handler\u001b[0m\u001b[0;34m:\u001b[0m \u001b[0mcb_handler\u001b[0m\u001b[0;34m.\u001b[0m\u001b[0mset_dl\u001b[0m\u001b[0;34m(\u001b[0m\u001b[0mdl\u001b[0m\u001b[0;34m)\u001b[0m\u001b[0;34m\u001b[0m\u001b[0m\n\u001b[0;32m---> 56\u001b[0;31m         \u001b[0;32mfor\u001b[0m \u001b[0mxb\u001b[0m\u001b[0;34m,\u001b[0m\u001b[0myb\u001b[0m \u001b[0;32min\u001b[0m \u001b[0mprogress_bar\u001b[0m\u001b[0;34m(\u001b[0m\u001b[0mdl\u001b[0m\u001b[0;34m,\u001b[0m \u001b[0mparent\u001b[0m\u001b[0;34m=\u001b[0m\u001b[0mpbar\u001b[0m\u001b[0;34m,\u001b[0m \u001b[0mleave\u001b[0m\u001b[0;34m=\u001b[0m\u001b[0;34m(\u001b[0m\u001b[0mpbar\u001b[0m \u001b[0;32mis\u001b[0m \u001b[0;32mnot\u001b[0m \u001b[0;32mNone\u001b[0m\u001b[0;34m)\u001b[0m\u001b[0;34m)\u001b[0m\u001b[0;34m:\u001b[0m\u001b[0;34m\u001b[0m\u001b[0m\n\u001b[0m\u001b[1;32m     57\u001b[0m             \u001b[0;32mif\u001b[0m \u001b[0mcb_handler\u001b[0m\u001b[0;34m:\u001b[0m \u001b[0mxb\u001b[0m\u001b[0;34m,\u001b[0m \u001b[0myb\u001b[0m \u001b[0;34m=\u001b[0m \u001b[0mcb_handler\u001b[0m\u001b[0;34m.\u001b[0m\u001b[0mon_batch_begin\u001b[0m\u001b[0;34m(\u001b[0m\u001b[0mxb\u001b[0m\u001b[0;34m,\u001b[0m \u001b[0myb\u001b[0m\u001b[0;34m,\u001b[0m \u001b[0mtrain\u001b[0m\u001b[0;34m=\u001b[0m\u001b[0;32mFalse\u001b[0m\u001b[0;34m)\u001b[0m\u001b[0;34m\u001b[0m\u001b[0m\n\u001b[1;32m     58\u001b[0m             \u001b[0mval_loss\u001b[0m \u001b[0;34m=\u001b[0m \u001b[0mloss_batch\u001b[0m\u001b[0;34m(\u001b[0m\u001b[0mmodel\u001b[0m\u001b[0;34m,\u001b[0m \u001b[0mxb\u001b[0m\u001b[0;34m,\u001b[0m \u001b[0myb\u001b[0m\u001b[0;34m,\u001b[0m \u001b[0mloss_func\u001b[0m\u001b[0;34m,\u001b[0m \u001b[0mcb_handler\u001b[0m\u001b[0;34m=\u001b[0m\u001b[0mcb_handler\u001b[0m\u001b[0;34m)\u001b[0m\u001b[0;34m\u001b[0m\u001b[0m\n",
            "\u001b[0;32m~/anaconda3/envs/py365/lib/python3.6/site-packages/fastprogress/fastprogress.py\u001b[0m in \u001b[0;36m__iter__\u001b[0;34m(self)\u001b[0m\n\u001b[1;32m     70\u001b[0m         \u001b[0mself\u001b[0m\u001b[0;34m.\u001b[0m\u001b[0mupdate\u001b[0m\u001b[0;34m(\u001b[0m\u001b[0;36m0\u001b[0m\u001b[0;34m)\u001b[0m\u001b[0;34m\u001b[0m\u001b[0m\n\u001b[1;32m     71\u001b[0m         \u001b[0;32mtry\u001b[0m\u001b[0;34m:\u001b[0m\u001b[0;34m\u001b[0m\u001b[0m\n\u001b[0;32m---> 72\u001b[0;31m             \u001b[0;32mfor\u001b[0m \u001b[0mi\u001b[0m\u001b[0;34m,\u001b[0m\u001b[0mo\u001b[0m \u001b[0;32min\u001b[0m \u001b[0menumerate\u001b[0m\u001b[0;34m(\u001b[0m\u001b[0mself\u001b[0m\u001b[0;34m.\u001b[0m\u001b[0m_gen\u001b[0m\u001b[0;34m)\u001b[0m\u001b[0;34m:\u001b[0m\u001b[0;34m\u001b[0m\u001b[0m\n\u001b[0m\u001b[1;32m     73\u001b[0m                 \u001b[0;32mif\u001b[0m \u001b[0mi\u001b[0m \u001b[0;34m>=\u001b[0m \u001b[0mself\u001b[0m\u001b[0;34m.\u001b[0m\u001b[0mtotal\u001b[0m\u001b[0;34m:\u001b[0m \u001b[0;32mbreak\u001b[0m\u001b[0;34m\u001b[0m\u001b[0m\n\u001b[1;32m     74\u001b[0m                 \u001b[0;32myield\u001b[0m \u001b[0mo\u001b[0m\u001b[0;34m\u001b[0m\u001b[0m\n",
            "\u001b[0;32m~/anaconda3/envs/py365/lib/python3.6/site-packages/fastai/basic_data.py\u001b[0m in \u001b[0;36m__iter__\u001b[0;34m(self)\u001b[0m\n\u001b[1;32m     73\u001b[0m     \u001b[0;32mdef\u001b[0m \u001b[0m__iter__\u001b[0m\u001b[0;34m(\u001b[0m\u001b[0mself\u001b[0m\u001b[0;34m)\u001b[0m\u001b[0;34m:\u001b[0m\u001b[0;34m\u001b[0m\u001b[0m\n\u001b[1;32m     74\u001b[0m         \u001b[0;34m\"Process and returns items from `DataLoader`.\"\u001b[0m\u001b[0;34m\u001b[0m\u001b[0m\n\u001b[0;32m---> 75\u001b[0;31m         \u001b[0;32mfor\u001b[0m \u001b[0mb\u001b[0m \u001b[0;32min\u001b[0m \u001b[0mself\u001b[0m\u001b[0;34m.\u001b[0m\u001b[0mdl\u001b[0m\u001b[0;34m:\u001b[0m \u001b[0;32myield\u001b[0m \u001b[0mself\u001b[0m\u001b[0;34m.\u001b[0m\u001b[0mproc_batch\u001b[0m\u001b[0;34m(\u001b[0m\u001b[0mb\u001b[0m\u001b[0;34m)\u001b[0m\u001b[0;34m\u001b[0m\u001b[0m\n\u001b[0m\u001b[1;32m     76\u001b[0m \u001b[0;34m\u001b[0m\u001b[0m\n\u001b[1;32m     77\u001b[0m     \u001b[0;34m@\u001b[0m\u001b[0mclassmethod\u001b[0m\u001b[0;34m\u001b[0m\u001b[0m\n",
            "\u001b[0;32m~/anaconda3/envs/py365/lib/python3.6/site-packages/torch/utils/data/dataloader.py\u001b[0m in \u001b[0;36m__next__\u001b[0;34m(self)\u001b[0m\n\u001b[1;32m    629\u001b[0m         \u001b[0;32mwhile\u001b[0m \u001b[0;32mTrue\u001b[0m\u001b[0;34m:\u001b[0m\u001b[0;34m\u001b[0m\u001b[0m\n\u001b[1;32m    630\u001b[0m             \u001b[0;32massert\u001b[0m \u001b[0;34m(\u001b[0m\u001b[0;32mnot\u001b[0m \u001b[0mself\u001b[0m\u001b[0;34m.\u001b[0m\u001b[0mshutdown\u001b[0m \u001b[0;32mand\u001b[0m \u001b[0mself\u001b[0m\u001b[0;34m.\u001b[0m\u001b[0mbatches_outstanding\u001b[0m \u001b[0;34m>\u001b[0m \u001b[0;36m0\u001b[0m\u001b[0;34m)\u001b[0m\u001b[0;34m\u001b[0m\u001b[0m\n\u001b[0;32m--> 631\u001b[0;31m             \u001b[0midx\u001b[0m\u001b[0;34m,\u001b[0m \u001b[0mbatch\u001b[0m \u001b[0;34m=\u001b[0m \u001b[0mself\u001b[0m\u001b[0;34m.\u001b[0m\u001b[0m_get_batch\u001b[0m\u001b[0;34m(\u001b[0m\u001b[0;34m)\u001b[0m\u001b[0;34m\u001b[0m\u001b[0m\n\u001b[0m\u001b[1;32m    632\u001b[0m             \u001b[0mself\u001b[0m\u001b[0;34m.\u001b[0m\u001b[0mbatches_outstanding\u001b[0m \u001b[0;34m-=\u001b[0m \u001b[0;36m1\u001b[0m\u001b[0;34m\u001b[0m\u001b[0m\n\u001b[1;32m    633\u001b[0m             \u001b[0;32mif\u001b[0m \u001b[0midx\u001b[0m \u001b[0;34m!=\u001b[0m \u001b[0mself\u001b[0m\u001b[0;34m.\u001b[0m\u001b[0mrcvd_idx\u001b[0m\u001b[0;34m:\u001b[0m\u001b[0;34m\u001b[0m\u001b[0m\n",
            "\u001b[0;32m~/anaconda3/envs/py365/lib/python3.6/site-packages/torch/utils/data/dataloader.py\u001b[0m in \u001b[0;36m_get_batch\u001b[0;34m(self)\u001b[0m\n\u001b[1;32m    608\u001b[0m             \u001b[0;31m# need to call `.task_done()` because we don't use `.join()`.\u001b[0m\u001b[0;34m\u001b[0m\u001b[0;34m\u001b[0m\u001b[0m\n\u001b[1;32m    609\u001b[0m         \u001b[0;32melse\u001b[0m\u001b[0;34m:\u001b[0m\u001b[0;34m\u001b[0m\u001b[0m\n\u001b[0;32m--> 610\u001b[0;31m             \u001b[0;32mreturn\u001b[0m \u001b[0mself\u001b[0m\u001b[0;34m.\u001b[0m\u001b[0mdata_queue\u001b[0m\u001b[0;34m.\u001b[0m\u001b[0mget\u001b[0m\u001b[0;34m(\u001b[0m\u001b[0;34m)\u001b[0m\u001b[0;34m\u001b[0m\u001b[0m\n\u001b[0m\u001b[1;32m    611\u001b[0m \u001b[0;34m\u001b[0m\u001b[0m\n\u001b[1;32m    612\u001b[0m     \u001b[0;32mdef\u001b[0m \u001b[0m__next__\u001b[0m\u001b[0;34m(\u001b[0m\u001b[0mself\u001b[0m\u001b[0;34m)\u001b[0m\u001b[0;34m:\u001b[0m\u001b[0;34m\u001b[0m\u001b[0m\n",
            "\u001b[0;32m~/anaconda3/envs/py365/lib/python3.6/multiprocessing/queues.py\u001b[0m in \u001b[0;36mget\u001b[0;34m(self, block, timeout)\u001b[0m\n\u001b[1;32m     92\u001b[0m         \u001b[0;32mif\u001b[0m \u001b[0mblock\u001b[0m \u001b[0;32mand\u001b[0m \u001b[0mtimeout\u001b[0m \u001b[0;32mis\u001b[0m \u001b[0;32mNone\u001b[0m\u001b[0;34m:\u001b[0m\u001b[0;34m\u001b[0m\u001b[0m\n\u001b[1;32m     93\u001b[0m             \u001b[0;32mwith\u001b[0m \u001b[0mself\u001b[0m\u001b[0;34m.\u001b[0m\u001b[0m_rlock\u001b[0m\u001b[0;34m:\u001b[0m\u001b[0;34m\u001b[0m\u001b[0m\n\u001b[0;32m---> 94\u001b[0;31m                 \u001b[0mres\u001b[0m \u001b[0;34m=\u001b[0m \u001b[0mself\u001b[0m\u001b[0;34m.\u001b[0m\u001b[0m_recv_bytes\u001b[0m\u001b[0;34m(\u001b[0m\u001b[0;34m)\u001b[0m\u001b[0;34m\u001b[0m\u001b[0m\n\u001b[0m\u001b[1;32m     95\u001b[0m             \u001b[0mself\u001b[0m\u001b[0;34m.\u001b[0m\u001b[0m_sem\u001b[0m\u001b[0;34m.\u001b[0m\u001b[0mrelease\u001b[0m\u001b[0;34m(\u001b[0m\u001b[0;34m)\u001b[0m\u001b[0;34m\u001b[0m\u001b[0m\n\u001b[1;32m     96\u001b[0m         \u001b[0;32melse\u001b[0m\u001b[0;34m:\u001b[0m\u001b[0;34m\u001b[0m\u001b[0m\n",
            "\u001b[0;32m~/anaconda3/envs/py365/lib/python3.6/multiprocessing/connection.py\u001b[0m in \u001b[0;36mrecv_bytes\u001b[0;34m(self, maxlength)\u001b[0m\n\u001b[1;32m    214\u001b[0m         \u001b[0;32mif\u001b[0m \u001b[0mmaxlength\u001b[0m \u001b[0;32mis\u001b[0m \u001b[0;32mnot\u001b[0m \u001b[0;32mNone\u001b[0m \u001b[0;32mand\u001b[0m \u001b[0mmaxlength\u001b[0m \u001b[0;34m<\u001b[0m \u001b[0;36m0\u001b[0m\u001b[0;34m:\u001b[0m\u001b[0;34m\u001b[0m\u001b[0m\n\u001b[1;32m    215\u001b[0m             \u001b[0;32mraise\u001b[0m \u001b[0mValueError\u001b[0m\u001b[0;34m(\u001b[0m\u001b[0;34m\"negative maxlength\"\u001b[0m\u001b[0;34m)\u001b[0m\u001b[0;34m\u001b[0m\u001b[0m\n\u001b[0;32m--> 216\u001b[0;31m         \u001b[0mbuf\u001b[0m \u001b[0;34m=\u001b[0m \u001b[0mself\u001b[0m\u001b[0;34m.\u001b[0m\u001b[0m_recv_bytes\u001b[0m\u001b[0;34m(\u001b[0m\u001b[0mmaxlength\u001b[0m\u001b[0;34m)\u001b[0m\u001b[0;34m\u001b[0m\u001b[0m\n\u001b[0m\u001b[1;32m    217\u001b[0m         \u001b[0;32mif\u001b[0m \u001b[0mbuf\u001b[0m \u001b[0;32mis\u001b[0m \u001b[0;32mNone\u001b[0m\u001b[0;34m:\u001b[0m\u001b[0;34m\u001b[0m\u001b[0m\n\u001b[1;32m    218\u001b[0m             \u001b[0mself\u001b[0m\u001b[0;34m.\u001b[0m\u001b[0m_bad_message_length\u001b[0m\u001b[0;34m(\u001b[0m\u001b[0;34m)\u001b[0m\u001b[0;34m\u001b[0m\u001b[0m\n",
            "\u001b[0;32m~/anaconda3/envs/py365/lib/python3.6/multiprocessing/connection.py\u001b[0m in \u001b[0;36m_recv_bytes\u001b[0;34m(self, maxsize)\u001b[0m\n\u001b[1;32m    405\u001b[0m \u001b[0;34m\u001b[0m\u001b[0m\n\u001b[1;32m    406\u001b[0m     \u001b[0;32mdef\u001b[0m \u001b[0m_recv_bytes\u001b[0m\u001b[0;34m(\u001b[0m\u001b[0mself\u001b[0m\u001b[0;34m,\u001b[0m \u001b[0mmaxsize\u001b[0m\u001b[0;34m=\u001b[0m\u001b[0;32mNone\u001b[0m\u001b[0;34m)\u001b[0m\u001b[0;34m:\u001b[0m\u001b[0;34m\u001b[0m\u001b[0m\n\u001b[0;32m--> 407\u001b[0;31m         \u001b[0mbuf\u001b[0m \u001b[0;34m=\u001b[0m \u001b[0mself\u001b[0m\u001b[0;34m.\u001b[0m\u001b[0m_recv\u001b[0m\u001b[0;34m(\u001b[0m\u001b[0;36m4\u001b[0m\u001b[0;34m)\u001b[0m\u001b[0;34m\u001b[0m\u001b[0m\n\u001b[0m\u001b[1;32m    408\u001b[0m         \u001b[0msize\u001b[0m\u001b[0;34m,\u001b[0m \u001b[0;34m=\u001b[0m \u001b[0mstruct\u001b[0m\u001b[0;34m.\u001b[0m\u001b[0munpack\u001b[0m\u001b[0;34m(\u001b[0m\u001b[0;34m\"!i\"\u001b[0m\u001b[0;34m,\u001b[0m \u001b[0mbuf\u001b[0m\u001b[0;34m.\u001b[0m\u001b[0mgetvalue\u001b[0m\u001b[0;34m(\u001b[0m\u001b[0;34m)\u001b[0m\u001b[0;34m)\u001b[0m\u001b[0;34m\u001b[0m\u001b[0m\n\u001b[1;32m    409\u001b[0m         \u001b[0;32mif\u001b[0m \u001b[0mmaxsize\u001b[0m \u001b[0;32mis\u001b[0m \u001b[0;32mnot\u001b[0m \u001b[0;32mNone\u001b[0m \u001b[0;32mand\u001b[0m \u001b[0msize\u001b[0m \u001b[0;34m>\u001b[0m \u001b[0mmaxsize\u001b[0m\u001b[0;34m:\u001b[0m\u001b[0;34m\u001b[0m\u001b[0m\n",
            "\u001b[0;32m~/anaconda3/envs/py365/lib/python3.6/multiprocessing/connection.py\u001b[0m in \u001b[0;36m_recv\u001b[0;34m(self, size, read)\u001b[0m\n\u001b[1;32m    377\u001b[0m         \u001b[0mremaining\u001b[0m \u001b[0;34m=\u001b[0m \u001b[0msize\u001b[0m\u001b[0;34m\u001b[0m\u001b[0m\n\u001b[1;32m    378\u001b[0m         \u001b[0;32mwhile\u001b[0m \u001b[0mremaining\u001b[0m \u001b[0;34m>\u001b[0m \u001b[0;36m0\u001b[0m\u001b[0;34m:\u001b[0m\u001b[0;34m\u001b[0m\u001b[0m\n\u001b[0;32m--> 379\u001b[0;31m             \u001b[0mchunk\u001b[0m \u001b[0;34m=\u001b[0m \u001b[0mread\u001b[0m\u001b[0;34m(\u001b[0m\u001b[0mhandle\u001b[0m\u001b[0;34m,\u001b[0m \u001b[0mremaining\u001b[0m\u001b[0;34m)\u001b[0m\u001b[0;34m\u001b[0m\u001b[0m\n\u001b[0m\u001b[1;32m    380\u001b[0m             \u001b[0mn\u001b[0m \u001b[0;34m=\u001b[0m \u001b[0mlen\u001b[0m\u001b[0;34m(\u001b[0m\u001b[0mchunk\u001b[0m\u001b[0;34m)\u001b[0m\u001b[0;34m\u001b[0m\u001b[0m\n\u001b[1;32m    381\u001b[0m             \u001b[0;32mif\u001b[0m \u001b[0mn\u001b[0m \u001b[0;34m==\u001b[0m \u001b[0;36m0\u001b[0m\u001b[0;34m:\u001b[0m\u001b[0;34m\u001b[0m\u001b[0m\n",
            "\u001b[0;31mKeyboardInterrupt\u001b[0m: "
          ]
        }
      ]
    },
    {
      "metadata": {
        "id": "M6QrdGNYpcbw",
        "colab_type": "text"
      },
      "cell_type": "markdown",
      "source": [
        "## Correlation"
      ]
    },
    {
      "metadata": {
        "id": "wPr4QDQ1pcbw",
        "colab_type": "code",
        "colab": {},
        "outputId": "ee30f9e1-569a-4af4-8d78-c70fab428294"
      },
      "cell_type": "code",
      "source": [
        "models = [\"reg\", \"nei\", \"rfc\", \"lgb\"] #, \"xgb\", \"cat\", \"nn\"]\n",
        "\n",
        "for model in models:\n",
        "    train[model] = train[model].rank()/len(train)\n",
        "\n",
        "train[models].corr(method=\"spearman\")"
      ],
      "execution_count": 0,
      "outputs": [
        {
          "output_type": "execute_result",
          "data": {
            "text/html": [
              "<div>\n",
              "<style scoped>\n",
              "    .dataframe tbody tr th:only-of-type {\n",
              "        vertical-align: middle;\n",
              "    }\n",
              "\n",
              "    .dataframe tbody tr th {\n",
              "        vertical-align: top;\n",
              "    }\n",
              "\n",
              "    .dataframe thead th {\n",
              "        text-align: right;\n",
              "    }\n",
              "</style>\n",
              "<table border=\"1\" class=\"dataframe\">\n",
              "  <thead>\n",
              "    <tr style=\"text-align: right;\">\n",
              "      <th></th>\n",
              "      <th>reg</th>\n",
              "      <th>nei</th>\n",
              "      <th>rfc</th>\n",
              "      <th>lgb</th>\n",
              "    </tr>\n",
              "  </thead>\n",
              "  <tbody>\n",
              "    <tr>\n",
              "      <th>reg</th>\n",
              "      <td>1.000000</td>\n",
              "      <td>0.849649</td>\n",
              "      <td>0.820383</td>\n",
              "      <td>0.830550</td>\n",
              "    </tr>\n",
              "    <tr>\n",
              "      <th>nei</th>\n",
              "      <td>0.849649</td>\n",
              "      <td>1.000000</td>\n",
              "      <td>0.835290</td>\n",
              "      <td>0.805125</td>\n",
              "    </tr>\n",
              "    <tr>\n",
              "      <th>rfc</th>\n",
              "      <td>0.820383</td>\n",
              "      <td>0.835290</td>\n",
              "      <td>1.000000</td>\n",
              "      <td>0.839611</td>\n",
              "    </tr>\n",
              "    <tr>\n",
              "      <th>lgb</th>\n",
              "      <td>0.830550</td>\n",
              "      <td>0.805125</td>\n",
              "      <td>0.839611</td>\n",
              "      <td>1.000000</td>\n",
              "    </tr>\n",
              "  </tbody>\n",
              "</table>\n",
              "</div>"
            ],
            "text/plain": [
              "          reg       nei       rfc       lgb\n",
              "reg  1.000000  0.849649  0.820383  0.830550\n",
              "nei  0.849649  1.000000  0.835290  0.805125\n",
              "rfc  0.820383  0.835290  1.000000  0.839611\n",
              "lgb  0.830550  0.805125  0.839611  1.000000"
            ]
          },
          "metadata": {
            "tags": []
          },
          "execution_count": 23
        }
      ]
    },
    {
      "metadata": {
        "id": "gxz8UHgDpcbz",
        "colab_type": "code",
        "colab": {},
        "outputId": "4dac9a39-4cfc-43a5-830f-d09b805c575b"
      },
      "cell_type": "code",
      "source": [
        "train[models].corr()"
      ],
      "execution_count": 0,
      "outputs": [
        {
          "output_type": "execute_result",
          "data": {
            "text/html": [
              "<div>\n",
              "<style scoped>\n",
              "    .dataframe tbody tr th:only-of-type {\n",
              "        vertical-align: middle;\n",
              "    }\n",
              "\n",
              "    .dataframe tbody tr th {\n",
              "        vertical-align: top;\n",
              "    }\n",
              "\n",
              "    .dataframe thead th {\n",
              "        text-align: right;\n",
              "    }\n",
              "</style>\n",
              "<table border=\"1\" class=\"dataframe\">\n",
              "  <thead>\n",
              "    <tr style=\"text-align: right;\">\n",
              "      <th></th>\n",
              "      <th>reg</th>\n",
              "      <th>nei</th>\n",
              "      <th>rfc</th>\n",
              "      <th>lgb</th>\n",
              "    </tr>\n",
              "  </thead>\n",
              "  <tbody>\n",
              "    <tr>\n",
              "      <th>reg</th>\n",
              "      <td>1.000000</td>\n",
              "      <td>0.849649</td>\n",
              "      <td>0.820383</td>\n",
              "      <td>0.830550</td>\n",
              "    </tr>\n",
              "    <tr>\n",
              "      <th>nei</th>\n",
              "      <td>0.849649</td>\n",
              "      <td>1.000000</td>\n",
              "      <td>0.835290</td>\n",
              "      <td>0.805125</td>\n",
              "    </tr>\n",
              "    <tr>\n",
              "      <th>rfc</th>\n",
              "      <td>0.820383</td>\n",
              "      <td>0.835290</td>\n",
              "      <td>1.000000</td>\n",
              "      <td>0.839611</td>\n",
              "    </tr>\n",
              "    <tr>\n",
              "      <th>lgb</th>\n",
              "      <td>0.830550</td>\n",
              "      <td>0.805125</td>\n",
              "      <td>0.839611</td>\n",
              "      <td>1.000000</td>\n",
              "    </tr>\n",
              "  </tbody>\n",
              "</table>\n",
              "</div>"
            ],
            "text/plain": [
              "          reg       nei       rfc       lgb\n",
              "reg  1.000000  0.849649  0.820383  0.830550\n",
              "nei  0.849649  1.000000  0.835290  0.805125\n",
              "rfc  0.820383  0.835290  1.000000  0.839611\n",
              "lgb  0.830550  0.805125  0.839611  1.000000"
            ]
          },
          "metadata": {
            "tags": []
          },
          "execution_count": 24
        }
      ]
    },
    {
      "metadata": {
        "id": "3KOYBI_hpcb1",
        "colab_type": "code",
        "colab": {},
        "outputId": "4a2e5e9c-1da3-4ddd-aa59-56c58f8c7746"
      },
      "cell_type": "code",
      "source": [
        "train[models].tail()"
      ],
      "execution_count": 0,
      "outputs": [
        {
          "output_type": "execute_result",
          "data": {
            "text/html": [
              "<div>\n",
              "<style scoped>\n",
              "    .dataframe tbody tr th:only-of-type {\n",
              "        vertical-align: middle;\n",
              "    }\n",
              "\n",
              "    .dataframe tbody tr th {\n",
              "        vertical-align: top;\n",
              "    }\n",
              "\n",
              "    .dataframe thead th {\n",
              "        text-align: right;\n",
              "    }\n",
              "</style>\n",
              "<table border=\"1\" class=\"dataframe\">\n",
              "  <thead>\n",
              "    <tr style=\"text-align: right;\">\n",
              "      <th></th>\n",
              "      <th>reg</th>\n",
              "      <th>nei</th>\n",
              "      <th>rfc</th>\n",
              "      <th>lgb</th>\n",
              "    </tr>\n",
              "  </thead>\n",
              "  <tbody>\n",
              "    <tr>\n",
              "      <th>26070</th>\n",
              "      <td>0.941707</td>\n",
              "      <td>0.787728</td>\n",
              "      <td>0.836817</td>\n",
              "      <td>0.888399</td>\n",
              "    </tr>\n",
              "    <tr>\n",
              "      <th>26071</th>\n",
              "      <td>0.468917</td>\n",
              "      <td>0.245427</td>\n",
              "      <td>0.259827</td>\n",
              "      <td>0.410125</td>\n",
              "    </tr>\n",
              "    <tr>\n",
              "      <th>26072</th>\n",
              "      <td>0.637392</td>\n",
              "      <td>0.563356</td>\n",
              "      <td>0.533346</td>\n",
              "      <td>0.346539</td>\n",
              "    </tr>\n",
              "    <tr>\n",
              "      <th>26073</th>\n",
              "      <td>0.845139</td>\n",
              "      <td>0.972733</td>\n",
              "      <td>0.964295</td>\n",
              "      <td>0.946692</td>\n",
              "    </tr>\n",
              "    <tr>\n",
              "      <th>26074</th>\n",
              "      <td>0.589223</td>\n",
              "      <td>0.370834</td>\n",
              "      <td>0.681457</td>\n",
              "      <td>0.224353</td>\n",
              "    </tr>\n",
              "  </tbody>\n",
              "</table>\n",
              "</div>"
            ],
            "text/plain": [
              "            reg       nei       rfc       lgb\n",
              "26070  0.941707  0.787728  0.836817  0.888399\n",
              "26071  0.468917  0.245427  0.259827  0.410125\n",
              "26072  0.637392  0.563356  0.533346  0.346539\n",
              "26073  0.845139  0.972733  0.964295  0.946692\n",
              "26074  0.589223  0.370834  0.681457  0.224353"
            ]
          },
          "metadata": {
            "tags": []
          },
          "execution_count": 25
        }
      ]
    },
    {
      "metadata": {
        "id": "R-hwRBWmpcb4",
        "colab_type": "text"
      },
      "cell_type": "markdown",
      "source": [
        "## Blending"
      ]
    },
    {
      "metadata": {
        "id": "zMVMX9Mrpcb5",
        "colab_type": "code",
        "colab": {},
        "outputId": "afe020d4-b86b-4f72-bf3c-bc016afd026d"
      },
      "cell_type": "code",
      "source": [
        "for arch in models:\n",
        "    print(arch, round(roc_auc_score(y, train[arch]), 5))"
      ],
      "execution_count": 0,
      "outputs": [
        {
          "output_type": "stream",
          "text": [
            "reg 0.82978\n",
            "nei 0.82479\n",
            "rfc 0.84751\n",
            "lgb 0.87938\n"
          ],
          "name": "stdout"
        }
      ]
    },
    {
      "metadata": {
        "id": "yR4eQcIWpcb6",
        "colab_type": "text"
      },
      "cell_type": "markdown",
      "source": [
        "Let's try traditional arithmetic mean"
      ]
    },
    {
      "metadata": {
        "id": "KbSuGoMqpcb7",
        "colab_type": "code",
        "colab": {},
        "outputId": "6ba0169f-e5fb-4253-d96d-c5fdf0f36d6f"
      },
      "cell_type": "code",
      "source": [
        "train[\"avg\"] = train[models].mean(axis=1)\n",
        "print(\"avg\", round(roc_auc_score(y, train[\"avg\"]), 5))"
      ],
      "execution_count": 0,
      "outputs": [
        {
          "output_type": "stream",
          "text": [
            "avg 0.86849\n"
          ],
          "name": "stdout"
        }
      ]
    },
    {
      "metadata": {
        "id": "0UeIo2pDpcb9",
        "colab_type": "text"
      },
      "cell_type": "markdown",
      "source": [
        "Now some more advanced means"
      ]
    },
    {
      "metadata": {
        "id": "GJd66spJpcb9",
        "colab_type": "code",
        "colab": {}
      },
      "cell_type": "code",
      "source": [
        "from scipy.stats.mstats import gmean\n",
        "\n",
        "def power_mean(x, p=1):\n",
        "    if p==0:\n",
        "        return gmean(x, axis=1)\n",
        "    return np.power(np.mean(np.power(x,p), axis=1), 1/p)"
      ],
      "execution_count": 0,
      "outputs": []
    },
    {
      "metadata": {
        "id": "UusxZX_Rpcb_",
        "colab_type": "code",
        "colab": {},
        "outputId": "b22f6f95-1612-44df-8088-1c5c46bbf01a"
      },
      "cell_type": "code",
      "source": [
        "for power in [0,1,2,4,8]:\n",
        "    train[\"avg\"] = power_mean(train[models].values, power)\n",
        "    print(power, round(roc_auc_score(y, train[\"avg\"]), 5))"
      ],
      "execution_count": 0,
      "outputs": [
        {
          "output_type": "stream",
          "text": [
            "0 0.86793\n",
            "1 0.86849\n",
            "2 0.86869\n",
            "4 0.86862\n",
            "8 0.86784\n"
          ],
          "name": "stdout"
        }
      ]
    },
    {
      "metadata": {
        "id": "48ZekFIapccC",
        "colab_type": "text"
      },
      "cell_type": "markdown",
      "source": [
        "Weigted"
      ]
    },
    {
      "metadata": {
        "id": "ROAm6546pccD",
        "colab_type": "code",
        "colab": {},
        "outputId": "ef5981ba-1b62-4e8c-89e2-4ed5610d4e7f"
      },
      "cell_type": "code",
      "source": [
        "w = [1,0,0,15,25,40,35,30,30,30]\n",
        "\n",
        "train[\"w_avg\"] = 0\n",
        "for i, model in enumerate(models):\n",
        "    train[\"w_avg\"] += train[model] * w[i]\n",
        "\n",
        "print(\"w_avg\", round(roc_auc_score(y, train[\"w_avg\"]), 5))"
      ],
      "execution_count": 0,
      "outputs": [
        {
          "output_type": "stream",
          "text": [
            "w_avg 0.88007\n"
          ],
          "name": "stdout"
        }
      ]
    },
    {
      "metadata": {
        "id": "vLNVXKiCpccF",
        "colab_type": "text"
      },
      "cell_type": "markdown",
      "source": [
        "## Stacking"
      ]
    },
    {
      "metadata": {
        "id": "mqhO4zqQpccF",
        "colab_type": "code",
        "colab": {},
        "outputId": "4ffbb5c0-7ab5-4bed-e0f4-bf09c7b077d0"
      },
      "cell_type": "code",
      "source": [
        "%%time\n",
        "\n",
        "skf = StratifiedKFold(n_splits=5, shuffle=True, random_state=42)\n",
        "arch = \"stack\"\n",
        "\n",
        "train[arch] = 0\n",
        "\n",
        "for i, (train_index, valid_index) in enumerate(skf.split(X, y)):\n",
        "    \n",
        "    X_train = train.loc[train_index, models]\n",
        "    X_valid = train.loc[valid_index, models]\n",
        "\n",
        "    y_train = y[train_index]\n",
        "    y_valid = y[valid_index]\n",
        "    \n",
        "    reg = LogisticRegression(C=1,\n",
        "                             solver=\"newton-cg\", \n",
        "                             penalty=\"l2\", \n",
        "                             n_jobs=-1, \n",
        "                             max_iter=100).fit(X_train, y_train) \n",
        "    \n",
        "    y_pred = reg.predict_proba(X_valid)[:,1]\n",
        "    train.loc[valid_index, arch] = y_pred\n",
        "    print(i, \"ROC AUC:\", round(roc_auc_score(y_valid, y_pred), 5))\n",
        "\n",
        "print()\n",
        "print(\"OOF ROC AUC:\", round(roc_auc_score(y, train[arch]), 5))\n",
        "print()"
      ],
      "execution_count": 0,
      "outputs": [
        {
          "output_type": "stream",
          "text": [
            "0 ROC AUC: 0.88714\n",
            "1 ROC AUC: 0.87402\n",
            "2 ROC AUC: 0.88605\n",
            "3 ROC AUC: 0.88435\n",
            "4 ROC AUC: 0.87957\n",
            "\n",
            "OOF ROC AUC: 0.88093\n",
            "\n",
            "CPU times: user 268 ms, sys: 798 ms, total: 1.07 s\n",
            "Wall time: 2.96 s\n"
          ],
          "name": "stdout"
        }
      ]
    },
    {
      "metadata": {
        "id": "Mf23_NznpccH",
        "colab_type": "code",
        "colab": {},
        "outputId": "b26ca6f9-ec15-43cf-b013-bf0f463b6fc5"
      },
      "cell_type": "code",
      "source": [
        "reg.coef_[0]/np.sum(reg.coef_[0])*100"
      ],
      "execution_count": 0,
      "outputs": [
        {
          "output_type": "execute_result",
          "data": {
            "text/plain": [
              "array([ 7.4695  ,  0.67195 , 16.913478, 74.945072])"
            ]
          },
          "metadata": {
            "tags": []
          },
          "execution_count": 32
        }
      ]
    },
    {
      "metadata": {
        "id": "7dWcRiWWpccJ",
        "colab_type": "text"
      },
      "cell_type": "markdown",
      "source": [
        "## H2O"
      ]
    },
    {
      "metadata": {
        "id": "ucJ4k2s4pccJ",
        "colab_type": "code",
        "colab": {},
        "outputId": "e24a42f2-d131-458b-8a9d-8da88e2ba974"
      },
      "cell_type": "code",
      "source": [
        "# pip install h2o\n",
        "# https://github.com/h2oai/h2o-tutorials/blob/master/h2o-world-2017/automl/Python/automl_binary_classification_product_backorders.ipynb\n",
        "\n",
        "import h2o\n",
        "from h2o.automl import H2OAutoML\n",
        "h2o.init()"
      ],
      "execution_count": 0,
      "outputs": [
        {
          "output_type": "stream",
          "text": [
            "Checking whether there is an H2O instance running at http://localhost:54321 ..... not found.\n",
            "Attempting to start a local H2O server...\n",
            "  Java Version: openjdk version \"11.0.2\" 2019-01-15; OpenJDK Runtime Environment (build 11.0.2+9-Ubuntu-3ubuntu118.04.3); OpenJDK 64-Bit Server VM (build 11.0.2+9-Ubuntu-3ubuntu118.04.3, mixed mode, sharing)\n",
            "  Starting server from /home/pavel/anaconda3/envs/py365/lib/python3.6/site-packages/h2o/backend/bin/h2o.jar\n",
            "  Ice root: /tmp/tmp3cc3fg75\n",
            "  JVM stdout: /tmp/tmp3cc3fg75/h2o_pavel_started_from_python.out\n",
            "  JVM stderr: /tmp/tmp3cc3fg75/h2o_pavel_started_from_python.err\n",
            "  Server is running at http://127.0.0.1:54321\n",
            "Connecting to H2O server at http://127.0.0.1:54321 ... successful.\n"
          ],
          "name": "stdout"
        },
        {
          "output_type": "display_data",
          "data": {
            "text/html": [
              "<div style=\"overflow:auto\"><table style=\"width:50%\"><tr><td>H2O cluster uptime:</td>\n",
              "<td>01 secs</td></tr>\n",
              "<tr><td>H2O cluster timezone:</td>\n",
              "<td>Europe/Moscow</td></tr>\n",
              "<tr><td>H2O data parsing timezone:</td>\n",
              "<td>UTC</td></tr>\n",
              "<tr><td>H2O cluster version:</td>\n",
              "<td>3.24.0.2</td></tr>\n",
              "<tr><td>H2O cluster version age:</td>\n",
              "<td>9 days </td></tr>\n",
              "<tr><td>H2O cluster name:</td>\n",
              "<td>H2O_from_python_pavel_y5r215</td></tr>\n",
              "<tr><td>H2O cluster total nodes:</td>\n",
              "<td>1</td></tr>\n",
              "<tr><td>H2O cluster free memory:</td>\n",
              "<td>3.891 Gb</td></tr>\n",
              "<tr><td>H2O cluster total cores:</td>\n",
              "<td>4</td></tr>\n",
              "<tr><td>H2O cluster allowed cores:</td>\n",
              "<td>4</td></tr>\n",
              "<tr><td>H2O cluster status:</td>\n",
              "<td>accepting new members, healthy</td></tr>\n",
              "<tr><td>H2O connection url:</td>\n",
              "<td>http://127.0.0.1:54321</td></tr>\n",
              "<tr><td>H2O connection proxy:</td>\n",
              "<td>None</td></tr>\n",
              "<tr><td>H2O internal security:</td>\n",
              "<td>False</td></tr>\n",
              "<tr><td>H2O API Extensions:</td>\n",
              "<td>Amazon S3, XGBoost, Algos, AutoML, Core V3, Core V4</td></tr>\n",
              "<tr><td>Python version:</td>\n",
              "<td>3.6.5 final</td></tr></table></div>"
            ],
            "text/plain": [
              "--------------------------  ---------------------------------------------------\n",
              "H2O cluster uptime:         01 secs\n",
              "H2O cluster timezone:       Europe/Moscow\n",
              "H2O data parsing timezone:  UTC\n",
              "H2O cluster version:        3.24.0.2\n",
              "H2O cluster version age:    9 days\n",
              "H2O cluster name:           H2O_from_python_pavel_y5r215\n",
              "H2O cluster total nodes:    1\n",
              "H2O cluster free memory:    3.891 Gb\n",
              "H2O cluster total cores:    4\n",
              "H2O cluster allowed cores:  4\n",
              "H2O cluster status:         accepting new members, healthy\n",
              "H2O connection url:         http://127.0.0.1:54321\n",
              "H2O connection proxy:\n",
              "H2O internal security:      False\n",
              "H2O API Extensions:         Amazon S3, XGBoost, Algos, AutoML, Core V3, Core V4\n",
              "Python version:             3.6.5 final\n",
              "--------------------------  ---------------------------------------------------"
            ]
          },
          "metadata": {
            "tags": []
          }
        }
      ]
    },
    {
      "metadata": {
        "id": "vWsuPT52pccL",
        "colab_type": "code",
        "colab": {},
        "outputId": "df617bab-aa16-4605-e909-d2c343515db2"
      },
      "cell_type": "code",
      "source": [
        "data_path = \"partial_train_\"+str(N)+\".csv\"\n",
        "df = h2o.import_file(data_path)"
      ],
      "execution_count": 0,
      "outputs": [
        {
          "output_type": "stream",
          "text": [
            "Parse progress: |█████████████████████████████████████████████████████████| 100%\n"
          ],
          "name": "stdout"
        }
      ]
    },
    {
      "metadata": {
        "id": "4Uhx8aRrpccN",
        "colab_type": "code",
        "colab": {},
        "outputId": "c96182ba-5706-441b-c130-b12748b2fd6d"
      },
      "cell_type": "code",
      "source": [
        "df.describe()"
      ],
      "execution_count": 0,
      "outputs": [
        {
          "output_type": "stream",
          "text": [
            "Rows:26076\n",
            "Cols:51\n",
            "\n",
            "\n"
          ],
          "name": "stdout"
        },
        {
          "output_type": "display_data",
          "data": {
            "text/html": [
              "<table>\n",
              "<thead>\n",
              "<tr><th>       </th><th>C1                 </th><th>C2                     </th><th>C3                    </th><th>C4                   </th><th>C5                    </th><th>C6                    </th><th>C7                    </th><th>C8                    </th><th>C9                   </th><th>C10                  </th><th>C11                   </th><th>C12                  </th><th>C13                  </th><th>C14                   </th><th>C15                  </th><th>C16                  </th><th>C17                  </th><th>C18                 </th><th>C19                  </th><th>C20                  </th><th>C21                  </th><th>C22                  </th><th>C23                  </th><th>C24                  </th><th>C25                  </th><th>C26                  </th><th>C27                  </th><th>C28                  </th><th>C29                  </th><th>C30                  </th><th>C31                  </th><th>C32                 </th><th>C33                  </th><th>C34                  </th><th>C35                  </th><th>C36                  </th><th>C37                  </th><th>C38                  </th><th>C39                  </th><th>C40                  </th><th>C41                  </th><th>C42                  </th><th>C43                  </th><th>C44                 </th><th>C45                  </th><th>C46                  </th><th>C47                  </th><th>C48                  </th><th>C49                  </th><th>C50                  </th><th>C51                  </th></tr>\n",
              "</thead>\n",
              "<tbody>\n",
              "<tr><td>type   </td><td>int                </td><td>real                   </td><td>real                  </td><td>real                 </td><td>real                  </td><td>real                  </td><td>real                  </td><td>real                  </td><td>real                 </td><td>real                 </td><td>real                  </td><td>real                 </td><td>real                 </td><td>real                  </td><td>real                 </td><td>real                 </td><td>real                 </td><td>real                </td><td>real                 </td><td>real                 </td><td>real                 </td><td>real                 </td><td>real                 </td><td>real                 </td><td>real                 </td><td>real                 </td><td>real                 </td><td>real                 </td><td>real                 </td><td>real                 </td><td>real                 </td><td>real                </td><td>real                 </td><td>real                 </td><td>real                 </td><td>real                 </td><td>real                 </td><td>real                 </td><td>real                 </td><td>real                 </td><td>real                 </td><td>real                 </td><td>real                 </td><td>real                </td><td>real                 </td><td>real                 </td><td>real                 </td><td>real                 </td><td>real                 </td><td>real                 </td><td>real                 </td></tr>\n",
              "<tr><td>mins   </td><td>0.0                </td><td>-11.938267823855128    </td><td>-14.075283500564058   </td><td>-12.289753835055922  </td><td>-2.9221985382333613   </td><td>-23.73804141186094    </td><td>-13.479519578262924   </td><td>-16.442167927614356   </td><td>-9.160692869593015   </td><td>-28.914890973393543  </td><td>-47.13814912547096    </td><td>-36.257033385616474  </td><td>-21.817128509539145  </td><td>-58.80211896018023    </td><td>-61.98929355857748   </td><td>-33.79985052346425   </td><td>-38.14922714305683   </td><td>-30.83280309400253  </td><td>-24.544401262144127  </td><td>-8.651304640290293   </td><td>-7.25585087998134    </td><td>-8.104591843615767   </td><td>-8.557143223626502   </td><td>-6.321823164572332   </td><td>-7.446476564533208   </td><td>-6.760235083166254   </td><td>-6.3467679384884566  </td><td>-23.821449052448255  </td><td>-12.504261361498475  </td><td>-5.210521220724917   </td><td>-3.2834669410832773  </td><td>-5.38219981397617   </td><td>-11.492918793955596  </td><td>-5.858499321198778   </td><td>-13.873693674405752  </td><td>-11.824087377694871  </td><td>-6.784460839081995   </td><td>-5.678143262886047   </td><td>-6.167188411058358   </td><td>-7.233161156898839   </td><td>-9.832346357835824   </td><td>-5.863674722347664   </td><td>-5.83410345585325    </td><td>-4.993018532689202  </td><td>-10.361370666455263  </td><td>-22.18698828288092   </td><td>-16.907678699273273  </td><td>-9.162260509870809   </td><td>-7.245310547176053   </td><td>-9.146878668645806   </td><td>-9.981703221419751   </td></tr>\n",
              "<tr><td>mean   </td><td>0.18772770853307766</td><td>-2.2365910320290312e-15</td><td>3.8349440098710006e-05</td><td>7.669888019775082e-05</td><td>0.00011504832029041676</td><td>0.00015339776038692586</td><td>0.00019174720048834986</td><td>0.00023009664058098908</td><td>0.0002684460806771606</td><td>0.0003067955207834079</td><td>0.00034514496088281795</td><td>0.0003834944009814416</td><td>0.0004218438410783594</td><td>0.00046019328118004666</td><td>0.0004985427212746628</td><td>0.0005368921613735915</td><td>0.0005752416014699522</td><td>0.000613591041560039</td><td>0.0006519404816624508</td><td>0.0006902899217702126</td><td>0.0007286393618638617</td><td>0.0007669888019619856</td><td>0.0008053382420635404</td><td>0.0008436876821671977</td><td>0.0008820371222630506</td><td>0.0009203865623483452</td><td>0.0009587360024740836</td><td>0.0009970854425212505</td><td>0.0010354348826569254</td><td>0.0010737843227369953</td><td>0.0011121337628552436</td><td>0.001150483202942991</td><td>0.0011888326430519046</td><td>0.0012271820831629982</td><td>0.0012655315232324143</td><td>0.0013038809633341972</td><td>0.0013422304034278667</td><td>0.0013805798435267834</td><td>0.0014189292836425415</td><td>0.0014572787237281067</td><td>0.0014956281638209734</td><td>0.0015339776039339367</td><td>0.0015723270440254058</td><td>0.001610676484132161</td><td>0.0016490259242191675</td><td>0.0016873753643115565</td><td>0.0017257248044187622</td><td>0.0017640742445180321</td><td>0.0018024236846141022</td><td>0.0018407731247137833</td><td>0.0018791225648061335</td></tr>\n",
              "<tr><td>maxs   </td><td>1.0                </td><td>58.184681025913434     </td><td>25.461971946311575    </td><td>33.01918169985315    </td><td>92.1734260803843      </td><td>77.02807461250507     </td><td>20.319721376174265    </td><td>66.01698946686977     </td><td>44.22227512470861    </td><td>39.375070543681105   </td><td>95.15751871235015     </td><td>78.84700655737582    </td><td>65.90618331229439    </td><td>117.7581407523005     </td><td>128.31898724202782   </td><td>46.1409976958066     </td><td>58.24964160563993    </td><td>35.46988431840629   </td><td>34.472254383336605   </td><td>18.0                 </td><td>19.0                 </td><td>46.692470012638395   </td><td>64.92133635456318    </td><td>22.0                 </td><td>23.0                 </td><td>24.0                 </td><td>25.0                 </td><td>27.777335735940405   </td><td>27.0                 </td><td>65.7138313682624     </td><td>178.34711315335818   </td><td>61.02251365586836   </td><td>31.0                 </td><td>32.0                 </td><td>33.0                 </td><td>34.0                 </td><td>35.0                 </td><td>36.0                 </td><td>37.0                 </td><td>38.0                 </td><td>39.0                 </td><td>40.0                 </td><td>41.0                 </td><td>42.0                </td><td>43.0                 </td><td>44.0                 </td><td>45.0                 </td><td>46.0                 </td><td>47.0                 </td><td>48.0                 </td><td>49.0                 </td></tr>\n",
              "<tr><td>sigma  </td><td>0.390502066811283  </td><td>6.311367481154426      </td><td>4.788526827641252     </td><td>4.515022328016046    </td><td>3.5893906749167797    </td><td>2.970793077264579     </td><td>2.848076603143043     </td><td>2.658352396754892     </td><td>2.3427158436574462   </td><td>2.2550843866626384   </td><td>2.164752272994711     </td><td>2.1510792244683685   </td><td>2.1231942963985104   </td><td>2.086927700727879     </td><td>2.066846276777371    </td><td>2.0500247017463287   </td><td>2.0343575026989384   </td><td>2.004380374403705   </td><td>1.9843061012655967   </td><td>1.8609188419790288   </td><td>1.8340443077881057   </td><td>1.7289728706439471   </td><td>1.6662091850778529   </td><td>1.608348791423989    </td><td>1.5365146897219797   </td><td>1.5023808766594544   </td><td>1.4865500059658818   </td><td>1.4473920519673233   </td><td>1.4220994449650515   </td><td>1.403210288857438    </td><td>1.3754872874237103   </td><td>1.3638526214040614  </td><td>1.3427855920465548   </td><td>1.3384132942678002   </td><td>1.3334106220238913   </td><td>1.3187474185144137   </td><td>1.3051428009720178   </td><td>1.2889121428446402   </td><td>1.2855655699712416   </td><td>1.270273665654587    </td><td>1.2464239996602313   </td><td>1.2269316407248567   </td><td>1.2094028006075428   </td><td>1.2015246283589411  </td><td>1.1991942771459179   </td><td>1.1686200001211053   </td><td>1.1610598133309034   </td><td>1.1468909912938996   </td><td>1.134510185032557    </td><td>1.1277682752983673   </td><td>1.1213845484042915   </td></tr>\n",
              "<tr><td>zeros  </td><td>21180              </td><td>1                      </td><td>0                     </td><td>0                    </td><td>0                     </td><td>0                     </td><td>0                     </td><td>0                     </td><td>0                    </td><td>0                    </td><td>0                     </td><td>0                    </td><td>0                    </td><td>0                     </td><td>0                    </td><td>0                    </td><td>0                    </td><td>0                   </td><td>0                    </td><td>0                    </td><td>0                    </td><td>0                    </td><td>0                    </td><td>0                    </td><td>0                    </td><td>0                    </td><td>0                    </td><td>0                    </td><td>0                    </td><td>0                    </td><td>0                    </td><td>0                   </td><td>0                    </td><td>0                    </td><td>0                    </td><td>0                    </td><td>0                    </td><td>0                    </td><td>0                    </td><td>0                    </td><td>0                    </td><td>0                    </td><td>0                    </td><td>0                   </td><td>0                    </td><td>0                    </td><td>0                    </td><td>0                    </td><td>0                    </td><td>0                    </td><td>0                    </td></tr>\n",
              "<tr><td>missing</td><td>1                  </td><td>0                      </td><td>0                     </td><td>0                    </td><td>0                     </td><td>0                     </td><td>0                     </td><td>0                     </td><td>0                    </td><td>0                    </td><td>0                     </td><td>0                    </td><td>0                    </td><td>0                     </td><td>0                    </td><td>0                    </td><td>0                    </td><td>0                   </td><td>0                    </td><td>0                    </td><td>0                    </td><td>0                    </td><td>0                    </td><td>0                    </td><td>0                    </td><td>0                    </td><td>0                    </td><td>0                    </td><td>0                    </td><td>0                    </td><td>0                    </td><td>0                   </td><td>0                    </td><td>0                    </td><td>0                    </td><td>0                    </td><td>0                    </td><td>0                    </td><td>0                    </td><td>0                    </td><td>0                    </td><td>0                    </td><td>0                    </td><td>0                   </td><td>0                    </td><td>0                    </td><td>0                    </td><td>0                    </td><td>0                    </td><td>0                    </td><td>0                    </td></tr>\n",
              "<tr><td>0      </td><td>nan                </td><td>0.0                    </td><td>1.0                   </td><td>2.0                  </td><td>3.0                   </td><td>4.0                   </td><td>5.0                   </td><td>6.0                   </td><td>7.0                  </td><td>8.0                  </td><td>9.0                   </td><td>10.0                 </td><td>11.0                 </td><td>12.0                  </td><td>13.0                 </td><td>14.0                 </td><td>15.0                 </td><td>16.0                </td><td>17.0                 </td><td>18.0                 </td><td>19.0                 </td><td>20.0                 </td><td>21.0                 </td><td>22.0                 </td><td>23.0                 </td><td>24.0                 </td><td>25.0                 </td><td>26.0                 </td><td>27.0                 </td><td>28.0                 </td><td>29.0                 </td><td>30.0                </td><td>31.0                 </td><td>32.0                 </td><td>33.0                 </td><td>34.0                 </td><td>35.0                 </td><td>36.0                 </td><td>37.0                 </td><td>38.0                 </td><td>39.0                 </td><td>40.0                 </td><td>41.0                 </td><td>42.0                </td><td>43.0                 </td><td>44.0                 </td><td>45.0                 </td><td>46.0                 </td><td>47.0                 </td><td>48.0                 </td><td>49.0                 </td></tr>\n",
              "<tr><td>1      </td><td>0.0                </td><td>-3.7210684836739314    </td><td>7.38223350656008      </td><td>-8.669012744943874   </td><td>-0.8813933347665721   </td><td>-0.45143778457011896  </td><td>-3.090623926486286    </td><td>1.3510583312752362    </td><td>-1.3230934794595066  </td><td>-0.2584241105074318  </td><td>0.04164239613652152   </td><td>-0.10408613925759055 </td><td>-0.02481167610814857 </td><td>0.6317106937446105    </td><td>-0.31373000717944893 </td><td>-1.4826333541347898  </td><td>0.8854272727697913   </td><td>-0.8532734866670321 </td><td>-0.6175891240911872  </td><td>-0.9090095560149716  </td><td>-3.093309234806644   </td><td>-0.646734345835473   </td><td>1.4739284803516075   </td><td>-2.025344738172068   </td><td>1.7249422458253705   </td><td>0.06326916649820083  </td><td>-0.5473452412550932  </td><td>-0.41366516245212936 </td><td>-1.853905379387472   </td><td>-0.24035298062448757 </td><td>0.46796331413441383  </td><td>-0.3786099857726081 </td><td>-0.04055364912966451 </td><td>-0.22599263377673348 </td><td>-0.23704105800564315 </td><td>-0.85431683260357    </td><td>-0.1736728833787933  </td><td>0.31896560273743785  </td><td>0.6732959129084136   </td><td>1.3481308520435376   </td><td>-0.6546876697178144  </td><td>-1.1692553419089668  </td><td>-0.35115220075740317 </td><td>-0.08567865046001218</td><td>-0.7904526560452311  </td><td>0.7231529550074979   </td><td>0.9829388913962276   </td><td>-0.2928602260136185  </td><td>-0.8308930425096941  </td><td>0.5049039283600163   </td><td>0.948935277135074    </td></tr>\n",
              "<tr><td>2      </td><td>1.0                </td><td>8.480511126527686      </td><td>-1.407695134661176    </td><td>-2.320430585341755   </td><td>-0.198319939038867    </td><td>5.769209507424558     </td><td>-0.10605270474090954  </td><td>-4.448192007728569    </td><td>-2.6764648506124136  </td><td>-0.3872359313613931  </td><td>-0.2626403141095002   </td><td>-0.6050678994613559  </td><td>1.280003636356839    </td><td>-0.5915329224212972   </td><td>0.30550341368474543  </td><td>1.372929797231233    </td><td>-0.6255862104056139  </td><td>0.2581152545661715  </td><td>-0.520589060586796   </td><td>0.3108771129280841   </td><td>0.419030781343259    </td><td>-0.4135352261300368  </td><td>1.9019477226251968   </td><td>-0.2546737975128194  </td><td>-1.6634756295041244  </td><td>1.5744029786418583   </td><td>2.242181136446998    </td><td>0.790690295736795    </td><td>3.841069923938498    </td><td>-1.1121026182724605  </td><td>-0.45076814362479384 </td><td>0.9224596989930935  </td><td>0.3708689292110042   </td><td>-0.8091279248394708  </td><td>-0.7985542943603351  </td><td>1.184205448312564    </td><td>0.5251612927515692   </td><td>1.5016111351128647   </td><td>0.22925489717962536  </td><td>2.2944120705847544   </td><td>-0.5424791256892536  </td><td>-0.5740137446617641  </td><td>-1.24210769136148    </td><td>-1.1835458016648768 </td><td>-1.9332206009952269  </td><td>0.8880207979160157   </td><td>-1.2387430287273953  </td><td>-0.005884881600482437</td><td>0.5319570166473372   </td><td>0.8030689469327864   </td><td>-1.2969446445986346  </td></tr>\n",
              "<tr><td>3      </td><td>0.0                </td><td>9.298550888449896      </td><td>-0.5513446969309842   </td><td>0.9977147163265156   </td><td>-1.1019049529571243   </td><td>0.14188891975774326   </td><td>1.5238627794511346    </td><td>1.6531441406334615    </td><td>4.538746050381738    </td><td>-4.4263928723637065  </td><td>0.3244563271587934    </td><td>-1.2310627761221589  </td><td>1.8147565132980656   </td><td>0.5851185892087092    </td><td>-0.5001343356371558  </td><td>-1.0395439572589933  </td><td>-0.5746563655083655  </td><td>-1.5127303407520631 </td><td>-1.1421383264203984  </td><td>-1.7318675005647957  </td><td>0.19538995528973785  </td><td>-1.970140121536486   </td><td>-0.42688036652904976 </td><td>-0.01344973635043951 </td><td>0.48839915722990473  </td><td>-2.5368522445145727  </td><td>1.1501882548765068   </td><td>1.4071210862008028   </td><td>1.883147752417029    </td><td>0.8012641660970642   </td><td>-0.8862239383354785  </td><td>0.013811512336269278</td><td>-0.21301760400344247 </td><td>-1.6251151624558378  </td><td>1.3956715721471509   </td><td>-1.5745493248964992  </td><td>1.5444039465058674   </td><td>1.6455180151706117   </td><td>-0.998974389088506   </td><td>-2.0427822622845495  </td><td>0.6347318031388255   </td><td>-1.264061541086147   </td><td>1.1519529368824253   </td><td>0.46863389960460994 </td><td>-0.9456896633814824  </td><td>-0.6420848145518847  </td><td>1.4300183258150838   </td><td>-0.3394697034107209  </td><td>-0.988826094718526   </td><td>-1.0673604470241218  </td><td>1.1086595417726852   </td></tr>\n",
              "<tr><td>4      </td><td>1.0                </td><td>9.42847284386381       </td><td>-1.794185345771985    </td><td>0.15864236230796205  </td><td>-0.5894465334816602   </td><td>1.1091242457351485    </td><td>0.09341670406109788   </td><td>-1.2555679682116      </td><td>2.4213962564057603   </td><td>-1.8777537055838815  </td><td>0.23405507707799103   </td><td>-1.0195426651199426  </td><td>0.9304643611322524   </td><td>0.01741681506569274   </td><td>-0.05307633805116319 </td><td>2.0109744173825175   </td><td>-2.4304077091097507  </td><td>-2.1998121792337337 </td><td>-2.286362959676862   </td><td>1.8387181451048944   </td><td>-2.242316381081818   </td><td>2.119291125295349    </td><td>-0.10676065606674533 </td><td>0.6397662549481843   </td><td>3.563028215337459    </td><td>2.07715147335909     </td><td>0.6672113263073125   </td><td>0.25422510006675897  </td><td>1.10581031457546     </td><td>1.261217424422658    </td><td>-0.13009441474088512 </td><td>-1.5555411601208575 </td><td>0.8010695490478462   </td><td>0.41425706518624816  </td><td>0.2696637971098139   </td><td>-0.43482797483674374 </td><td>-0.44535668456833494 </td><td>0.5721630020935394   </td><td>-1.1450118768124695  </td><td>-1.2770323260118743  </td><td>-0.14864559360897664 </td><td>-0.8878055083021191  </td><td>0.2707771591477678   </td><td>-2.4787492534845827 </td><td>1.4348801221749248   </td><td>0.924073323480482    </td><td>-1.0094660578893726  </td><td>-0.216245990700733   </td><td>0.30765282767971613  </td><td>-0.15787702258397882 </td><td>0.15482388534902192  </td></tr>\n",
              "<tr><td>5      </td><td>0.0                </td><td>8.167114242570376      </td><td>-0.1019484766499197   </td><td>6.614104422051032    </td><td>-1.2024990069685364   </td><td>-5.737129118800325    </td><td>0.044053344032698734  </td><td>3.9971447465894494    </td><td>-0.4689420966956323  </td><td>0.38222803171672215  </td><td>-0.0831238246899604   </td><td>0.001998474782184681 </td><td>-0.30104911332791695 </td><td>-0.16987314613839857  </td><td>0.1390972889001117   </td><td>0.5738070731080126   </td><td>-0.37913848784001986 </td><td>0.4557818506515213  </td><td>0.6238815899287317   </td><td>-1.4178817037483644  </td><td>2.2432509158474363   </td><td>-0.5564969687231885  </td><td>0.1006006525363806   </td><td>1.287372913295021    </td><td>0.16890619092187925  </td><td>-0.3087806268548808  </td><td>-1.4986287479088298  </td><td>2.521563580040161    </td><td>-0.496437140415251   </td><td>0.3835131590235444   </td><td>-0.3030955399183646  </td><td>0.4451713803036498  </td><td>-0.36694363338186503 </td><td>0.6846811309069323   </td><td>-0.47537690819026707 </td><td>0.23912063607634448  </td><td>2.2548886311676455   </td><td>-0.631710945958685   </td><td>-0.19660803796339552 </td><td>1.1674050199103445   </td><td>-0.11672649353835118 </td><td>0.4863218855820632   </td><td>0.988203173491489    </td><td>-1.097204186576769  </td><td>-0.8170015125219973  </td><td>0.19729468455956503  </td><td>0.032254155127597973 </td><td>-0.3595736381795275  </td><td>-0.11754931143210988 </td><td>0.8803650505716422   </td><td>0.9201241118594948   </td></tr>\n",
              "<tr><td>6      </td><td>0.0                </td><td>6.9652439023224995     </td><td>-1.2332995344815425   </td><td>0.14451119601357992  </td><td>-1.72613828726513     </td><td>-1.8489876319408405   </td><td>-0.7518608625201157   </td><td>-4.005134576304208    </td><td>-0.4075805141959308  </td><td>1.3040321771319647   </td><td>-0.4045987676183954   </td><td>0.49801608945438786  </td><td>-1.185038225918864   </td><td>1.1708486425864446    </td><td>-0.7713709853077932  </td><td>1.1154057640153292   </td><td>-1.1441275271472613  </td><td>-4.786344579571193  </td><td>1.0067476111791618   </td><td>-0.7151519779660453  </td><td>-1.4951848954073963  </td><td>1.3313171627580267   </td><td>-0.4889261787103475  </td><td>0.6259383548231089   </td><td>-0.16165247668573546 </td><td>0.2255682610421509   </td><td>0.5743645276451896   </td><td>-1.4358515523836348  </td><td>2.0639526664755015   </td><td>0.29249409540248245  </td><td>-0.31755275349190526 </td><td>-0.2821728651164751 </td><td>-2.267981318519364   </td><td>-0.17252657702135513 </td><td>0.3455143674745985   </td><td>3.0191111695124317   </td><td>-0.4222238090706349  </td><td>0.5704552739787928   </td><td>-0.5417602707950282  </td><td>-0.521478598839911   </td><td>0.8845699483640496   </td><td>-0.6540607416317765  </td><td>0.2808614780217518   </td><td>3.4120983269508667  </td><td>0.14655150654095234  </td><td>-0.7593980234724262  </td><td>-2.6547555840167063  </td><td>7.184908805535083    </td><td>-0.7975688815383235  </td><td>1.906533595107648    </td><td>1.509885126991272    </td></tr>\n",
              "<tr><td>7      </td><td>0.0                </td><td>-7.935029537691399     </td><td>-3.3431403141007743   </td><td>5.890388384283123    </td><td>-0.42818836877558625  </td><td>-1.0693686353821483   </td><td>1.548684902794834     </td><td>-2.3266926551070615   </td><td>-1.4807962689374     </td><td>0.112256782259812    </td><td>-0.19815756811714785  </td><td>-0.5901314744270117  </td><td>0.8084925139132075   </td><td>-0.13244175469083838  </td><td>-0.11198520436300038 </td><td>2.10569710201375     </td><td>-1.046848579552157   </td><td>-0.9433486739998682 </td><td>-0.05261728968082959 </td><td>0.02845019082302064  </td><td>-1.0888222452533307  </td><td>1.6445637771070372   </td><td>1.85166901074433     </td><td>-1.103765812215729   </td><td>-1.7324859163745017  </td><td>-0.8446908592598192  </td><td>-1.8068021678009352  </td><td>2.7329530254091883   </td><td>0.8292466732125711   </td><td>-1.3266673886597424  </td><td>0.6814601754027639   </td><td>-0.851351886854518  </td><td>0.26936594806019354  </td><td>1.1556277361189795   </td><td>0.11560898675429646  </td><td>-0.871847902931407   </td><td>0.18497825657393513  </td><td>-0.5982262161888734  </td><td>0.026343154658754284 </td><td>1.266587755036395    </td><td>0.016387507771021024 </td><td>0.8024552430463407   </td><td>-1.345703262372342   </td><td>-0.16843096826630238</td><td>-0.759450849512213   </td><td>0.6734734919590689   </td><td>-0.10430690083543297 </td><td>0.743695108182291    </td><td>0.09633837022769376  </td><td>0.25100827233809203  </td><td>0.3845952443293856   </td></tr>\n",
              "<tr><td>8      </td><td>0.0                </td><td>7.620565996267606      </td><td>0.05173724127867553   </td><td>0.583996268229447    </td><td>-1.0635320751744397   </td><td>-0.8774601598561652   </td><td>-1.92125625528966     </td><td>0.9683224928121684    </td><td>-4.288805942722747   </td><td>1.180997564740151    </td><td>-0.20785954779890317  </td><td>1.0381014213768789   </td><td>-1.517812613070049   </td><td>-0.22583710579035376  </td><td>0.13421190193638732  </td><td>-1.062561577348192   </td><td>0.3707137528577778   </td><td>0.4955539900522326  </td><td>-1.1198773694377029  </td><td>-1.8912675780734145  </td><td>1.6383800209685404   </td><td>0.3028022176461069   </td><td>-1.0465078105179155  </td><td>-0.1572085808333635  </td><td>-0.3554331458891171  </td><td>-1.674923317264356   </td><td>-0.6451155370480248  </td><td>-3.737274417862002   </td><td>0.08573986118381127  </td><td>0.7122022810715979   </td><td>1.3125285594470495   </td><td>-1.967286699422427  </td><td>-0.1593900789168517  </td><td>-1.0239031718340663  </td><td>-0.06850662505323837 </td><td>0.756334739244309    </td><td>-0.07811927550480485 </td><td>-1.8088364617072863  </td><td>-0.14801592024216031 </td><td>-0.4221003486164283  </td><td>-1.2044490441412858  </td><td>0.23231635660623007  </td><td>0.587602732680059    </td><td>-1.0333209677147288 </td><td>-0.4497505664110196  </td><td>-0.22149926919395385 </td><td>-0.38289902585633    </td><td>-0.05295136490090948 </td><td>0.35464167937678637  </td><td>0.5242863225523211   </td><td>-0.6376885707367982  </td></tr>\n",
              "<tr><td>9      </td><td>0.0                </td><td>9.861863528929598      </td><td>6.65250363118258      </td><td>-0.6165423781293091  </td><td>-1.006417232013138    </td><td>-0.34111720042681937  </td><td>-3.431409667622786    </td><td>1.6296302668595697    </td><td>-1.7423276506700365  </td><td>-0.06114621543955773 </td><td>0.07411895938950347   </td><td>0.21338816005831385  </td><td>-0.3767661152920073  </td><td>-0.3345054456287642   </td><td>0.32177818322772744  </td><td>-1.7770513588217849  </td><td>1.002825179101558    </td><td>1.7998095030505044  </td><td>-1.2583759669164711  </td><td>-1.5086012005196625  </td><td>0.36441457474874944  </td><td>-0.2444752397984986  </td><td>-0.7141971881781015  </td><td>-2.043460334090002   </td><td>-0.27147825812355153 </td><td>-0.02989348691913005 </td><td>-1.745030083902524   </td><td>0.7275123651207417   </td><td>0.17963148663539005  </td><td>-1.1989941557837431  </td><td>-0.14273715122303496 </td><td>1.2695831208544643  </td><td>-2.476012575468526   </td><td>0.8545770778141998   </td><td>1.5040639992108873   </td><td>0.5122758646994783   </td><td>0.35960560785325946  </td><td>2.419843100956365    </td><td>-1.2371885790900654  </td><td>-1.544992131973365   </td><td>-1.779263382422994   </td><td>1.49866469648953     </td><td>1.7422454337495217   </td><td>0.905135959014325   </td><td>-0.8642485077139533  </td><td>-0.37411516083911434 </td><td>0.7092176539066712   </td><td>-0.06681556454680572 </td><td>-0.5301975456172673  </td><td>-0.24137002645598624 </td><td>1.0783120013030878   </td></tr>\n",
              "</tbody>\n",
              "</table>"
            ]
          },
          "metadata": {
            "tags": []
          }
        }
      ]
    },
    {
      "metadata": {
        "id": "og0-8gw0pccP",
        "colab_type": "code",
        "colab": {}
      },
      "cell_type": "code",
      "source": [
        "target = \"C1\"\n",
        "x = df.columns\n",
        "x.remove(target)\n",
        "\n",
        "df[target] = df[target].asfactor()"
      ],
      "execution_count": 0,
      "outputs": []
    },
    {
      "metadata": {
        "id": "ro7xsnFipccR",
        "colab_type": "code",
        "colab": {},
        "outputId": "a55596e9-9aed-4fe0-8c40-05d75ed6e44a"
      },
      "cell_type": "code",
      "source": [
        "aml = H2OAutoML(max_models = 10, seed = 1)\n",
        "aml.train(x = x, y = target, training_frame = df)"
      ],
      "execution_count": 0,
      "outputs": [
        {
          "output_type": "stream",
          "text": [
            "AutoML progress: |████████████████████████████████████████████████████████| 100%\n"
          ],
          "name": "stdout"
        }
      ]
    },
    {
      "metadata": {
        "id": "xxY_SdBcpccT",
        "colab_type": "code",
        "colab": {},
        "outputId": "1ea863ee-819b-4af2-a599-4cdd003af435"
      },
      "cell_type": "code",
      "source": [
        "lb = aml.leaderboard\n",
        "lb.head()"
      ],
      "execution_count": 0,
      "outputs": [
        {
          "output_type": "display_data",
          "data": {
            "text/html": [
              "<table>\n",
              "<thead>\n",
              "<tr><th>model_id                                           </th><th style=\"text-align: right;\">     auc</th><th style=\"text-align: right;\">  logloss</th><th style=\"text-align: right;\">  mean_per_class_error</th><th style=\"text-align: right;\">    rmse</th><th style=\"text-align: right;\">      mse</th></tr>\n",
              "</thead>\n",
              "<tbody>\n",
              "<tr><td>StackedEnsemble_AllModels_AutoML_20190426_101725   </td><td style=\"text-align: right;\">0.91355 </td><td style=\"text-align: right;\"> 0.288122</td><td style=\"text-align: right;\">              0.178307</td><td style=\"text-align: right;\">0.297659</td><td style=\"text-align: right;\">0.0886006</td></tr>\n",
              "<tr><td>StackedEnsemble_BestOfFamily_AutoML_20190426_101725</td><td style=\"text-align: right;\">0.913512</td><td style=\"text-align: right;\"> 0.288339</td><td style=\"text-align: right;\">              0.179979</td><td style=\"text-align: right;\">0.297725</td><td style=\"text-align: right;\">0.0886399</td></tr>\n",
              "<tr><td>DeepLearning_1_AutoML_20190426_101725              </td><td style=\"text-align: right;\">0.912197</td><td style=\"text-align: right;\"> 0.279479</td><td style=\"text-align: right;\">              0.178243</td><td style=\"text-align: right;\">0.296423</td><td style=\"text-align: right;\">0.0878666</td></tr>\n",
              "<tr><td>GBM_5_AutoML_20190426_101725                       </td><td style=\"text-align: right;\">0.877193</td><td style=\"text-align: right;\"> 0.324902</td><td style=\"text-align: right;\">              0.225712</td><td style=\"text-align: right;\">0.321842</td><td style=\"text-align: right;\">0.103583 </td></tr>\n",
              "<tr><td>GBM_2_AutoML_20190426_101725                       </td><td style=\"text-align: right;\">0.874266</td><td style=\"text-align: right;\"> 0.328427</td><td style=\"text-align: right;\">              0.224152</td><td style=\"text-align: right;\">0.323924</td><td style=\"text-align: right;\">0.104927 </td></tr>\n",
              "<tr><td>GBM_1_AutoML_20190426_101725                       </td><td style=\"text-align: right;\">0.873143</td><td style=\"text-align: right;\"> 0.330217</td><td style=\"text-align: right;\">              0.227429</td><td style=\"text-align: right;\">0.324796</td><td style=\"text-align: right;\">0.105492 </td></tr>\n",
              "<tr><td>GBM_4_AutoML_20190426_101725                       </td><td style=\"text-align: right;\">0.87144 </td><td style=\"text-align: right;\"> 0.336587</td><td style=\"text-align: right;\">              0.224452</td><td style=\"text-align: right;\">0.328184</td><td style=\"text-align: right;\">0.107704 </td></tr>\n",
              "<tr><td>GBM_3_AutoML_20190426_101725                       </td><td style=\"text-align: right;\">0.871401</td><td style=\"text-align: right;\"> 0.332044</td><td style=\"text-align: right;\">              0.224869</td><td style=\"text-align: right;\">0.325936</td><td style=\"text-align: right;\">0.106234 </td></tr>\n",
              "<tr><td>GBM_grid_1_AutoML_20190426_101725_model_1          </td><td style=\"text-align: right;\">0.843185</td><td style=\"text-align: right;\"> 0.477562</td><td style=\"text-align: right;\">              0.249576</td><td style=\"text-align: right;\">0.388383</td><td style=\"text-align: right;\">0.150841 </td></tr>\n",
              "<tr><td>XRT_1_AutoML_20190426_101725                       </td><td style=\"text-align: right;\">0.840647</td><td style=\"text-align: right;\"> 0.370153</td><td style=\"text-align: right;\">              0.24339 </td><td style=\"text-align: right;\">0.34241 </td><td style=\"text-align: right;\">0.117245 </td></tr>\n",
              "</tbody>\n",
              "</table>"
            ]
          },
          "metadata": {
            "tags": []
          }
        },
        {
          "output_type": "execute_result",
          "data": {
            "text/plain": [
              ""
            ]
          },
          "metadata": {
            "tags": []
          },
          "execution_count": 39
        }
      ]
    },
    {
      "metadata": {
        "id": "cRQ96DggpccV",
        "colab_type": "code",
        "colab": {}
      },
      "cell_type": "code",
      "source": [
        "# Get model ids for all models in the AutoML Leaderboard\n",
        "model_ids = list(aml.leaderboard['model_id'].as_data_frame().iloc[:,0])\n",
        "# Get the \"All Models\" Stacked Ensemble model\n",
        "se = h2o.get_model([mid for mid in model_ids if \"StackedEnsemble_AllModels\" in mid][0])\n",
        "# Get the Stacked Ensemble metalearner model\n",
        "metalearner = h2o.get_model(se.metalearner()['name'])"
      ],
      "execution_count": 0,
      "outputs": []
    },
    {
      "metadata": {
        "id": "EHoNkdxdpccW",
        "colab_type": "code",
        "colab": {},
        "outputId": "3bdf157c-fcf0-45fd-e130-be50798c588e"
      },
      "cell_type": "code",
      "source": [
        "metalearner.coef_norm()"
      ],
      "execution_count": 0,
      "outputs": [
        {
          "output_type": "execute_result",
          "data": {
            "text/plain": [
              "{'Intercept': -2.1354389081821554,\n",
              " 'DeepLearning_1_AutoML_20190426_101725': 1.2108473913473174,\n",
              " 'GBM_5_AutoML_20190426_101725': 0.17319244550892696,\n",
              " 'GBM_2_AutoML_20190426_101725': 0.03868143036182129,\n",
              " 'GBM_1_AutoML_20190426_101725': 0.06046163064025611,\n",
              " 'GBM_4_AutoML_20190426_101725': 0.0,\n",
              " 'GBM_3_AutoML_20190426_101725': 0.026420840628883946,\n",
              " 'GBM_grid_1_AutoML_20190426_101725_model_1': 0.17457325257350761,\n",
              " 'XRT_1_AutoML_20190426_101725': 0.1319027096570074,\n",
              " 'DRF_1_AutoML_20190426_101725': 0.039345136158161154,\n",
              " 'GLM_grid_1_AutoML_20190426_101725_model_1': 0.0}"
            ]
          },
          "metadata": {
            "tags": []
          },
          "execution_count": 41
        }
      ]
    },
    {
      "metadata": {
        "id": "2mLTNLHmpccY",
        "colab_type": "code",
        "colab": {},
        "outputId": "5857f08a-06f7-4b71-be12-818509f05476"
      },
      "cell_type": "code",
      "source": [
        "%matplotlib inline\n",
        "metalearner.std_coef_plot()"
      ],
      "execution_count": 0,
      "outputs": [
        {
          "output_type": "stream",
          "text": [
            "/home/pavel/anaconda3/envs/py365/lib/python3.6/site-packages/matplotlib/cbook/deprecation.py:107: MatplotlibDeprecationWarning: Passing one of 'on', 'true', 'off', 'false' as a boolean is deprecated; use an actual boolean (True/False) instead.\n",
            "  warnings.warn(message, mplDeprecation, stacklevel=1)\n"
          ],
          "name": "stderr"
        },
        {
          "output_type": "display_data",
          "data": {
            "image/png": "[encoded data removed]",
            "text/plain": [
              "<Figure size 1008x720 with 1 Axes>"
            ]
          },
          "metadata": {
            "tags": [],
            "needs_background": "light"
          }
        }
      ]
    }
  ]
}