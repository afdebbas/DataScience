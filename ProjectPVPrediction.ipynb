{
  "nbformat": 4,
  "nbformat_minor": 0,
  "metadata": {
    "colab": {
      "name": "ProjectPVPrediction",
      "version": "0.3.2",
      "provenance": [],
      "collapsed_sections": [],
      "include_colab_link": true
    },
    "kernelspec": {
      "name": "python3",
      "display_name": "Python 3"
    },
    "accelerator": "GPU"
  },
  "cells": [
    {
      "cell_type": "markdown",
      "metadata": {
        "id": "view-in-github",
        "colab_type": "text"
      },
      "source": [
        "<a href=\"https://colab.research.google.com/github/afdebbas/DataScience/blob/master/ProjectPVPrediction.ipynb\" target=\"_parent\"><img src=\"https://colab.research.google.com/assets/colab-badge.svg\" alt=\"Open In Colab\"/></a>"
      ]
    },
    {
      "metadata": {
        "id": "8tCbY-1_YNiP",
        "colab_type": "text"
      },
      "cell_type": "markdown",
      "source": [
        "# Import Libraries"
      ]
    },
    {
      "metadata": {
        "id": "GVxUIMwbIlbm",
        "colab_type": "code",
        "colab": {}
      },
      "cell_type": "code",
      "source": [
        "import keras\n",
        "import pandas as pd\n",
        "import numpy as np \n",
        "from google.colab import files\n",
        "\n",
        "#modeling\n",
        "import xgboost as xgb\n",
        "from xgboost.sklearn import XGBRegressor\n",
        "from sklearn.model_selection import GridSearchCV\n",
        "\n",
        "# preprocessing\n",
        "from sklearn import preprocessing\n",
        "from sklearn.model_selection import train_test_split\n",
        "from sklearn.preprocessing import LabelEncoder\n",
        "from sklearn.preprocessing import StandardScaler\n",
        "\n",
        "#prediction and Classification Report\n",
        "from sklearn.metrics import explained_variance_score\n",
        "\n",
        "from sklearn.utils import shuffle\n",
        "from sklearn.model_selection import KFold\n",
        "from sklearn.metrics import make_scorer, mean_squared_error\n",
        "\n",
        "from xgboost import plot_importance\n",
        "from matplotlib import pyplot\n"
      ],
      "execution_count": 0,
      "outputs": []
    },
    {
      "metadata": {
        "id": "LfuXj2e8JTDd",
        "colab_type": "code",
        "colab": {
          "resources": {
            "http://localhost:8080/nbextensions/google.colab/files.js": {
              "data": "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",
              "ok": true,
              "headers": [
                [
                  "content-type",
                  "application/javascript"
                ]
              ],
              "status": 200,
              "status_text": "OK"
            }
          },
          "base_uri": "https://localhost:8080/",
          "height": 75
        },
        "outputId": "f4c8e7f5-3ac1-4adc-b90f-2690305e2d7b"
      },
      "cell_type": "code",
      "source": [
        "\n",
        "\n",
        "uploaded = files.upload()\n"
      ],
      "execution_count": 0,
      "outputs": [
        {
          "output_type": "display_data",
          "data": {
            "text/html": [
              "\n",
              "     <input type=\"file\" id=\"files-f9b35125-c8a6-40b9-bccd-b280b7b9446f\" name=\"files[]\" multiple disabled />\n",
              "     <output id=\"result-f9b35125-c8a6-40b9-bccd-b280b7b9446f\">\n",
              "      Upload widget is only available when the cell has been executed in the\n",
              "      current browser session. Please rerun this cell to enable.\n",
              "      </output>\n",
              "      <script src=\"/nbextensions/google.colab/files.js\"></script> "
            ],
            "text/plain": [
              "<IPython.core.display.HTML object>"
            ]
          },
          "metadata": {
            "tags": []
          }
        },
        {
          "output_type": "stream",
          "text": [
            "Saving PlannedValueData.csv to PlannedValueData.csv\n"
          ],
          "name": "stdout"
        }
      ]
    },
    {
      "metadata": {
        "id": "teoWi2IMYRLz",
        "colab_type": "text"
      },
      "cell_type": "markdown",
      "source": [
        "# Data Preparation"
      ]
    },
    {
      "metadata": {
        "id": "4YF_V_9WLLuC",
        "colab_type": "code",
        "colab": {}
      },
      "cell_type": "code",
      "source": [
        "#Read the file with Email Body part\n",
        "df=pd.read_csv(\"PlannedValueData.csv\",encoding='utf-8')\n",
        "df = df.fillna(\"0\")\n",
        "\n",
        "lb_make = LabelEncoder()\n",
        "df['ClientName'] = lb_make.fit_transform(df['ClientName'])\n",
        "df['City'] = lb_make.fit_transform(df['City'])\n",
        "df['CountryName'] = lb_make.fit_transform(df['CountryName'])\n",
        "df['ProjectDirectors'] = lb_make.fit_transform(df['ProjectDirectors'])\n",
        "df['AreaName'] = lb_make.fit_transform(df['AreaName'])\n",
        "df['ProjectAreaCode'] = lb_make.fit_transform(df['ProjectAreaCode'])\n",
        "\n",
        "df = df.apply(pd.to_numeric)\n",
        "\n"
      ],
      "execution_count": 0,
      "outputs": []
    },
    {
      "metadata": {
        "id": "N2R4gqvWTuhW",
        "colab_type": "code",
        "colab": {}
      },
      "cell_type": "code",
      "source": [
        "\n",
        "y = df.Budgetspentpercentage\n",
        "x = df.drop('Budgetspentpercentage', axis=1)\n",
        "\n",
        "train_X, test_X, train_Y, test_Y = train_test_split(x, y, test_size=0.25, random_state=87)\n"
      ],
      "execution_count": 0,
      "outputs": []
    },
    {
      "metadata": {
        "id": "b2hvt4wWf6i1",
        "colab_type": "code",
        "colab": {
          "base_uri": "https://localhost:8080/",
          "height": 332
        },
        "outputId": "272255a1-49cb-442f-9445-433a1d0f17c0"
      },
      "cell_type": "code",
      "source": [
        "#train_X_Scaled = preprocessing.scale(train_X)\n",
        "#test_X_Scaled = preprocessing.scale(test_X)\n",
        "\n",
        "\n"
      ],
      "execution_count": 38,
      "outputs": [
        {
          "output_type": "stream",
          "text": [
            "[[ 0.87487079  0.47576758  0.27853415 ...  0.66613202  0.57797023\n",
            "   0.72655378]\n",
            " [ 0.52598814  0.0832301   0.10167956 ... -1.20460274 -1.37238214\n",
            "   0.72655378]\n",
            " [-1.21842512  0.11084468  0.88720037 ...  1.39815866  1.39061705\n",
            "   0.72655378]\n",
            " ...\n",
            " [-0.86954246 -0.28624428 -0.34082157 ... -1.20460274 -1.37238214\n",
            "  -1.44275917]\n",
            " [ 0.87487079  0.81215742  0.5094479  ...  0.01544166  0.00911745\n",
            "   0.72655378]\n",
            " [-0.86954246 -0.26027358 -0.3108351  ... -0.79792127 -0.47847064\n",
            "   0.78364097]]\n"
          ],
          "name": "stdout"
        },
        {
          "output_type": "stream",
          "text": [
            "/usr/local/lib/python3.6/dist-packages/ipykernel_launcher.py:1: DataConversionWarning: Data with input dtype int64, float64 were all converted to float64 by the scale function.\n",
            "  \"\"\"Entry point for launching an IPython kernel.\n",
            "/usr/local/lib/python3.6/dist-packages/ipykernel_launcher.py:2: DataConversionWarning: Data with input dtype int64, float64 were all converted to float64 by the scale function.\n",
            "  \n"
          ],
          "name": "stderr"
        }
      ]
    },
    {
      "metadata": {
        "id": "8kZnSXLoVxr0",
        "colab_type": "code",
        "colab": {}
      },
      "cell_type": "code",
      "source": [
        "#Read the file with Email Body part\n",
        "dfValidation = pd.read_csv(\"PlannedValueValidationData.csv\",encoding='utf-8')\n",
        "dfValidation = dfValidation.fillna(\"0\")\n",
        "#dfValidation = dfValidation.drop('ProjectID', axis=1)\n",
        "\n",
        "dfValidation['ClientName'] = lb_make.fit_transform(dfValidation['ClientName'])\n",
        "dfValidation['City'] = lb_make.fit_transform(dfValidation['City'])\n",
        "dfValidation['CountryName'] = lb_make.fit_transform(dfValidation['CountryName'])\n",
        "dfValidation['ProjectDirectors'] = lb_make.fit_transform(dfValidation['ProjectDirectors'])\n",
        "dfValidation['AreaName'] = lb_make.fit_transform(dfValidation['AreaName'])\n",
        "dfValidation['ProjectAreaCode'] = lb_make.fit_transform(dfValidation['ProjectAreaCode'])\n",
        "\n",
        "dfValidation = dfValidation.apply(pd.to_numeric)\n",
        "\n",
        "#dfValidation['CPI'].values[:] = 0\n",
        "#dfValidation['TotalSpent'].values[:] = 0\n",
        "\n",
        "#dfValidation = dfValidation[dfValidation['ProjectDuration'] == 10]\n",
        "\n",
        "y_validation = dfValidation.Budgetspentpercentage\n",
        "x_validation = dfValidation.drop('Budgetspentpercentage', axis=1)\n",
        "\n",
        "\n",
        "#print(x_validation)"
      ],
      "execution_count": 0,
      "outputs": []
    },
    {
      "metadata": {
        "id": "ZQ5bQ7I0YUxS",
        "colab_type": "text"
      },
      "cell_type": "markdown",
      "source": [
        "# Modeling - XGBRegressor"
      ]
    },
    {
      "metadata": {
        "id": "lh5ypooAVIUz",
        "colab_type": "code",
        "colab": {}
      },
      "cell_type": "code",
      "source": [
        "xgb1 = XGBRegressor()\n",
        "parameters = {'nthread':[4], #when use hyperthread, xgboost may become slower\n",
        "              'objective':['reg:linear'],\n",
        "              'learning_rate': [ 0.1], #so called `eta` value\n",
        "              'max_depth': [6],\n",
        "              'min_child_weight': [4],\n",
        "              'silent': [1],\n",
        "              'subsample': [0.7],\n",
        "              'colsample_bytree': [0.6],\n",
        "              'n_estimators': [1000]}\n",
        "\n",
        "xgb_grid = GridSearchCV(xgb1,\n",
        "                        parameters,\n",
        "                        cv = 2,\n",
        "                        n_jobs = 5,\n",
        "                        verbose=True)"
      ],
      "execution_count": 0,
      "outputs": []
    },
    {
      "metadata": {
        "id": "2zU4h2aAVLwk",
        "colab_type": "code",
        "colab": {
          "base_uri": "https://localhost:8080/",
          "height": 141
        },
        "outputId": "b4887743-d6a0-49ab-c6e9-9ccec1e082eb"
      },
      "cell_type": "code",
      "source": [
        "train_model = xgb_grid.fit(train_X, train_Y)\n",
        "\n",
        "\n",
        "print(xgb_grid.best_score_)\n",
        "print(xgb_grid.best_params_)"
      ],
      "execution_count": 46,
      "outputs": [
        {
          "output_type": "stream",
          "text": [
            "Fitting 2 folds for each of 1 candidates, totalling 2 fits\n"
          ],
          "name": "stdout"
        },
        {
          "output_type": "stream",
          "text": [
            "[Parallel(n_jobs=5)]: Using backend LokyBackend with 5 concurrent workers.\n",
            "[Parallel(n_jobs=5)]: Done   2 out of   2 | elapsed:  1.2min finished\n",
            "[Parallel(n_jobs=5)]: Done   2 out of   2 | elapsed:  1.2min remaining:    0.0s\n"
          ],
          "name": "stderr"
        },
        {
          "output_type": "stream",
          "text": [
            "0.9647896932788582\n",
            "{'colsample_bytree': 0.6, 'learning_rate': 0.1, 'max_depth': 6, 'min_child_weight': 4, 'n_estimators': 1000, 'nthread': 4, 'objective': 'reg:linear', 'silent': 1, 'subsample': 0.7}\n"
          ],
          "name": "stdout"
        }
      ]
    },
    {
      "metadata": {
        "id": "bgqWPFDibEgC",
        "colab_type": "text"
      },
      "cell_type": "markdown",
      "source": [
        ""
      ]
    },
    {
      "metadata": {
        "id": "8_kxpt_qZ0hW",
        "colab_type": "code",
        "colab": {
          "base_uri": "https://localhost:8080/",
          "height": 52
        },
        "outputId": "ef05ae63-005d-4d69-eeb9-ee719aa203b7"
      },
      "cell_type": "code",
      "source": [
        "pred = train_model.predict(test_X)\n",
        "\n",
        "print('\\nMean Square error\" ', mean_squared_error(test_Y,pred))\n",
        "\n"
      ],
      "execution_count": 42,
      "outputs": [
        {
          "output_type": "stream",
          "text": [
            "\n",
            "Mean Square error\"  71.93273229798226\n"
          ],
          "name": "stdout"
        }
      ]
    },
    {
      "metadata": {
        "id": "ymt9HWokYJxa",
        "colab_type": "text"
      },
      "cell_type": "markdown",
      "source": [
        "# Modeling - TensorFlow"
      ]
    },
    {
      "metadata": {
        "id": "A6k2WLsNhAp6",
        "colab_type": "code",
        "colab": {}
      },
      "cell_type": "code",
      "source": [
        "from keras.models import Sequential\n",
        "from keras.layers import Dense\n",
        "from keras.callbacks import EarlyStopping\n",
        "from keras.utils import to_categorical\n",
        "from keras.callbacks import ModelCheckpoint\n",
        "\n",
        "\n",
        "import matplotlib.pyplot as plt\n",
        "from sklearn.model_selection import cross_val_score, KFold"
      ],
      "execution_count": 0,
      "outputs": []
    },
    {
      "metadata": {
        "id": "vj0ufI3EhZ1W",
        "colab_type": "code",
        "colab": {}
      },
      "cell_type": "code",
      "source": [
        "\n",
        "y = df.Budgetspentpercentage\n",
        "x = df.drop('Budgetspentpercentage', axis=1)\n",
        "#x = df.drop('CPI', axis=1)\n",
        "#x = df.drop('TotalSpent', axis=1)\n",
        "\n"
      ],
      "execution_count": 0,
      "outputs": []
    },
    {
      "metadata": {
        "id": "Td1a2TV7iXz2",
        "colab_type": "code",
        "colab": {}
      },
      "cell_type": "code",
      "source": [
        "seed = 7\n",
        "test_size = 0.3\n",
        "train_X, test_X, train_Y, test_Y = train_test_split(x, y, test_size=test_size, random_state=seed)"
      ],
      "execution_count": 0,
      "outputs": []
    },
    {
      "metadata": {
        "id": "gJC2nqEdjFAv",
        "colab_type": "code",
        "colab": {}
      },
      "cell_type": "code",
      "source": [
        "# define and fit the final model\n",
        "def baseline_model():\n",
        "  \n",
        "  n_cols = train_X.shape[1]\n",
        "  \n",
        "  model = Sequential()\n",
        "  model.add(Dense(1024, input_dim=n_cols, activation='relu'))\n",
        "  model.add(Dense(512, activation='relu'))\n",
        "  model.add(Dense(1, activation='linear'))\n",
        "  model.compile(loss='mse', optimizer='adam', metrics=['mse','mae'])\n",
        "  \n",
        "  return model\n"
      ],
      "execution_count": 0,
      "outputs": []
    },
    {
      "metadata": {
        "id": "cZbvHQMTOuSp",
        "colab_type": "code",
        "colab": {
          "base_uri": "https://localhost:8080/",
          "height": 748
        },
        "outputId": "f7af723a-4e91-4624-a12b-3003b2d7b923"
      },
      "cell_type": "code",
      "source": [
        "filepath=\"nn_weights-{epoch:02d}.hdf5\"\n",
        "checkpoint = keras.callbacks.ModelCheckpoint(filepath, monitor='val_loss', verbose=0, \n",
        "                                             save_weights_only=False, save_best_only=False, mode='max')\n",
        "\n",
        "early_stop_crit = keras.callbacks.EarlyStopping(monitor='val_loss', min_delta=0, \n",
        "                                                patience=3, verbose=0, mode='auto')\n",
        "  \n",
        "model_callbacks = [early_stop_crit]\n",
        "model_callbacks.append(checkpoint)\n",
        "\n",
        "model = baseline_model()\n",
        "history = model.fit(train_X, train_Y, epochs=20, batch_size = 50,  verbose=1, validation_split=0.2, callbacks=model_callbacks)"
      ],
      "execution_count": 102,
      "outputs": [
        {
          "output_type": "stream",
          "text": [
            "Train on 72960 samples, validate on 18240 samples\n",
            "Epoch 1/20\n",
            "72960/72960 [==============================] - 11s 154us/step - loss: 5764452.9827 - mean_squared_error: 5764452.9827 - mean_absolute_error: 327.5943 - val_loss: 13302074.3946 - val_mean_squared_error: 13302074.3946 - val_mean_absolute_error: 1101.0655\n",
            "Epoch 2/20\n",
            "72960/72960 [==============================] - 9s 126us/step - loss: 1965655.5212 - mean_squared_error: 1965655.5212 - mean_absolute_error: 129.2158 - val_loss: 652.5821 - val_mean_squared_error: 652.5821 - val_mean_absolute_error: 12.3997\n",
            "Epoch 3/20\n",
            "72960/72960 [==============================] - 9s 126us/step - loss: 17851.3897 - mean_squared_error: 17851.3897 - mean_absolute_error: 24.2796 - val_loss: 60231.8951 - val_mean_squared_error: 60231.8951 - val_mean_absolute_error: 56.7951\n",
            "Epoch 4/20\n",
            "72960/72960 [==============================] - 9s 128us/step - loss: 114503.0269 - mean_squared_error: 114503.0269 - mean_absolute_error: 48.7469 - val_loss: 1524.4579 - val_mean_squared_error: 1524.4579 - val_mean_absolute_error: 10.0498\n",
            "Epoch 5/20\n",
            "72960/72960 [==============================] - 9s 127us/step - loss: 2123.7879 - mean_squared_error: 2123.7879 - mean_absolute_error: 9.4856 - val_loss: 317.9827 - val_mean_squared_error: 317.9827 - val_mean_absolute_error: 5.4619\n",
            "Epoch 6/20\n",
            "72960/72960 [==============================] - 9s 127us/step - loss: 959.5324 - mean_squared_error: 959.5324 - mean_absolute_error: 7.6550 - val_loss: 421.3078 - val_mean_squared_error: 421.3078 - val_mean_absolute_error: 11.5990\n",
            "Epoch 7/20\n",
            "72960/72960 [==============================] - 9s 127us/step - loss: 696.5346 - mean_squared_error: 696.5346 - mean_absolute_error: 7.2760 - val_loss: 1043.9736 - val_mean_squared_error: 1043.9736 - val_mean_absolute_error: 5.1519\n",
            "Epoch 8/20\n",
            "72960/72960 [==============================] - 9s 126us/step - loss: 185.8557 - mean_squared_error: 185.8557 - mean_absolute_error: 5.2061 - val_loss: 48.8573 - val_mean_squared_error: 48.8573 - val_mean_absolute_error: 3.3621\n",
            "Epoch 9/20\n",
            "72960/72960 [==============================] - 9s 125us/step - loss: 379.0380 - mean_squared_error: 379.0380 - mean_absolute_error: 7.1823 - val_loss: 154.5856 - val_mean_squared_error: 154.5856 - val_mean_absolute_error: 6.7206\n",
            "Epoch 10/20\n",
            "72960/72960 [==============================] - 9s 128us/step - loss: 149.4495 - mean_squared_error: 149.4495 - mean_absolute_error: 5.3047 - val_loss: 1647.2576 - val_mean_squared_error: 1647.2576 - val_mean_absolute_error: 7.0055\n",
            "Epoch 11/20\n",
            "72960/72960 [==============================] - 9s 124us/step - loss: 523.0486 - mean_squared_error: 523.0486 - mean_absolute_error: 8.0697 - val_loss: 64.6695 - val_mean_squared_error: 64.6695 - val_mean_absolute_error: 3.9600\n",
            "Epoch 12/20\n",
            "72960/72960 [==============================] - 9s 128us/step - loss: 398.7535 - mean_squared_error: 398.7535 - mean_absolute_error: 7.6698 - val_loss: 61.1171 - val_mean_squared_error: 61.1171 - val_mean_absolute_error: 4.2671\n",
            "Epoch 13/20\n",
            "72960/72960 [==============================] - 9s 122us/step - loss: 388.2734 - mean_squared_error: 388.2734 - mean_absolute_error: 6.7537 - val_loss: 162.7075 - val_mean_squared_error: 162.7075 - val_mean_absolute_error: 6.1831\n",
            "Epoch 14/20\n",
            "72960/72960 [==============================] - 9s 128us/step - loss: 331.4411 - mean_squared_error: 331.4411 - mean_absolute_error: 7.5172 - val_loss: 54.0746 - val_mean_squared_error: 54.0746 - val_mean_absolute_error: 3.9398\n",
            "Epoch 15/20\n",
            "72960/72960 [==============================] - 10s 131us/step - loss: 241.6422 - mean_squared_error: 241.6422 - mean_absolute_error: 5.6589 - val_loss: 140.5953 - val_mean_squared_error: 140.5953 - val_mean_absolute_error: 3.7876\n",
            "Epoch 16/20\n",
            "72960/72960 [==============================] - 9s 127us/step - loss: 119.3592 - mean_squared_error: 119.3592 - mean_absolute_error: 5.3259 - val_loss: 80.5915 - val_mean_squared_error: 80.5915 - val_mean_absolute_error: 4.1789\n",
            "Epoch 17/20\n",
            "72960/72960 [==============================] - 9s 125us/step - loss: 223.0003 - mean_squared_error: 223.0003 - mean_absolute_error: 5.5970 - val_loss: 127.1781 - val_mean_squared_error: 127.1781 - val_mean_absolute_error: 5.3178\n",
            "Epoch 18/20\n",
            "72960/72960 [==============================] - 9s 128us/step - loss: 150.3766 - mean_squared_error: 150.3766 - mean_absolute_error: 5.4664 - val_loss: 328.0469 - val_mean_squared_error: 328.0469 - val_mean_absolute_error: 10.2842\n",
            "Epoch 19/20\n",
            "72960/72960 [==============================] - 9s 127us/step - loss: 143.1110 - mean_squared_error: 143.1110 - mean_absolute_error: 5.4972 - val_loss: 4384.0149 - val_mean_squared_error: 4384.0149 - val_mean_absolute_error: 7.3209\n",
            "Epoch 20/20\n",
            "72960/72960 [==============================] - 9s 127us/step - loss: 243.5430 - mean_squared_error: 243.5430 - mean_absolute_error: 5.1596 - val_loss: 42.8001 - val_mean_squared_error: 42.8001 - val_mean_absolute_error: 3.9914\n"
          ],
          "name": "stdout"
        }
      ]
    },
    {
      "metadata": {
        "id": "OiSU87A9QEgN",
        "colab_type": "code",
        "colab": {
          "base_uri": "https://localhost:8080/",
          "height": 191
        },
        "outputId": "7cd3493f-ec44-4eba-8ab2-41a8a8491d07"
      },
      "cell_type": "code",
      "source": [
        "[history.history['loss'][0:5], history.history['mean_squared_error'][0:5]]"
      ],
      "execution_count": 103,
      "outputs": [
        {
          "output_type": "execute_result",
          "data": {
            "text/plain": [
              "[[5764452.982674381,\n",
              "  1965655.5212099769,\n",
              "  17851.389720001764,\n",
              "  114503.02691698074,\n",
              "  2123.7878979549073],\n",
              " [5764452.982674381,\n",
              "  1965655.5212099769,\n",
              "  17851.389720001764,\n",
              "  114503.02691698074,\n",
              "  2123.7878979549073]]"
            ]
          },
          "metadata": {
            "tags": []
          },
          "execution_count": 103
        }
      ]
    },
    {
      "metadata": {
        "id": "gruaiuP0Pmf1",
        "colab_type": "code",
        "colab": {}
      },
      "cell_type": "code",
      "source": [
        "temp_test_model  = baseline_model()\n",
        "test_over_time = []\n",
        "for i in range(len(history.history['mean_squared_error'])):\n",
        "    i+=1\n",
        "    temp_test_model.load_weights(\"nn_weights-%02d.hdf5\" % i)\n",
        "    scores = temp_test_model.evaluate(test_X, test_Y, verbose=0)\n",
        "    # 0 is loss; 1 is accuracy\n",
        "    test_over_time.append(scores)\n"
      ],
      "execution_count": 0,
      "outputs": []
    },
    {
      "metadata": {
        "id": "VBql7TBFSwNu",
        "colab_type": "code",
        "colab": {
          "base_uri": "https://localhost:8080/",
          "height": 295
        },
        "outputId": "8c61a0ff-f9a5-4909-d81a-49689bfea731"
      },
      "cell_type": "code",
      "source": [
        "fig, (ax1, ax2) = plt.subplots(2, 1)\n",
        "ax1.plot(range(len(history.history['loss'])), history.history['loss'],linestyle='-', color='blue',label='Training', lw=2)\n",
        "ax1.plot(range(len(np.array(test_over_time)[:,0])), np.array(test_over_time)[:,0], linestyle='-', color='green',label='Test', lw=2)\n",
        "ax2.plot(range(len(history.history['mean_squared_error'])), history.history['mean_squared_error'],linestyle='-', color='blue',label='Training', lw=2)\n",
        "ax2.plot(range(len(np.array(test_over_time)[:,1])), np.array(test_over_time)[:,1], linestyle='-', color='green',label='Test', lw=2)\n",
        "leg = ax1.legend(bbox_to_anchor=(0.7, 0.9), loc=2, borderaxespad=0.,fontsize=13)\n",
        "ax1.set_xticklabels('')\n",
        "#ax1.set_yscale('log')\n",
        "ax2.set_xlabel('# Epochs',fontsize=14)\n",
        "ax1.set_ylabel('Loss',fontsize=14)\n",
        "ax2.set_ylabel('MSE',fontsize=14)\n",
        "plt.show()"
      ],
      "execution_count": 105,
      "outputs": [
        {
          "output_type": "display_data",
          "data": {
            "image/png": "[encoded data removed]",
            "text/plain": [
              "<Figure size 432x288 with 2 Axes>"
            ]
          },
          "metadata": {
            "tags": []
          }
        }
      ]
    },
    {
      "metadata": {
        "id": "rbdexh3c1jOc",
        "colab_type": "code",
        "colab": {}
      },
      "cell_type": "code",
      "source": [
        "scaler = StandardScaler()\n",
        "\n",
        "model_scaled = baseline_model()\n",
        "history_unscaled = model_scaled.fit(scaler.fit_transform(train_X), train_Y, epochs=50, batch_size = 50,  verbose=1, validation_split=0.2, callbacks=model_callbacks, shuffle=True)"
      ],
      "execution_count": 0,
      "outputs": []
    },
    {
      "metadata": {
        "id": "9kcLpj0MjAv4",
        "colab_type": "code",
        "colab": {
          "base_uri": "https://localhost:8080/",
          "height": 507
        },
        "outputId": "8e8fbe11-18fa-49f3-c37c-83ad4ce8e220"
      },
      "cell_type": "code",
      "source": [
        "\n",
        "fig, (ax1, ax2) = plt.subplots(2, 1)\n",
        "ax1.plot(range(len(history['loss'])), history['loss'], linestyle='-', color='blue',label='Training', lw=2)\n",
        "ax1.plot(range(len(history['val_loss'])), history['val_loss'], linestyle='-', color='purple',label='Validation', lw=2)\n",
        "ax1.plot(range(len(history['test_loss'])), history['test_loss'],linestyle='-', color='green',label='Test', lw=2)\n",
        "ax1.plot(range(len(history_scaled['loss'])), history_scaled['loss'], linestyle='-', color='deepskyblue',label='Training (Standardised)', lw=2)\n",
        "ax1.plot(range(len(history_scaled['val_loss'])), history_scaled['val_loss'], linestyle='-', color='mediumpurple',label='Validation (Standardised)', lw=2)\n",
        "ax1.plot(range(len(history_scaled['test_loss'])), history_scaled['test_loss'], linestyle='-', color='lightgreen',label='Test (Standardised)', lw=2)\n",
        "ax2.plot(range(len(history['mean_squared_error'])), history['mean_squared_error'], linestyle='-', color='blue',label='Training', lw=2)\n",
        "ax2.plot(range(len(history['val_mse'])), history['val_mse'], linestyle='-', color='purple',label='Validation', lw=2)\n",
        "ax2.plot(range(len(history['test_mse'])), history['test_mse'],linestyle='-', color='green',label='Test', lw=2)\n",
        "ax2.plot(range(len(history_scaled['mean_squared_error'])), history_scaled['mean_squared_error'], linestyle='-', color='deepskyblue',label='Training (Standardised)', lw=2)\n",
        "ax2.plot(range(len(history_scaled['val_mse'])), history_scaled['val_mse'], linestyle='-', color='mediumpurple',label='Validation (Standardised)', lw=2)\n",
        "ax2.plot(range(len(history_scaled['test_mse'])), history_scaled['test_mse'], linestyle='-', color='lightgreen',label='Test (Standardised)', lw=2)\n",
        "leg = ax1.legend(bbox_to_anchor=(0.5, 0.95), loc=2, borderaxespad=0.,fontsize=13)\n",
        "ax1.set_xticklabels('')\n",
        "ax2.set_xlabel('# Epochs',fontsize=14)\n",
        "ax1.set_ylabel('Loss',fontsize=14)\n",
        "ax2.set_ylabel('MSE',fontsize=14)\n",
        "plt.tight_layout()\n",
        "plt.show()"
      ],
      "execution_count": 109,
      "outputs": [
        {
          "output_type": "error",
          "ename": "TypeError",
          "evalue": "ignored",
          "traceback": [
            "\u001b[0;31m---------------------------------------------------------------------------\u001b[0m",
            "\u001b[0;31mTypeError\u001b[0m                                 Traceback (most recent call last)",
            "\u001b[0;32m<ipython-input-109-8d9a4c534ab6>\u001b[0m in \u001b[0;36m<module>\u001b[0;34m()\u001b[0m\n\u001b[1;32m      1\u001b[0m \u001b[0;34m\u001b[0m\u001b[0m\n\u001b[1;32m      2\u001b[0m \u001b[0mfig\u001b[0m\u001b[0;34m,\u001b[0m \u001b[0;34m(\u001b[0m\u001b[0max1\u001b[0m\u001b[0;34m,\u001b[0m \u001b[0max2\u001b[0m\u001b[0;34m)\u001b[0m \u001b[0;34m=\u001b[0m \u001b[0mplt\u001b[0m\u001b[0;34m.\u001b[0m\u001b[0msubplots\u001b[0m\u001b[0;34m(\u001b[0m\u001b[0;36m2\u001b[0m\u001b[0;34m,\u001b[0m \u001b[0;36m1\u001b[0m\u001b[0;34m)\u001b[0m\u001b[0;34m\u001b[0m\u001b[0;34m\u001b[0m\u001b[0m\n\u001b[0;32m----> 3\u001b[0;31m \u001b[0max1\u001b[0m\u001b[0;34m.\u001b[0m\u001b[0mplot\u001b[0m\u001b[0;34m(\u001b[0m\u001b[0mrange\u001b[0m\u001b[0;34m(\u001b[0m\u001b[0mlen\u001b[0m\u001b[0;34m(\u001b[0m\u001b[0mhistory\u001b[0m\u001b[0;34m[\u001b[0m\u001b[0;34m'loss'\u001b[0m\u001b[0;34m]\u001b[0m\u001b[0;34m)\u001b[0m\u001b[0;34m)\u001b[0m\u001b[0;34m,\u001b[0m \u001b[0mhistory\u001b[0m\u001b[0;34m[\u001b[0m\u001b[0;34m'loss'\u001b[0m\u001b[0;34m]\u001b[0m\u001b[0;34m,\u001b[0m \u001b[0mlinestyle\u001b[0m\u001b[0;34m=\u001b[0m\u001b[0;34m'-'\u001b[0m\u001b[0;34m,\u001b[0m \u001b[0mcolor\u001b[0m\u001b[0;34m=\u001b[0m\u001b[0;34m'blue'\u001b[0m\u001b[0;34m,\u001b[0m\u001b[0mlabel\u001b[0m\u001b[0;34m=\u001b[0m\u001b[0;34m'Training'\u001b[0m\u001b[0;34m,\u001b[0m \u001b[0mlw\u001b[0m\u001b[0;34m=\u001b[0m\u001b[0;36m2\u001b[0m\u001b[0;34m)\u001b[0m\u001b[0;34m\u001b[0m\u001b[0;34m\u001b[0m\u001b[0m\n\u001b[0m\u001b[1;32m      4\u001b[0m \u001b[0max1\u001b[0m\u001b[0;34m.\u001b[0m\u001b[0mplot\u001b[0m\u001b[0;34m(\u001b[0m\u001b[0mrange\u001b[0m\u001b[0;34m(\u001b[0m\u001b[0mlen\u001b[0m\u001b[0;34m(\u001b[0m\u001b[0mhistory\u001b[0m\u001b[0;34m[\u001b[0m\u001b[0;34m'val_loss'\u001b[0m\u001b[0;34m]\u001b[0m\u001b[0;34m)\u001b[0m\u001b[0;34m)\u001b[0m\u001b[0;34m,\u001b[0m \u001b[0mhistory\u001b[0m\u001b[0;34m[\u001b[0m\u001b[0;34m'val_loss'\u001b[0m\u001b[0;34m]\u001b[0m\u001b[0;34m,\u001b[0m \u001b[0mlinestyle\u001b[0m\u001b[0;34m=\u001b[0m\u001b[0;34m'-'\u001b[0m\u001b[0;34m,\u001b[0m \u001b[0mcolor\u001b[0m\u001b[0;34m=\u001b[0m\u001b[0;34m'purple'\u001b[0m\u001b[0;34m,\u001b[0m\u001b[0mlabel\u001b[0m\u001b[0;34m=\u001b[0m\u001b[0;34m'Validation'\u001b[0m\u001b[0;34m,\u001b[0m \u001b[0mlw\u001b[0m\u001b[0;34m=\u001b[0m\u001b[0;36m2\u001b[0m\u001b[0;34m)\u001b[0m\u001b[0;34m\u001b[0m\u001b[0;34m\u001b[0m\u001b[0m\n\u001b[1;32m      5\u001b[0m \u001b[0max1\u001b[0m\u001b[0;34m.\u001b[0m\u001b[0mplot\u001b[0m\u001b[0;34m(\u001b[0m\u001b[0mrange\u001b[0m\u001b[0;34m(\u001b[0m\u001b[0mlen\u001b[0m\u001b[0;34m(\u001b[0m\u001b[0mhistory\u001b[0m\u001b[0;34m[\u001b[0m\u001b[0;34m'test_loss'\u001b[0m\u001b[0;34m]\u001b[0m\u001b[0;34m)\u001b[0m\u001b[0;34m)\u001b[0m\u001b[0;34m,\u001b[0m \u001b[0mhistory\u001b[0m\u001b[0;34m[\u001b[0m\u001b[0;34m'test_loss'\u001b[0m\u001b[0;34m]\u001b[0m\u001b[0;34m,\u001b[0m\u001b[0mlinestyle\u001b[0m\u001b[0;34m=\u001b[0m\u001b[0;34m'-'\u001b[0m\u001b[0;34m,\u001b[0m \u001b[0mcolor\u001b[0m\u001b[0;34m=\u001b[0m\u001b[0;34m'green'\u001b[0m\u001b[0;34m,\u001b[0m\u001b[0mlabel\u001b[0m\u001b[0;34m=\u001b[0m\u001b[0;34m'Test'\u001b[0m\u001b[0;34m,\u001b[0m \u001b[0mlw\u001b[0m\u001b[0;34m=\u001b[0m\u001b[0;36m2\u001b[0m\u001b[0;34m)\u001b[0m\u001b[0;34m\u001b[0m\u001b[0;34m\u001b[0m\u001b[0m\n",
            "\u001b[0;31mTypeError\u001b[0m: 'History' object is not subscriptable"
          ]
        },
        {
          "output_type": "display_data",
          "data": {
            "image/png": "[encoded data removed]",
            "text/plain": [
              "<Figure size 432x288 with 2 Axes>"
            ]
          },
          "metadata": {
            "tags": []
          }
        }
      ]
    },
    {
      "metadata": {
        "id": "Q-MJMZrBgi52",
        "colab_type": "code",
        "colab": {}
      },
      "cell_type": "code",
      "source": [
        ""
      ],
      "execution_count": 0,
      "outputs": []
    },
    {
      "metadata": {
        "id": "j7jHHoFEXgcQ",
        "colab_type": "code",
        "colab": {}
      },
      "cell_type": "code",
      "source": [
        ""
      ],
      "execution_count": 0,
      "outputs": []
    }
  ]
}